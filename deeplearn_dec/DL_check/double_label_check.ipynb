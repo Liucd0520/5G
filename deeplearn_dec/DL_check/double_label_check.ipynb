{
 "cells": [
  {
   "cell_type": "code",
   "execution_count": 1,
   "id": "f3ac2125-a44c-4a55-99d8-3dd495376d58",
   "metadata": {},
   "outputs": [],
   "source": [
    "import os\n",
    "import SimpleITK as sitk\n",
    "import glob\n",
    "import numpy as np"
   ]
  },
  {
   "cell_type": "code",
   "execution_count": 20,
   "id": "662e3f29-59f7-4763-a18e-0a6aeacf64ce",
   "metadata": {},
   "outputs": [
    {
     "data": {
      "text/plain": [
       "6"
      ]
     },
     "execution_count": 20,
     "metadata": {},
     "output_type": "execute_result"
    }
   ],
   "source": [
    "base_dir = '/app/liucd/deeplearn_dec/data/syf/new/add/'\n",
    "# base_dir = '/app/liucd/CODE/syf/data/data_pred/stage_2/'\n",
    "# base_dir = '/app/liucd/CODE/sd/data/data_pred/'\n",
    "# base_dir = '/app/liucd/CODE/xian/data/data_dec/'\n",
    "\n",
    "image_dir = 'ADC'\n",
    "imagereg_dir = 'ADC_Reg'\n",
    "label_dir = 'DWI_label/'\n",
    "# image_dir = 'DCE'\n",
    "# imagereg_dir = 'DCE_Reg'\n",
    "# label_dir = 'DCE_label'\n",
    "\n",
    "\n",
    "# image_paths = sorted(glob.glob(os.path.join(base_dir, image_dir, '*.nii.gz')))\n",
    "# imagereg_paths = sorted(glob.glob(os.path.join(base_dir, imagereg_dir, '*.nii.gz')))\n",
    "label_paths = sorted(glob.glob(os.path.join(base_dir, label_dir, '*.nii.gz')))\n",
    "len(label_paths)"
   ]
  },
  {
   "cell_type": "code",
   "execution_count": 23,
   "id": "14a3e2e9-084a-4f19-8411-4ff8941df12f",
   "metadata": {},
   "outputs": [
    {
     "name": "stdout",
     "output_type": "stream",
     "text": [
      "/app/liucd/deeplearn_dec/data/syf/new/add/DWI_label/2021_03_12_2608785_DWI.nii.gz\n"
     ]
    }
   ],
   "source": [
    "for label_path in  label_paths:\n",
    "    \n",
    "    label_arr = sitk.GetArrayFromImage(sitk.ReadImage(label_path))\n",
    "    dim1_max, dim2_max = label_arr.shape[1], label_arr.shape[2]\n",
    "    nonzero_dim = np.nonzero(label_arr)\n",
    "    x_min, x_max, y_min, y_max = nonzero_dim[1].min(), nonzero_dim[1].max(), nonzero_dim[2].min(), nonzero_dim[2].max()\n",
    "\n",
    "    \n",
    "    if (x_max - x_min) > 0.35 * dim1_max or  (y_max - y_min) > 0.35 * dim2_max:\n",
    "        print(label_path)\n",
    " "
   ]
  },
  {
   "cell_type": "code",
   "execution_count": null,
   "id": "193be262-82e9-45ff-884a-778505b046dc",
   "metadata": {},
   "outputs": [],
   "source": []
  },
  {
   "cell_type": "code",
   "execution_count": 16,
   "id": "e318ed9a-bd32-4a99-9454-f386b3574d32",
   "metadata": {},
   "outputs": [
    {
     "data": {
      "text/plain": [
       "(22, 16)"
      ]
     },
     "execution_count": 16,
     "metadata": {},
     "output_type": "execute_result"
    }
   ],
   "source": [
    "nonzero_last_dim[0].max(), nonzero_last_dim[0].min()"
   ]
  },
  {
   "cell_type": "raw",
   "id": "0d66c2e0-3f68-45d3-bc4a-5debd66b45a1",
   "metadata": {},
   "source": [
    "0.4  遵义\n",
    "/app/liucd/CODE/zunyi/data/data_299+33/DCE_labelReNew/2017_11_02_1365106_+C.nii.gz\n",
    "/app/liucd/CODE/zunyi/data/data_299+33/DCE_labelReNew/2019_06_19_1527959_+C.nii.gz\n",
    "/app/liucd/CODE/zunyi/data/data_299+33/DCE_labelReNew/2022_02_26_1671393_+C.nii.gz\n",
    "\n",
    "/app/liucd/CODE/zunyi/data/data_299+33/DWI_labelReNew/2017_11_02_1365106_DWI.nii.gz\n",
    "/app/liucd/CODE/zunyi/data/data_299+33/DWI_labelReNew/2019_06_19_1527959_DWI.nii.gz\n",
    "/app/liucd/CODE/zunyi/data/data_299+33/DWI_labelReNew/2020_06_09_1614413_DWI.nii.gz\n",
    "/app/liucd/CODE/zunyi/data/data_299+33/DWI_labelReNew/2020_06_18_1616764_DWI.nii.gz\n",
    "\n",
    "\n",
    "/app/liucd/CODE/syf/data/data_dec/stage_1/DWI_label/2014_05_13_3156436_DWI.nii.gz\n",
    "/app/liucd/CODE/syf/data/data_dec/stage_1/DWI_label/2019_01_11_5059188_DWI.nii.gz"
   ]
  },
  {
   "cell_type": "raw",
   "id": "2e16246f-2bba-4845-b41c-34260399da38",
   "metadata": {},
   "source": [
    "-------------遵义-------------\n",
    "# 0.33 DWI\n",
    "/app/liucd/CODE/zunyi/data/data_299+33/DWI_label/2014_11_12_1070819_DWI.nii.gz\n",
    "/app/liucd/CODE/zunyi/data/data_299+33/DWI_label/2017_11_02_1365106_DWI.nii.gz\n",
    "/app/liucd/CODE/zunyi/data/data_299+33/DWI_label/2019_05_14_1517346_DWI.nii.gz\n",
    "/app/liucd/CODE/zunyi/data/data_299+33/DWI_label/2019_06_19_1527959_DWI.nii.gz\n",
    "/app/liucd/CODE/zunyi/data/data_299+33/DWI_label/2020_03_24_1593003_DWI.nii.gz\n",
    "/app/liucd/CODE/zunyi/data/data_299+33/DWI_label/2020_06_09_1614413_DWI.nii.gz\n",
    "/app/liucd/CODE/zunyi/data/data_299+33/DWI_label/2020_06_18_1616764_DWI.nii.gz\n",
    "/app/liucd/CODE/zunyi/data/data_299+33/DWI_label/2020_08_13_1397050_DWI.nii.gz\n",
    "/app/liucd/CODE/zunyi/data/data_299+33/DWI_label/2020_08_27_1637136_DWI.nii.gz\n",
    "/app/liucd/CODE/zunyi/data/data_299+33/DWI_label/2021_04_22_1701204_DWI.nii.gz\n",
    "/app/liucd/CODE/zunyi/data/data_299+33/DWI_label/2021_12_27_1765194_DWI.nii.gz\n",
    "\n",
    "# 0.33 DCE\n",
    "/app/liucd/CODE/zunyi/data/data_299+33/DCE_label/2014_11_12_1070819_+C.nii.gz\n",
    "/app/liucd/CODE/zunyi/data/data_299+33/DCE_label/2017_11_02_1365106_+C.nii.gz\n",
    "/app/liucd/CODE/zunyi/data/data_299+33/DCE_label/2017_12_20_1376439_+C.nii.gz\n",
    "/app/liucd/CODE/zunyi/data/data_299+33/DCE_label/2018_01_16_1382991_+C.nii.gz\n",
    "/app/liucd/CODE/zunyi/data/data_299+33/DCE_label/2018_04_19_1408710_+C.nii.gz\n",
    "/app/liucd/CODE/zunyi/data/data_299+33/DCE_label/2018_07_03_1428990_+C.nii.gz\n",
    "/app/liucd/CODE/zunyi/data/data_299+33/DCE_label/2019_05_14_1517346_+C.nii.gz\n",
    "/app/liucd/CODE/zunyi/data/data_299+33/DCE_label/2019_06_19_1527959_+C.nii.gz\n",
    "/app/liucd/CODE/zunyi/data/data_299+33/DCE_label/2020_08_13_1397050_+C.nii.gz\n",
    "/app/liucd/CODE/zunyi/data/data_299+33/DCE_label/2020_08_27_1637136_+C.nii.gz\n",
    "/app/liucd/CODE/zunyi/data/data_299+33/DCE_label/2020_09_11_1641279_+C.nii.gz\n",
    "/app/liucd/CODE/zunyi/data/data_299+33/DCE_label/2020_12_02_1662786_+C.nii.gz\n",
    "/app/liucd/CODE/zunyi/data/data_299+33/DCE_label/2021_04_22_1701204_+C.nii.gz\n",
    "/app/liucd/CODE/zunyi/data/data_299+33/DCE_label/2021_05_17_1519342_+C.nii.gz\n",
    "/app/liucd/CODE/zunyi/data/data_299+33/DCE_label/2021_06_07_1713433_+C.nii.gz\n",
    "/app/liucd/CODE/zunyi/data/data_299+33/DCE_label/2021_06_29_1720309_+C.nii.gz\n",
    "/app/liucd/CODE/zunyi/data/data_299+33/DCE_label/2021_07_16_1725404_+C.nii.gz\n",
    "/app/liucd/CODE/zunyi/data/data_299+33/DCE_label/2021_07_26_1727392_+C.nii.gz\n",
    "/app/liucd/CODE/zunyi/data/data_299+33/DCE_label/2021_07_29_1729293_+C.nii.gz\n",
    "/app/liucd/CODE/zunyi/data/data_299+33/DCE_label/2021_08_16_1735072_+C.nii.gz\n",
    "/app/liucd/CODE/zunyi/data/data_299+33/DCE_label/2021_08_20_1736403_+C.nii.gz\n",
    "/app/liucd/CODE/zunyi/data/data_299+33/DCE_label/2021_12_27_1765194_+C.nii.gz\n",
    "/app/liucd/CODE/zunyi/data/data_299+33/DCE_label/2022_02_26_1671393_+C.nii.gz\n",
    "/app/liucd/CODE/zunyi/data/data_299+33/DCE_label/2022_03_01_1768037_+C.nii.gz\n",
    "/app/liucd/CODE/zunyi/data/data_299+33/DCE_label/2022_03_10_1744779_+C.nii.gz\n",
    "/app/liucd/CODE/zunyi/data/data_299+33/DCE_label/2022_04_01_1778512_+C.nii.gz\n",
    "/app/liucd/CODE/zunyi/data/data_299+33/DCE_label/2022_04_27_1335825_+C.nii.gz\n",
    "/app/liucd/CODE/zunyi/data/data_299+33/DCE_label/2022_05_13_1259891_+C.nii.gz\n",
    "\n",
    "\n",
    "# Relabel  --> 将较小的连通域给抹掉\n",
    "#DWI\n",
    "/app/liucd/CODE/zunyi/data/data_299+33/Label_Gen/relabel/DWI_relabel/2017_11_02_1365106_DWI.nii.gz ？\n",
    "/app/liucd/CODE/zunyi/data/data_299+33/Label_Gen/relabel/DWI_relabel/2019_05_14_1517346_DWI.nii.gz\n",
    "/app/liucd/CODE/zunyi/data/data_299+33/Label_Gen/relabel/DWI_relabel/2019_06_19_1527959_DWI.nii.gz ？\n",
    "/app/liucd/CODE/zunyi/data/data_299+33/Label_Gen/relabel/DWI_relabel/2020_06_09_1614413_DWI.nii.gz ？\n",
    "/app/liucd/CODE/zunyi/data/data_299+33/Label_Gen/relabel/DWI_relabel/2020_06_18_1616764_DWI.nii.gz ？\n",
    "/app/liucd/CODE/zunyi/data/data_299+33/Label_Gen/relabel/DWI_relabel/2021_04_22_1701204_DWI.nii.gz\n",
    "/app/liucd/CODE/zunyi/data/data_299+33/Label_Gen/relabel/DWI_relabel/2021_12_27_1765194_DWI.nii.gz\n",
    "\n",
    "# DCE\n",
    "/app/liucd/CODE/zunyi/data/data_299+33/Label_Gen/relabel/DCE_relabel/2017_11_02_1365106_+C.nii.gz ？\n",
    "/app/liucd/CODE/zunyi/data/data_299+33/Label_Gen/relabel/DCE_relabel/2017_12_20_1376439_+C.nii.gz ？？\n",
    "/app/liucd/CODE/zunyi/data/data_299+33/Label_Gen/relabel/DCE_relabel/2018_01_16_1382991_+C.nii.gz\n",
    "/app/liucd/CODE/zunyi/data/data_299+33/Label_Gen/relabel/DCE_relabel/2019_05_14_1517346_+C.nii.gz\n",
    "/app/liucd/CODE/zunyi/data/data_299+33/Label_Gen/relabel/DCE_relabel/2019_06_19_1527959_+C.nii.gz ？\n",
    "/app/liucd/CODE/zunyi/data/data_299+33/Label_Gen/relabel/DCE_relabel/2020_12_02_1662786_+C.nii.gz\n",
    "/app/liucd/CODE/zunyi/data/data_299+33/Label_Gen/relabel/DCE_relabel/2021_04_22_1701204_+C.nii.gz\n",
    "/app/liucd/CODE/zunyi/data/data_299+33/Label_Gen/relabel/DCE_relabel/2021_06_29_1720309_+C.nii.gz\n",
    "/app/liucd/CODE/zunyi/data/data_299+33/Label_Gen/relabel/DCE_relabel/2022_04_01_1778512_+C.nii.gz"
   ]
  },
  {
   "cell_type": "raw",
   "id": "6a5f196f-3dec-4c9d-b803-416f62debc3e",
   "metadata": {},
   "source": [
    "------------ 邵逸夫----------------\n",
    "以下包括判定和预测，在数据上都没有问题\n",
    "data_dec/stage_1\n",
    "# DWI 0.33\n",
    "/app/liucd/CODE/syf/data/data_dec/stage_1/DWI_label/2014_05_13_3156436_DWI.nii.gz\n",
    "/app/liucd/CODE/syf/data/data_dec/stage_1/DWI_label/2019_01_11_5059188_DWI.nii.gz\n",
    "# DCE 0.33\n",
    "/app/liucd/CODE/syf/data/data_dec/stage_1/DCE_label/2014_05_13_3156436_+C.nii.gz\n",
    "/app/liucd/CODE/syf/data/data_dec/stage_1/DCE_label/2019_01_11_5059188_+C.nii.gz\n",
    "\n",
    "data_dec/stage2\n",
    "# DWI 0.33\n",
    "/app/liucd/CODE/syf/data/data_dec/stage_2/DWI_label/2021_03_12_2608785_DWI.nii.gz\n",
    "/app/liucd/CODE/syf/data/data_dec/stage_2/DWI_label/2021_07_12_6621280_DWI.nii.gz\n",
    "/app/liucd/CODE/syf/data/data_dec/stage_2/DWI_label/2021_11_15_4835483_DWI.nii.gz\n",
    "/app/liucd/CODE/syf/data/data_dec/stage_2/DWI_label/2021_11_17_1142656_DWI.nii.gz\n",
    "# DCE 0.33\n",
    "/app/liucd/CODE/syf/data/data_dec/stage_2/DCE_label/2021_03_12_2608785_+C.nii.gz\n",
    "\n",
    "data_pred/stage1\n",
    "#DWI 0.33\n",
    "/app/liucd/CODE/syf/data/data_pred/stage_1/DWI_label/2014_05_20_3163070_DWI.nii.gz\n",
    "# DCE 0.33\n",
    "/app/liucd/CODE/syf/data/data_pred/stage_1/DCE_label/2014_05_20_3163070_+C.nii.gz\n",
    "/app/liucd/CODE/syf/data/data_pred/stage_1/DCE_label/2015_07_07_3496483_+C.nii.gz\n",
    "\n",
    "data_pred_stage2\n",
    "#DWI 0.33\n",
    "/app/liucd/CODE/syf/data/data_pred/stage_2/DWI_label/2020_08_28_15_8158365_DWI.nii.gz\n",
    "# DCE 0.33\n",
    "无"
   ]
  },
  {
   "cell_type": "raw",
   "id": "bd2b95da-2b73-45db-95a0-5dfbcada770b",
   "metadata": {},
   "source": [
    "-----------山东--------------\n",
    "data_dec\n",
    "#DCE 0.33\n",
    "/app/liucd/CODE/sd/data/data_dec/DCE_label/015_zhang_yu_zhen_2017_05_26_432923_+C.nii.gz\n",
    "/app/liucd/CODE/sd/data/data_dec/DCE_label/336_gao_yan_588293_+C.nii.gz\n",
    "#DWI 0.33\n",
    "无\n",
    "\n",
    "data_pred\n",
    "# DCE/DWI 无"
   ]
  },
  {
   "cell_type": "raw",
   "id": "250631ab-4cea-4005-b7ad-e13944d0dd00",
   "metadata": {},
   "source": [
    "-------------西安-------------\n",
    "#DWI 0.33\n",
    "/app/liucd/CODE/xian/data/data_dec/DWI_label/106_1710372_DWI.nii.gz\n",
    "\n",
    "# DCE 0.33\n",
    "/app/liucd/CODE/xian/data/data_dec/DCE_label/020_1801061_+C.nii.gz\n",
    "/app/liucd/CODE/xian/data/data_dec/DCE_label/056_1748411_+C.nii.gz\n",
    "/app/liucd/CODE/xian/data/data_dec/DCE_label/074_1734882_+C.nii.gz\n",
    "/app/liucd/CODE/xian/data/data_dec/DCE_label/099_1719465_+C.nii.gz"
   ]
  }
 ],
 "metadata": {
  "kernelspec": {
   "display_name": "Python 3 (ipykernel)",
   "language": "python",
   "name": "python3"
  },
  "language_info": {
   "codemirror_mode": {
    "name": "ipython",
    "version": 3
   },
   "file_extension": ".py",
   "mimetype": "text/x-python",
   "name": "python",
   "nbconvert_exporter": "python",
   "pygments_lexer": "ipython3",
   "version": "3.9.13"
  }
 },
 "nbformat": 4,
 "nbformat_minor": 5
}
