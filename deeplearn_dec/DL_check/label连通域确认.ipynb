{
 "cells": [
  {
   "cell_type": "code",
   "execution_count": 4,
   "id": "0437f592",
   "metadata": {},
   "outputs": [],
   "source": [
    "import os\n",
    "import SimpleITK as sitk\n",
    "import numpy as np \n",
    "import skimage\n",
    "import shutil\n",
    "import matplotlib.pyplot as plt"
   ]
  },
  {
   "cell_type": "code",
   "execution_count": null,
   "id": "088c13a2-85a2-4a37-8e71-460c0a546470",
   "metadata": {},
   "outputs": [],
   "source": []
  },
  {
   "cell_type": "code",
   "execution_count": 8,
   "id": "4017a835",
   "metadata": {},
   "outputs": [],
   "source": [
    "def conn_region(seg_path):\n",
    "    seg_image = sitk.ReadImage(seg_path)\n",
    "    seg_arr = sitk.GetArrayFromImage(seg_image)\n",
    "    labels = skimage.measure.label(seg_arr).astype(np.uint8)    #  !!!! 这里label默认是np.int64，会导致SimpleITK-snap打不开，所以要转换为np.unit8\n",
    "                                                               # 但是如果labels.dtype=np.unit8 是不可行的，会导致数组长度翻8倍，\n",
    "                                                              # 具体参考 https://blog.csdn.net/lz0499/article/details/81024731\n",
    "    \n",
    "    return seg_image, labels\n",
    "    "
   ]
  },
  {
   "cell_type": "code",
   "execution_count": 9,
   "id": "91a8c992",
   "metadata": {},
   "outputs": [],
   "source": [
    "def areas_filter(labels, threshold_ratio, threshold_ereas):\n",
    "    \"\"\"\n",
    "    labels ： 连通域生成的标签，一个连通域是一个值\n",
    "    threshold： 面积阈值，将小于最大连通域的threshold倍的阈值删掉\n",
    "    return labels: 删除小于阈值的标签，可含多个连通域\n",
    "    \"\"\"\n",
    "    region_index, volumn_count  = np.unique(labels, return_counts=True)  # volumn_count : [56535334,    80007,     7763]) \n",
    "    volumn_ratio = volumn_count[1: ] / volumn_count[1: ].max() \n",
    "\n",
    "#     print(volumn_ratio, region_index)\n",
    "    select_ratio_index = np.where(volumn_ratio < threshold_ratio)[0]    # 小于最大连通域1%的不要\n",
    "    select_ereas_index = np.where(volumn_count[1: ] < threshold_ereas)[0]          # 小于1000的不要\n",
    "    select_index = list(set(select_ratio_index).intersection(set(select_ereas_index)))   # 同时满足这两个条件的交集\n",
    "    # print(select_ratio_index, select_ereas_index, select_index)\n",
    "    select_index = np.array(select_index)\n",
    "    for idx in select_index + 1:\n",
    "        labels[labels == idx] = 0\n",
    "    \n",
    "    return labels, select_ratio_index, select_ereas_index, select_index\n",
    "    "
   ]
  },
  {
   "cell_type": "code",
   "execution_count": 15,
   "id": "942898fa",
   "metadata": {},
   "outputs": [
    {
     "name": "stdout",
     "output_type": "stream",
     "text": [
      "/app/liucd/CODE/zunyi/data/data_299+33/DCE_labelReNew/2022_02_26_1671393_+C.nii.gz\n",
      "/app/liucd/CODE/zunyi/data/data_299+33/DCE_labelReNew/2020_06_18_1616764_+C.nii.gz\n",
      "/app/liucd/CODE/zunyi/data/data_299+33/DCE_labelReNew/2019_12_04_1574144_+C.nii.gz\n",
      "/app/liucd/CODE/zunyi/data/data_299+33/DCE_labelReNew/2021_09_30_1747581_+C.nii.gz\n",
      "/app/liucd/CODE/zunyi/data/data_299+33/DCE_labelReNew/2021_11_24_1757935_+C.nii.gz\n",
      "/app/liucd/CODE/zunyi/data/data_299+33/DCE_labelReNew/2019_05_17_1519664_+C.nii.gz\n",
      "/app/liucd/CODE/zunyi/data/data_299+33/DCE_labelReNew/2017_11_02_1365106_+C.nii.gz\n",
      "/app/liucd/CODE/zunyi/data/data_299+33/DCE_labelReNew/2021_12_02_1321037_+C.nii.gz\n",
      "/app/liucd/CODE/zunyi/data/data_299+33/DCE_labelReNew/2019_06_19_1527959_+C.nii.gz\n"
     ]
    }
   ],
   "source": [
    "base_dir = '/app/liucd/CODE/zunyi/data/data_299+33/'\n",
    "# base_dir = '/app/liucd/CODE/syf/data/data_dec/stage_2'\n",
    "label_dir =  os.path.join(base_dir, 'DCE_labelReNew/')\n",
    "\n",
    "threshold_ratio = 0.01\n",
    "threshold_ereas = 300\n",
    "\n",
    "for seg_name in os.listdir(label_dir):\n",
    "    seg_path = os.path.join(label_dir, seg_name)\n",
    "    \n",
    "    seg_image, raw_labels = conn_region(seg_path)\n",
    "\n",
    "    fileter_labels, _, _, select_index  = areas_filter(raw_labels, threshold_ratio, threshold_ereas)\n",
    "    fileter_labels[fileter_labels > 0] = 1\n",
    "\n",
    "    if len(select_index) != 0:\n",
    "        print(seg_path)\n",
    "        filter_img = sitk.GetImageFromArray(fileter_labels)\n",
    "        filter_img.SetDirection(seg_image.GetDirection())\n",
    "        filter_img.SetSpacing(seg_image.GetSpacing())\n",
    "        filter_img.SetOrigin(seg_image.GetOrigin())\n",
    "\n",
    "    #     sitk.WriteImage(filter_img, os.path.join(base_dir,'Label_Gen', 'relabel', 'DWI_relabel', seg_name))\n",
    "    # else:\n",
    "    #     shutil.copyfile(seg_path, os.path.join(base_dir,'Label_Gen', 'relabel', 'DWI_relabel', seg_name))\n"
   ]
  },
  {
   "cell_type": "code",
   "execution_count": null,
   "id": "6c4fb87c-bad9-478c-9e90-03a6cc427196",
   "metadata": {},
   "outputs": [],
   "source": []
  }
 ],
 "metadata": {
  "kernelspec": {
   "display_name": "Python 3 (ipykernel)",
   "language": "python",
   "name": "python3"
  },
  "language_info": {
   "codemirror_mode": {
    "name": "ipython",
    "version": 3
   },
   "file_extension": ".py",
   "mimetype": "text/x-python",
   "name": "python",
   "nbconvert_exporter": "python",
   "pygments_lexer": "ipython3",
   "version": "3.9.13"
  }
 },
 "nbformat": 4,
 "nbformat_minor": 5
}
