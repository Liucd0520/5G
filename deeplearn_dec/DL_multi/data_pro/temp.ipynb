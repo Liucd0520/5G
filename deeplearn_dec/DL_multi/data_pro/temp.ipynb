{
 "cells": [
  {
   "cell_type": "code",
   "execution_count": 1,
   "id": "530449c1-578c-494c-8c59-131fd8779ea0",
   "metadata": {},
   "outputs": [],
   "source": [
    "import os\n"
   ]
  },
  {
   "cell_type": "code",
   "execution_count": 14,
   "id": "32ec9aec-1317-486e-bfd2-82c1c60cbab4",
   "metadata": {},
   "outputs": [],
   "source": [
    "base_dir = '/app/liucd/deeplearn_dec/data/syf/new/add/ADC'"
   ]
  },
  {
   "cell_type": "code",
   "execution_count": 15,
   "id": "083e3f55-6a1f-405c-9e73-c91fa42633bb",
   "metadata": {},
   "outputs": [
    {
     "data": {
      "text/plain": [
       "['6117266', '3007996', '5828330', '2608785', '6142872', '5872804']"
      ]
     },
     "execution_count": 15,
     "metadata": {},
     "output_type": "execute_result"
    }
   ],
   "source": [
    "[filename.split('_')[-3] for filename in os.listdir(base_dir)]"
   ]
  },
  {
   "cell_type": "code",
   "execution_count": null,
   "id": "e5e4ca21-ac5d-4c7b-aabb-d50ca0bb9b63",
   "metadata": {},
   "outputs": [],
   "source": [
    "['1620549',\n",
    " '794151',\n",
    " '2975614',\n",
    " '4018062',\n",
    " '4751485',\n",
    " '2632623',\n",
    " '3562538',\n",
    " '3709269',\n",
    " '5195077',\n",
    " '4796650',\n",
    " '4261632',\n",
    " '3554839',\n",
    " '5343893',\n",
    " '2875009',\n",
    " '922556',\n",
    " '3525278'\n",
    " '6117266', \n",
    " '3007996', \n",
    " '5828330', \n",
    " '2608785', \n",
    " '6142872', \n",
    " '5872804'\n",
    "]"
   ]
  }
 ],
 "metadata": {
  "kernelspec": {
   "display_name": "Python 3 (ipykernel)",
   "language": "python",
   "name": "python3"
  },
  "language_info": {
   "codemirror_mode": {
    "name": "ipython",
    "version": 3
   },
   "file_extension": ".py",
   "mimetype": "text/x-python",
   "name": "python",
   "nbconvert_exporter": "python",
   "pygments_lexer": "ipython3",
   "version": "3.9.13"
  }
 },
 "nbformat": 4,
 "nbformat_minor": 5
}
