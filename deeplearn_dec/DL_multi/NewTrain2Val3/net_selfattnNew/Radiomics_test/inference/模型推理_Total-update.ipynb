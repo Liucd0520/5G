{
 "cells": [
  {
   "cell_type": "code",
   "execution_count": 1,
   "id": "bc4b4e1f-ac0c-49c1-86f0-7f47f0226d8a",
   "metadata": {},
   "outputs": [],
   "source": [
    "import os\n",
    "import SimpleITK as sitk\n",
    "import glob\n",
    "import monai\n",
    "from monai.transforms import (\n",
    "    AsDiscrete,\n",
    "    AsDiscreted,\n",
    "    EnsureChannelFirstd,\n",
    "    Compose,\n",
    "    CropForegroundd,\n",
    "    LoadImaged,\n",
    "    Orientationd,\n",
    "    RandCropByPosNegLabeld,\n",
    "    SaveImaged,\n",
    "    ScaleIntensityRanged,\n",
    "    Spacingd,\n",
    "    AddChanneld,\n",
    "    SpatialPadd,\n",
    "    RandRotate90d,\n",
    "    RandShiftIntensityd,\n",
    "    EnsureTyped,\n",
    "    EnsureType,\n",
    "    MapTransform,\n",
    "    Resized,\n",
    "    Invertd,\n",
    "    ToTensord,\n",
    "    NormalizeIntensityd,\n",
    "    RandFlipd,\n",
    "    Lambdad,\n",
    "    Activations,\n",
    "    AsDiscrete,\n",
    ")\n",
    "from monai.metrics import ROCAUCMetric\n",
    "from monai.data import CacheDataset, ThreadDataLoader,DataLoader, Dataset, decollate_batch,load_decathlon_datalist\n",
    "import torch\n",
    "from monai.utils import first, set_determinism\n",
    "import torch.nn as  nn\n",
    "from torch.nn import Linear,  Softmax\n",
    "import torch.nn.functional as F\n",
    "import pandas as pd\n",
    "from sklearn import metrics\n",
    "torch.multiprocessing.set_sharing_strategy('file_system')"
   ]
  },
  {
   "cell_type": "code",
   "execution_count": 14,
   "id": "5a56a52a-1985-4e0e-ac96-a0af32db887b",
   "metadata": {},
   "outputs": [],
   "source": [
    "! scp 模型推理_Total-update.ipynb ~"
   ]
  },
  {
   "cell_type": "code",
   "execution_count": 2,
   "id": "6540bf41-8180-40a4-bbf3-75b49376e72c",
   "metadata": {},
   "outputs": [],
   "source": [
    "df_raw = pd.read_csv('/app/liucd/判定_fill_df.csv')\n",
    "df_cli = df_raw[['patient_ID', 'T_stage', 'HER2_status', 'NAC_classification', 'ER_percentage', 'PR_percentage', 'Ki_67']]\n"
   ]
  },
  {
   "cell_type": "code",
   "execution_count": 3,
   "id": "2f82b674-b31b-4466-bf14-2fbec12be494",
   "metadata": {},
   "outputs": [
    {
     "name": "stdout",
     "output_type": "stream",
     "text": [
      "1317\n",
      "2264 2263\n"
     ]
    }
   ],
   "source": [
    "\n",
    "rad_features = ['patient_id', 'dce-delta-log-sigma-5-0-mm-3D_glcm_DifferenceEntropy',\n",
    " 'dce-bf-log-sigma-3-0-mm-3D_firstorder_Skewness',\n",
    " 'dce-bf-log-sigma-4-0-mm-3D_gldm_DependenceEntropy',\n",
    " 'dce-bf-log-sigma-5-0-mm-3D_firstorder_Skewness',\n",
    " 'dce-bf-wavelet-LHL_firstorder_Mean',\n",
    " 'dce-bf-wavelet-LHL_glcm_DifferenceEntropy',\n",
    " 'dce-bf-wavelet-LHL_glrlm_RunEntropy',\n",
    " 'dce-bf-wavelet-HLL_glszm_ZoneEntropy',\n",
    " 'adc-bl-wavelet-LLL_gldm_SmallDependenceEmphasis']\n",
    "\n",
    "def merge_df(df_raw_path):\n",
    "    \"\"\"\n",
    "    输入原始的文件路径：没有delta的\n",
    "    输出 既有原有的，又有delta的列\n",
    "    \"\"\"\n",
    "    df_raw = pd.read_csv(df_raw_path)\n",
    "    print(len(df_raw))\n",
    "    cols = df_raw.columns[1: -1]\n",
    "    \n",
    "    col_bl = [name for name in cols if '-bl-' in name]\n",
    "    col_bf = [name for name in cols if '-bf-' in name]\n",
    "    print(len(col_bl), len(col_bf))\n",
    "    df_first = df_raw[col_bl]\n",
    "    df_second = df_raw[col_bf]\n",
    "    df_first.columns = [name.replace('-bl-', '-delta-') for name in df_first.columns]\n",
    "    df_second.columns = [name.replace('-bf-', '-delta-') for name in df_second.columns]\n",
    "    \n",
    "    df_delta = df_second - df_first  # 两个dataframe相减需要相同的行名和列名\n",
    "    \n",
    "    df_delta.insert(loc= 0 , column= 'patient_id', value= df_raw['patient_id'])\n",
    "    \n",
    "    df_merge = pd.merge(df_delta, df_raw, left_on='patient_id', right_on='patient_id')  # 方法2\n",
    "    df_merge = pd.concat([df_delta, df_raw[df_raw.columns[1: ]]], axis=1)  \n",
    "    \n",
    "    return df_merge\n",
    "\n",
    "file_path = '/app/liucd/5center-1310-all+6status-pcr.csv'\n",
    "df_rad = merge_df(file_path)\n",
    "df_rad = df_rad[rad_features]"
   ]
  },
  {
   "cell_type": "code",
   "execution_count": 4,
   "id": "8eafeb99-3b86-4a66-9e0b-5295a9c6bf13",
   "metadata": {},
   "outputs": [
    {
     "data": {
      "text/plain": [
       "'/app/liucd/deeplearn_dec/DL_multi/NewTrain2Val3/net_selfattnNew/Radiomics_test/inference'"
      ]
     },
     "execution_count": 4,
     "metadata": {},
     "output_type": "execute_result"
    }
   ],
   "source": [
    "pwd"
   ]
  },
  {
   "cell_type": "code",
   "execution_count": 5,
   "id": "e55791fe-9989-45ab-9259-61ea56362e38",
   "metadata": {},
   "outputs": [
    {
     "name": "stdout",
     "output_type": "stream",
     "text": [
      "{'image_adc': '/app/liucd/deeplearn_dec/DL_dec/data_adc/xian/Mixed/236_1412879_ADC2_0000_0.nii.gz', 'image_dce': '/app/liucd/deeplearn_dec/DL_dec/data/xian/Mixed/236_1412879_+C2_0000_0.nii.gz', 'rad': [1.2473272629999999, 0.513161509, 7.360802124, 0.79456651, -3.795516269, 3.605445809, 4.823300507, 6.446684546, 0.791294387], 'clinical': [1.0, 0.0, 2.0, 0.0, 0.0, 0.7], 'label': 0}\n",
      "618\n",
      "{'image_adc': '/app/liucd/deeplearn_dec/DL_dec/data_adc/zunyi/Mixed/2022_10_20_1650366_ADC2_0000_0.nii.gz', 'image_dce': '/app/liucd/deeplearn_dec/DL_dec/data/zunyi/Mixed/2022_10_20_1650366_+C2_0000_0.nii.gz', 'rad': [-0.426334239, 0.315025113, 8.35283075, 0.068442358, 0.121029744, 2.725956892, 4.15475501, 7.113295602, 0.737770167], 'clinical': [3.0, 1.0, 2.0, 0.0, 0.0, 0.2], 'label': 0}\n",
      "691\n"
     ]
    }
   ],
   "source": [
    "syf_adcdir = '/app/liucd/deeplearn_dec/DL_dec/data_adc/syf/Mixed'\n",
    "zy_adcdir = '/app/liucd/deeplearn_dec/DL_dec/data_adc/zunyi/Mixed'\n",
    "\n",
    "sd_adcdir = '/app/liucd/deeplearn_dec/DL_dec/data_adc/shandong/Mixed'\n",
    "yizhong_adcdir = '/app/liucd/deeplearn_dec/DL_dec/data_adc/yizhong/Mixed'\n",
    "xian_adcdir = '/app/liucd/deeplearn_dec/DL_dec/data_adc/xian/Mixed'\n",
    "\n",
    "\n",
    "syf_dcedir = '/app/liucd/deeplearn_dec/DL_dec/data/syf/Mixed'\n",
    "zy_dcedir = '/app/liucd/deeplearn_dec/DL_dec/data/zunyi/Mixed'\n",
    "\n",
    "sd_dcedir = '/app/liucd/deeplearn_dec/DL_dec/data/shandong/Mixed'\n",
    "yizhong_dcedir = '/app/liucd/deeplearn_dec/DL_dec/data/yizhong/Mixed'\n",
    "xian_dcedir = '/app/liucd/deeplearn_dec/DL_dec/data/xian/Mixed'\n",
    "\n",
    "\n",
    "train_adcimages = sorted(glob.glob(os.path.join(syf_adcdir,  '*.nii.gz'))) + \\\n",
    "                 sorted(glob.glob(os.path.join(zy_adcdir,  '*.nii.gz')))\n",
    "\n",
    "\n",
    "train_dceimages = sorted(glob.glob(os.path.join(syf_dcedir,  '*.nii.gz'))) + \\\n",
    "                 sorted(glob.glob(os.path.join(zy_dcedir,  '*.nii.gz')))\n",
    "\n",
    "\n",
    "\n",
    "val_adcimages =  sorted(glob.glob(os.path.join(sd_adcdir,  '*.nii.gz'))) + \\\n",
    "                 sorted(glob.glob(os.path.join(yizhong_adcdir,  '*.nii.gz'))) + \\\n",
    "                 sorted(glob.glob(os.path.join(xian_adcdir,  '*.nii.gz'))) \n",
    "\n",
    "val_dceimages =  sorted(glob.glob(os.path.join(sd_dcedir,  '*.nii.gz'))) + \\\n",
    "                 sorted(glob.glob(os.path.join(yizhong_dcedir,  '*.nii.gz'))) + \\\n",
    "                 sorted(glob.glob(os.path.join(xian_dcedir,  '*.nii.gz'))) \n",
    "\n",
    "\n",
    "val_clinical = []\n",
    "for file_path in val_adcimages:\n",
    "    p_id = file_path.split('_')[-4]\n",
    "    clinical_data = df_cli[df_cli['patient_ID'] == int(p_id)].values.tolist()[0][1:]\n",
    "    val_clinical.append(clinical_data)\n",
    "\n",
    "val_rad = []\n",
    "for file_path in val_adcimages:\n",
    "    p_id = file_path.split('_')[-4]\n",
    "    rad_data = df_rad[df_rad['patient_id'] == int(p_id)].values.tolist()[0][1:]\n",
    "    val_rad.append(rad_data)\n",
    "\n",
    "val_dict = [{'image_adc': image_adc, 'image_dce': image_dce, 'rad': rad,  'clinical': clinical,  'label': int(image_adc.split('_')[-1].replace('.nii.gz', ''))}\n",
    "                  for image_adc, image_dce, rad, clinical in zip(val_adcimages, val_dceimages, val_rad, val_clinical)]\n",
    "\n",
    "\n",
    "\n",
    "train_clinical = []\n",
    "for file_path in train_adcimages:\n",
    "    p_id = file_path.split('_')[-4]\n",
    "    clinical_data = df_cli[df_cli['patient_ID'] == int(p_id)].values.tolist()[0][1:]\n",
    "    train_clinical.append(clinical_data)\n",
    "\n",
    "train_rad = []\n",
    "for file_path in train_adcimages:\n",
    "    p_id = file_path.split('_')[-4]\n",
    "    rad_data = df_rad[df_rad['patient_id'] == int(p_id)].values.tolist()[0][1:]\n",
    "    train_rad.append(rad_data)\n",
    "    \n",
    "\n",
    "train_dict = [{'image_adc': image_adc, 'image_dce': image_dce, 'rad': rad,  'clinical': clinical,  'label': int(image_adc.split('_')[-1].replace('.nii.gz', ''))}\n",
    "                  for image_adc, image_dce, rad, clinical in zip(train_adcimages,  train_dceimages, train_rad, train_clinical)]\n",
    "\n",
    "print(val_dict[-1])\n",
    "print(len(val_dict))\n",
    "print(train_dict[-1])\n",
    "print(len(train_dict))"
   ]
  },
  {
   "cell_type": "code",
   "execution_count": 6,
   "id": "84315302-5ca2-4fd7-9e37-ca02c9529459",
   "metadata": {},
   "outputs": [],
   "source": [
    "for idx, each_data in enumerate(train_dict):\n",
    "\n",
    "    adc_id = each_data['image_adc'].split('_')[-4]\n",
    "    dce_id = each_data['image_dce'].split('_')[-4]\n",
    "    assert adc_id == dce_id"
   ]
  },
  {
   "cell_type": "code",
   "execution_count": 7,
   "id": "17164ac4-b08f-412d-be4a-e771a99a624d",
   "metadata": {},
   "outputs": [
    {
     "name": "stdout",
     "output_type": "stream",
     "text": [
      "{'image_adc': '/app/liucd/deeplearn_dec/DL_dec/data_adc/shandong/Mixed/516_xu_feng_hua_637730_ADC2_0000_0.nii.gz', 'image_dce': '/app/liucd/deeplearn_dec/DL_dec/data/shandong/Mixed/516_xu_feng_hua_637730_+C2_0000_0.nii.gz', 'rad': [-0.41953666200000006, -0.382612157, 7.047616843, -0.364690779, -4.494328189, 1.325575211, 4.154024684, 6.490821069, 0.650189256], 'clinical': [3.0, 1.0, 2.0, 0.9, 0.9, 0.3], 'label': 0}\n",
      "{'image_adc': '/app/liucd/deeplearn_dec/DL_dec/data_adc/yizhong/Mixed/205_1510029_ADC2_0000_0.nii.gz', 'image_dce': '/app/liucd/deeplearn_dec/DL_dec/data/yizhong/Mixed/205_1510029_+C2_0000_0.nii.gz', 'rad': [-2.156213692, 0.443251135, 6.043469151, 0.529713073, -0.01033215, 0.982131171, 3.543917477, 4.058962719, 0.079513089], 'clinical': [2.0, 0.0, 2.0, 0.8, 0.2, 0.5], 'label': 0}\n",
      "{'image_adc': '/app/liucd/deeplearn_dec/DL_dec/data_adc/xian/Mixed/236_1412879_ADC2_0000_0.nii.gz', 'image_dce': '/app/liucd/deeplearn_dec/DL_dec/data/xian/Mixed/236_1412879_+C2_0000_0.nii.gz', 'rad': [1.2473272629999999, 0.513161509, 7.360802124, 0.79456651, -3.795516269, 3.605445809, 4.823300507, 6.446684546, 0.791294387], 'clinical': [1.0, 0.0, 2.0, 0.0, 0.0, 0.7], 'label': 0}\n"
     ]
    },
    {
     "data": {
      "text/plain": [
       "(236, 200, 182)"
      ]
     },
     "execution_count": 7,
     "metadata": {},
     "output_type": "execute_result"
    }
   ],
   "source": [
    "\n",
    "sd_adcimages =  sorted(glob.glob(os.path.join(sd_adcdir,  '*.nii.gz'))) \n",
    "yizhong_adcimages = sorted(glob.glob(os.path.join(yizhong_adcdir,  '*.nii.gz'))) \n",
    "xian_adcimages = sorted(glob.glob(os.path.join(xian_adcdir,  '*.nii.gz'))) \n",
    "\n",
    "sd_dceimages =  sorted(glob.glob(os.path.join(sd_dcedir,  '*.nii.gz'))) \n",
    "yizhong_dceimages =  sorted(glob.glob(os.path.join(yizhong_dcedir,  '*.nii.gz')))\n",
    "xian_dceimages =  sorted(glob.glob(os.path.join(xian_dcedir,  '*.nii.gz'))) \n",
    "\n",
    "\n",
    "sd_clinical = []\n",
    "yizhong_clinical = []\n",
    "xian_clinical = []\n",
    "for file_path in sd_adcimages:\n",
    "    p_id = file_path.split('_')[-4]\n",
    "    clinical_data = df_cli[df_cli['patient_ID'] == int(p_id)].values.tolist()[0][1:]\n",
    "    sd_clinical.append(clinical_data)\n",
    "\n",
    "for file_path in yizhong_adcimages:\n",
    "    p_id = file_path.split('_')[-4]\n",
    "    clinical_data = df_cli[df_cli['patient_ID'] == int(p_id)].values.tolist()[0][1:]\n",
    "    yizhong_clinical.append(clinical_data)\n",
    "\n",
    "for file_path in xian_adcimages:\n",
    "    p_id = file_path.split('_')[-4]\n",
    "    clinical_data = df_cli[df_cli['patient_ID'] == int(p_id)].values.tolist()[0][1:]\n",
    "    xian_clinical.append(clinical_data)\n",
    "\n",
    "\n",
    "\n",
    "sd_rad = []\n",
    "yizhong_rad = []\n",
    "xian_rad = []\n",
    "\n",
    "for file_path in sd_adcimages:\n",
    "    p_id = file_path.split('_')[-4]\n",
    "    rad_data = df_rad[df_rad['patient_id'] == int(p_id)].values.tolist()[0][1:]\n",
    "    sd_rad.append(rad_data)\n",
    "\n",
    "for file_path in yizhong_adcimages:\n",
    "    p_id = file_path.split('_')[-4]\n",
    "    rad_data = df_rad[df_rad['patient_id'] == int(p_id)].values.tolist()[0][1:]\n",
    "    yizhong_rad.append(rad_data)\n",
    "\n",
    "for file_path in xian_adcimages:\n",
    "    p_id = file_path.split('_')[-4]\n",
    "    rad_data = df_rad[df_rad['patient_id'] == int(p_id)].values.tolist()[0][1:]\n",
    "    xian_rad.append(rad_data)\n",
    "\n",
    "\n",
    "sd_dict = [{'image_adc': image_adc, 'image_dce': image_dce, 'rad': rad,  'clinical': clinical,  'label': int(image_adc.split('_')[-1].replace('.nii.gz', ''))}\n",
    "                  for image_adc, image_dce, rad, clinical in zip(sd_adcimages, sd_dceimages, sd_rad, sd_clinical)]\n",
    "\n",
    "yizhong_dict = [{'image_adc': image_adc, 'image_dce': image_dce, 'rad': rad,  'clinical': clinical,  'label': int(image_adc.split('_')[-1].replace('.nii.gz', ''))}\n",
    "                  for image_adc, image_dce, rad, clinical in zip(yizhong_adcimages, yizhong_dceimages, yizhong_rad,  yizhong_clinical)]\n",
    "\n",
    "xian_dict = [{'image_adc': image_adc, 'image_dce': image_dce, 'rad': rad,  'clinical': clinical,  'label': int(image_adc.split('_')[-1].replace('.nii.gz', ''))}\n",
    "                  for image_adc, image_dce, rad, clinical in zip(xian_adcimages, xian_dceimages, xian_rad, xian_clinical)]\n",
    "\n",
    "print(sd_dict[-1])\n",
    "print(yizhong_dict[-1])\n",
    "print(xian_dict[-1])\n",
    "len(sd_dict), len(yizhong_dict), len(xian_dict)"
   ]
  },
  {
   "cell_type": "code",
   "execution_count": null,
   "id": "139d7b4a-ea9b-4f15-9a1b-962c31f4210b",
   "metadata": {},
   "outputs": [],
   "source": []
  },
  {
   "cell_type": "code",
   "execution_count": 8,
   "id": "4979ec11-f3ca-4814-8955-7d10c303bb96",
   "metadata": {},
   "outputs": [],
   "source": [
    "val_transforms = Compose(\n",
    "        [\n",
    "            LoadImaged(keys=[\"image_adc\",'image_dce' ]),\n",
    "            EnsureChannelFirstd(keys=[\"image_adc\", 'image_dce']),\n",
    "            Orientationd(keys=[\"image_adc\",'image_dce'], axcodes=\"RAS\"),\n",
    "            Resized(keys=[\"image_adc\"], spatial_size=(64, 64, 16)),\n",
    "            Resized(keys=[\"image_dce\"], spatial_size=(96, 96, 32)),\n",
    "            \n",
    "            NormalizeIntensityd(keys=[\"image_adc\", 'image_dce'], nonzero=True, channel_wise=True),\n",
    "            ToTensord(keys=['image_adc', 'image_dce', 'rad', 'clinical', 'label'])\n",
    "        ]\n",
    "    )\n",
    "\n",
    "\n",
    "val_ds = Dataset(data=val_dict, transform=val_transforms)\n",
    "train_ds = Dataset(data=train_dict, transform=val_transforms)\n",
    "sd_ds = Dataset(data=sd_dict, transform=val_transforms)\n",
    "yizhong_ds = Dataset(data=yizhong_dict, transform=val_transforms)\n",
    "xian_ds = Dataset(data=xian_dict, transform=val_transforms)\n",
    "\n",
    "# create a validation data loader\n",
    "val_loader = DataLoader(val_ds, batch_size=1, num_workers=16, pin_memory=True)\n",
    "train_loader = DataLoader(train_ds, batch_size=1, num_workers=16, pin_memory=True)\n",
    "sd_loader = DataLoader(sd_ds, batch_size=1, num_workers=16, pin_memory=True)\n",
    "yizhong_loader = DataLoader(yizhong_ds, batch_size=1, num_workers=16, pin_memory=True)\n",
    "xian_loader = DataLoader(xian_ds, batch_size=1, num_workers=16, pin_memory=True)"
   ]
  },
  {
   "cell_type": "code",
   "execution_count": 9,
   "id": "3bdd74fb-2eaa-4773-8323-8d165c97f7ee",
   "metadata": {},
   "outputs": [],
   "source": [
    "\n",
    "class DoubleTower(nn.Module):\n",
    "    def __init__(self,\n",
    "                 pretrained_dce='',\n",
    "                 pretrained_adc='',\n",
    "                 device = torch.device(\"cuda\"),\n",
    "                 num_classes=2,\n",
    "                 fc_hidden_size = 256\n",
    "                ):\n",
    "        super().__init__()\n",
    "        self.pretrained_dce = pretrained_dce\n",
    "        self.pretrained_adc = pretrained_adc\n",
    "        self.fc_hidden_size = fc_hidden_size\n",
    "        self.num_classes = num_classes\n",
    "        self.device = device\n",
    "\n",
    "        self.model_dce = monai.networks.nets.resnet34(spatial_dims=3, n_input_channels=1, num_classes=2, feed_forward=False).to(self.device)\n",
    "        self.model_adc = monai.networks.nets.resnet34(spatial_dims=3, n_input_channels=1, num_classes=2, feed_forward=False).to(self.device)\n",
    "\n",
    "        if  pretrained_dce != '':\n",
    "            dce_dict = self.model_dce.state_dict()\n",
    "            dce_pretrain = torch.load(self.pretrained_dce, map_location=self.device)\n",
    "            dce_pretrain_dict = {k:v for k, v in dce_pretrain.items() if  k in  dce_dict.keys()}\n",
    "            dce_dict.update(dce_pretrain_dict)\n",
    "            self.model_dce.load_state_dict(dce_dict)\n",
    "\n",
    "        if  pretrained_adc !='':\n",
    "            adc_dict = self.model_adc.state_dict()\n",
    "            adc_pretrain = torch.load(self.pretrained_adc, map_location=self.device)\n",
    "            adc_pretrain_dict = {k:v for k, v in adc_pretrain.items() if  k in  adc_dict.keys()}\n",
    "            adc_dict.update(adc_pretrain_dict)\n",
    "            self.model_adc.load_state_dict(adc_dict)\n",
    "\n",
    "        self.attn = nn.MultiheadAttention(512, num_heads=8, batch_first=True, device=self.device)\n",
    "\n",
    "        # self.Linear1 = Linear(1024 + 6, self.num_classes, device=self.device)\n",
    "        self.Linear1 = Linear(512, self.fc_hidden_size, device=self.device)  # 1024 是 所有下采样特征图globalpool之后拼接的结果\n",
    "        self.Linear2 = Linear(self.fc_hidden_size + 6 + 9, self.num_classes, device=self.device)\n",
    "        self.dropout = nn.Dropout(0.2)\n",
    "\n",
    "\n",
    "    def forward(self, x1, x2, rad,  structured_data):  # x 是SegResNet的输入影像矩阵\n",
    "\n",
    "        encode_output1 = self.model_dce(x1)\n",
    "        encode_output2 = self.model_dce(x2)\n",
    "\n",
    "        concatenated = encode_output1 * encode_output2\n",
    "        \n",
    "        concatenated = concatenated.unsqueeze(1)\n",
    "        attn_output, _ = self.attn(concatenated, concatenated, concatenated)\n",
    "\n",
    "        attn_output = attn_output.squeeze(1)\n",
    "\n",
    "        fc1 = F.relu(self.Linear1(attn_output))\n",
    "        # fc1 = self.dropout(fc1)\n",
    "\n",
    "        fc2 = self.Linear2( torch.concat([fc1, rad, structured_data], dim=-1))\n",
    "   \n",
    "        return F.log_softmax(fc2, dim=-1)\n"
   ]
  },
  {
   "cell_type": "code",
   "execution_count": 10,
   "id": "66ac717a-912b-4d4b-bafc-d2d8157f52b8",
   "metadata": {},
   "outputs": [
    {
     "data": {
      "text/plain": [
       "<All keys matched successfully>"
      ]
     },
     "execution_count": 10,
     "metadata": {},
     "output_type": "execute_result"
    }
   ],
   "source": [
    "\n",
    "# dce_pretrain_path = ''   \n",
    "# adc_pretrain_path = ''\n",
    "\n",
    "device = torch.device(\"cuda:1\" if torch.cuda.is_available() else \"cpu\")\n",
    "model = DoubleTower(device = device)\n",
    "\n",
    "model_path = '/app/liucd/deeplearn_dec/DL_multi/NewTrain2Val3/net_selfattnNew/Radiomics_test/FreezeWeight/model_0.81_0.867.pth'\n",
    "model.load_state_dict(torch.load(model_path, map_location=device))\n"
   ]
  },
  {
   "cell_type": "code",
   "execution_count": null,
   "id": "80a7380a-678c-4183-8608-b78e076c0fbe",
   "metadata": {},
   "outputs": [],
   "source": []
  },
  {
   "cell_type": "code",
   "execution_count": 11,
   "id": "448fbf2b-d122-46a6-955c-36f35aa3e647",
   "metadata": {},
   "outputs": [],
   "source": [
    "def report_metric(label_list, pred_list):\n",
    "    Cmatrix = metrics.confusion_matrix(label_list, pred_list)\n",
    "    TN = Cmatrix[0, 0]\n",
    "    TP = Cmatrix[1, 1]\n",
    "    FN = Cmatrix[1, 0]\n",
    "    FP = Cmatrix[0, 1]\n",
    "    print(Cmatrix)\n",
    "    Acc = (TP+TN) / (TP+TN+FP+FN)\n",
    "    sensitivity = TPR = Recall = TP / (TP+FN)\n",
    "    specificity = TNR =  TN / (FP+TN)\n",
    "    PPV = TP / (TP + FP)\n",
    "    NPV = TN / (TN + FN)\n",
    "    \n",
    "    return Acc, sensitivity, specificity, PPV, NPV"
   ]
  },
  {
   "cell_type": "code",
   "execution_count": 13,
   "id": "0b82db15-bd06-410a-9628-a41ff0429140",
   "metadata": {},
   "outputs": [
    {
     "name": "stdout",
     "output_type": "stream",
     "text": [
      "[[399  50]\n",
      " [ 92 150]]\n",
      "Accuray: 0.7945007235890015\n",
      "SEN/SPE: 0.6198347107438017 0.888641425389755\n",
      "PPV/NPV:  0.75 0.8126272912423625\n",
      "0.8714682766110181\n",
      "0.8714682766110181\n",
      "0.7945007235890015\n"
     ]
    }
   ],
   "source": [
    "post_pred = Compose([Activations(softmax=True)])\n",
    "post_label = Compose([AsDiscrete(to_onehot=2)])\n",
    "\n",
    "auc_metric = ROCAUCMetric()\n",
    "\n",
    "prob_list = []\n",
    "label_list = []\n",
    "\n",
    "model.eval()\n",
    "with torch.no_grad():\n",
    "    y_pred = torch.tensor([], dtype=torch.float32, device=device)\n",
    "    y = torch.tensor([], dtype=torch.long, device=device)\n",
    "\n",
    "    for val_data in train_loader:\n",
    "\n",
    "        val_dce, val_adc, val_rad, val_clinical, val_labels = val_data[\"image_dce\"].to(device),val_data[\"image_adc\"].to(device), val_data[\"rad\"].to(device), val_data[\"clinical\"].to(device), val_data[\"label\"].to(device)\n",
    "        val_output = model(val_dce, val_adc, val_rad, val_clinical)\n",
    "         \n",
    "        prob_list.append(post_pred(val_output[0])[1].item())  # [0] 是由于设置batch=1 [1] 是是取预测类别中的1类别\n",
    "        label_list.append(val_labels.item())\n",
    "        \n",
    "        # monai\n",
    "        y_pred = torch.cat([y_pred, val_output], dim=0)\n",
    "        y = torch.cat([y, val_labels], dim=0)\n",
    "        \n",
    "        y_onehot = [post_label(i) for i in decollate_batch(y, detach=False)]\n",
    "        y_pred_act = [post_pred(i) for i in decollate_batch(y_pred)]\n",
    "\n",
    "# sklearn\n",
    "pred_list = [round(i) for i in prob_list]\n",
    "Acc, sensitivity, specificity, PPV, NPV = report_metric(label_list, pred_list)\n",
    "print('Accuray:', Acc)\n",
    "print('SEN/SPE:', sensitivity, specificity)\n",
    "print('PPV/NPV: ', PPV, NPV)\n",
    "\n",
    "fpr, tpr, thresholds = metrics.roc_curve(label_list, prob_list, pos_label=1)\n",
    "print(metrics.auc(fpr, tpr))\n",
    "\n",
    "# # monai\n",
    "auc_metric(y_pred_act, y_onehot)\n",
    "print(auc_metric.aggregate())\n",
    "\n",
    "acc_value = torch.eq(y_pred.argmax(dim=1), y)\n",
    "acc_metric = acc_value.sum().item() / len(acc_value)\n",
    "print(acc_metric)"
   ]
  },
  {
   "cell_type": "code",
   "execution_count": 69,
   "id": "fcf97276-099b-4de0-910d-4c25123d6da7",
   "metadata": {},
   "outputs": [
    {
     "data": {
      "text/plain": [
       "array([[0.60351413, 0.06417112],\n",
       "       [0.12605042, 0.20626432]])"
      ]
     },
     "execution_count": 69,
     "metadata": {},
     "output_type": "execute_result"
    }
   ],
   "source": [
    "[[379  46]\n",
    " [ 71 122]]\n",
    "Accuray: 0.8106796116504854\n",
    "SEN/SPE: 0.6321243523316062 0.8917647058823529\n",
    "PPV/NPV:  0.7261904761904762 0.8422222222222222\n",
    "0.8672599817128924\n",
    "0.8672599817128924\n",
    "0.8106796116504854"
   ]
  },
  {
   "cell_type": "code",
   "execution_count": 79,
   "id": "7ade7eb1-f261-4d4b-ab81-6e4e7f0ea616",
   "metadata": {},
   "outputs": [],
   "source": [
    "import itertools\n",
    "import matplotlib.pyplot as plt\n",
    "import numpy as np\n",
    "# 绘制混淆矩阵\n",
    "def plot_confusion_matrix(cm, classes, normalize=False, title='Confusion matrix', cmap=plt.cm.Blues):\n",
    "    \"\"\"\n",
    "    - cm : 计算出的混淆矩阵的值\n",
    "    - classes : 混淆矩阵中每一行每一列对应的列\n",
    "    - normalize : True:显示百分比, False:显示个数\n",
    "    \"\"\"\n",
    "    if normalize:\n",
    "        cm = cm.astype('float') / cm.sum(axis=1)[:, np.newaxis]\n",
    "        print(\"显示百分比：\")\n",
    "        np.set_printoptions(formatter={'float': '{: 0.2f}'.format})\n",
    "        print(cm)\n",
    "    else:\n",
    "        print('显示具体数字：')\n",
    "        print(cm)\n",
    "    plt.imshow(cm, interpolation='nearest', cmap=cmap)\n",
    "    plt.title(title)\n",
    "    plt.colorbar()\n",
    "    tick_marks = np.arange(len(classes))\n",
    "    plt.xticks(tick_marks, classes, rotation=45)\n",
    "    plt.yticks(tick_marks, classes)\n",
    "    # matplotlib版本问题，如果不加下面这行代码，则绘制的混淆矩阵上下只能显示一半，有的版本的matplotlib不需要下面的代码，分别试一下即可\n",
    "    plt.ylim(len(classes) - 0.5, -0.5)\n",
    "    fmt = '.2f' if normalize else 'd'\n",
    "    thresh = cm.max() / 2.\n",
    "    for i, j in itertools.product(range(cm.shape[0]), range(cm.shape[1])):\n",
    "        plt.text(j, i, format(cm[i, j], fmt),\n",
    "                 horizontalalignment=\"center\",\n",
    "                 color=\"white\" if cm[i, j] > thresh else \"black\")\n",
    "    plt.tight_layout()\n",
    "    plt.ylabel('True label')\n",
    "    plt.xlabel('Predicted label')\n",
    "    plt.show()\n",
    "    "
   ]
  },
  {
   "cell_type": "code",
   "execution_count": 78,
   "id": "220a174f-d83e-43c6-858a-473598b4bc73",
   "metadata": {},
   "outputs": [
    {
     "name": "stdout",
     "output_type": "stream",
     "text": [
      "显示百分比：\n",
      "[[ 0.90  0.10]\n",
      " [ 0.38  0.62]]\n"
     ]
    },
    {
     "data": {
      "image/png": "[encoded data removed]",
      "text/plain": [
       "<Figure size 640x480 with 2 Axes>"
      ]
     },
     "metadata": {},
     "output_type": "display_data"
    },
    {
     "data": {
      "text/plain": [
       "<module 'matplotlib.pyplot' from '/app/data/anaconda/lib/python3.9/site-packages/matplotlib/pyplot.py'>"
      ]
     },
     "execution_count": 78,
     "metadata": {},
     "output_type": "execute_result"
    },
    {
     "data": {
      "text/plain": [
       "<Figure size 640x480 with 0 Axes>"
      ]
     },
     "metadata": {},
     "output_type": "display_data"
    }
   ],
   "source": [
    "cnf_matrix = a + b\n",
    "attack_types = ['Non-PCR', 'pCR',]\n",
    "plot_confusion_matrix(cnf_matrix, classes=attack_types, normalize=True, title='Normalized confusion matrix')\n",
    "plt"
   ]
  },
  {
   "cell_type": "code",
   "execution_count": null,
   "id": "5a2652aa-9906-44fb-9acd-fcad1d71e79d",
   "metadata": {},
   "outputs": [],
   "source": [
    "Acc, sensitivity, specificity, PPV, NPV\n",
    "val： \n",
    "Accuray: 0.7977346278317152\n",
    "SEN/SPE: 0.5906735751295337 0.8917647058823529\n",
    "PPV/NPV:  0.7125 0.8275109170305677\n",
    "0.852386467540384\n",
    "0.42999999999999994\n",
    "0.8090614886731392 0.7098445595854922 0.8541176470588235 0.6884422110552764 0.8663484486873508\n",
    "\n",
    "Train:\n",
    "Accuray: 0.8205499276410999\n",
    "SEN/SPE: 0.6446280991735537 0.9153674832962138\n",
    "PPV/NPV:  0.8041237113402062 0.8269617706237424\n",
    "0.8994091553314068\n",
    "0.42999999999999994\n",
    "0.8364688856729378 0.731404958677686 0.8930957683741648 0.7866666666666666 0.8605150214592274\n",
    "\n",
    "xian:\n",
    "Accuray: 0.7802197802197802\n",
    "SEN/SPE: 0.6666666666666666 0.8712871287128713\n",
    "PPV/NPV:  0.8059701492537313 0.7652173913043478\n",
    "0.8450067228945117\n",
    "0.48\n",
    "0.7857142857142857 0.691358024691358 0.8613861386138614 0.8 0.7767857142857143\n",
    "\n",
    "yizhong\n",
    "Accuray: 0.82\n",
    "SEN/SPE: 0.4583333333333333 0.8693181818181818\n",
    "PPV/NPV:  0.3235294117647059 0.9216867469879518\n",
    "0.8328598484848484\n",
    "0.6\n",
    "0.84 0.375 0.9034090909090909 0.34615384615384615 0.9137931034482759\n",
    "\n",
    "shandong\n",
    "Accuray: 0.7923728813559322\n",
    "SEN/SPE: 0.5568181818181818 0.9324324324324325\n",
    "PPV/NPV:  0.8305084745762712 0.7796610169491526\n",
    "0.8665540540540541\n",
    "0.42999999999999994\n",
    "0.8305084745762712 0.7386363636363636 0.8851351351351351 0.7926829268292683 0.8506493506493507"
   ]
  },
  {
   "cell_type": "code",
   "execution_count": 57,
   "id": "d6edac93-0dae-493e-abcd-6d311640d8c4",
   "metadata": {},
   "outputs": [
    {
     "name": "stdout",
     "output_type": "stream",
     "text": [
      "0.42999999999999994\n",
      "0.8090614886731392 0.7098445595854922 0.8541176470588235 0.6884422110552764 0.8663484486873508\n"
     ]
    },
    {
     "data": {
      "text/plain": [
       "Text(0, 0.5, 'Accuracy')"
      ]
     },
     "execution_count": 57,
     "metadata": {},
     "output_type": "execute_result"
    },
    {
     "data": {
      "image/png": "[encoded data removed]",
      "text/plain": [
       "<Figure size 640x480 with 1 Axes>"
      ]
     },
     "metadata": {},
     "output_type": "display_data"
    }
   ],
   "source": [
    "import matplotlib.pyplot as plt\n",
    "import numpy as np\n",
    "\n",
    "def fun(x, threshold):\n",
    "    if x > threshold:\n",
    "        return 1\n",
    "    else:\n",
    "        return 0\n",
    "\n",
    "Acc_list = []\n",
    "th_list = np.linspace(0.2, 0.6, 41).tolist()\n",
    "for th in th_list:\n",
    "    \n",
    "    pred_list = [fun(i, th) for i in prob_list]\n",
    "    Acc, sensitivity, specificity, PPV, NPV = report_metric(label_list, pred_list)\n",
    "    Acc_list.append(Acc)\n",
    "use_th = th_list[Acc_list.index(max(Acc_list))]\n",
    "print(use_th)\n",
    "pred_list = [fun(i, use_th) for i in prob_list]\n",
    "Acc, sensitivity, specificity, PPV, NPV = report_metric(label_list, pred_list)\n",
    "print(Acc, sensitivity, specificity, PPV, NPV)\n",
    "plt.plot(th_list, Acc_list)\n",
    "plt.xlabel('threshold')\n",
    "plt.ylabel('Accuracy')"
   ]
  },
  {
   "cell_type": "code",
   "execution_count": null,
   "id": "6051dfc4-55ed-4bd3-bc2c-b4be681340b7",
   "metadata": {},
   "outputs": [],
   "source": []
  },
  {
   "cell_type": "code",
   "execution_count": 140,
   "id": "5ecb3d6e-7a40-4a8e-9c99-72638b7d7b38",
   "metadata": {},
   "outputs": [
    {
     "name": "stdout",
     "output_type": "stream",
     "text": [
      "0.7800289435600579 0.5289256198347108 0.9153674832962138 0.7710843373493976 0.7828571428571428\n"
     ]
    }
   ],
   "source": [
    "import matplotlib.pyplot as plt\n",
    "import numpy as np\n",
    "\n",
    "def fun(x, threshold):\n",
    "    if x > threshold:\n",
    "        return 1\n",
    "    else:\n",
    "        return 0\n",
    "\n",
    "pred_list = [fun(i, 0.45) for i in prob_list]\n",
    "Acc, sensitivity, specificity, PPV, NPV = report_metric(label_list, pred_list)\n",
    "print(Acc, sensitivity, specificity, PPV, NPV)\n"
   ]
  },
  {
   "cell_type": "code",
   "execution_count": 113,
   "id": "4181901a-473f-42d3-8312-070fb8969e15",
   "metadata": {},
   "outputs": [
    {
     "data": {
      "text/plain": [
       "0.8065"
      ]
     },
     "execution_count": 113,
     "metadata": {},
     "output_type": "execute_result"
    }
   ],
   "source": [
    "# center  th0.5 (th0.34)  AUC\n",
    "#sd      0.73(0.844)     0.8663819402074435\n",
    "#yizhong 0.88(0.84)      0.84 \n",
    "# xian   0.71(0.76)      0.85\n",
    "# train 0.75 (0.786)     0.85\n",
    "(0.84+0.84+0.76+0.786) / 4"
   ]
  },
  {
   "cell_type": "code",
   "execution_count": 131,
   "id": "3ce57618-dae9-40ea-a8c5-6afde19bd79d",
   "metadata": {},
   "outputs": [
    {
     "data": {
      "text/plain": [
       "0.791"
      ]
     },
     "execution_count": 131,
     "metadata": {},
     "output_type": "execute_result"
    }
   ],
   "source": [
    "# center  th0.5   AUC\n",
    "#sd       0.776  0.86\n",
    "#yizhong  0.86   0.87\n",
    "# xian    0.75   0.82\n",
    "# train   0.778  0.85   \n",
    "(0.776+0.86+0.75+0.778) / 4"
   ]
  },
  {
   "cell_type": "code",
   "execution_count": 151,
   "id": "b2dd1a08-842c-4b2d-bb66-6a587de35365",
   "metadata": {},
   "outputs": [],
   "source": [
    "error_val = []\n",
    "\n",
    "for val_data in val_loader:\n",
    "\n",
    "        val_dce, val_adc, val_clinical, val_labels = val_data[\"image_dce\"].to(device),val_data[\"image_adc\"].to(device), val_data[\"clinical\"].to(device), val_data[\"label\"].to(device)\n",
    "        val_output = model(val_dce, val_adc, val_clinical)\n",
    "         \n",
    "        pred_prob = round(post_pred(val_output[0])[1].item())\n",
    "        label = val_labels.item()\n",
    "        if pred_prob != label:\n",
    "            error_val.append(val_data['image_dce_meta_dict']['filename_or_obj'][0])\n",
    "        \n",
    "     "
   ]
  },
  {
   "cell_type": "code",
   "execution_count": 152,
   "id": "8f7c1724-fcc1-48bb-bbb7-066ae54620fa",
   "metadata": {},
   "outputs": [
    {
     "data": {
      "text/plain": [
       "140"
      ]
     },
     "execution_count": 152,
     "metadata": {},
     "output_type": "execute_result"
    }
   ],
   "source": [
    "len(error_val)"
   ]
  },
  {
   "cell_type": "code",
   "execution_count": 81,
   "id": "16d68d4d-7c80-402a-b48c-98e081450e60",
   "metadata": {},
   "outputs": [
    {
     "data": {
      "text/plain": [
       "691"
      ]
     },
     "execution_count": 81,
     "metadata": {},
     "output_type": "execute_result"
    }
   ],
   "source": [
    "len(label_list)"
   ]
  },
  {
   "cell_type": "code",
   "execution_count": 80,
   "id": "0207db6d-4918-4207-9866-e479b90deae8",
   "metadata": {},
   "outputs": [
    {
     "data": {
      "text/plain": [
       "691"
      ]
     },
     "execution_count": 80,
     "metadata": {},
     "output_type": "execute_result"
    }
   ],
   "source": [
    "len(pred_list)"
   ]
  },
  {
   "cell_type": "code",
   "execution_count": 94,
   "id": "0d8b39cf-06be-4090-89b3-393fa016547a",
   "metadata": {},
   "outputs": [
    {
     "data": {
      "text/plain": [
       "(449, 242)"
      ]
     },
     "execution_count": 94,
     "metadata": {},
     "output_type": "execute_result"
    }
   ],
   "source": [
    "pred_0 = [prob_list[i] for i in range(len(label_list)) if label_list[i] == 0]\n",
    "pred_1 = [prob_list[i] for i in range(len(label_list)) if label_list[i] == 1]\n",
    "len(pred_0), len(pred_1)"
   ]
  },
  {
   "cell_type": "code",
   "execution_count": 148,
   "id": "c30f4693-06fd-454c-8d09-769c229e9df0",
   "metadata": {},
   "outputs": [
    {
     "data": {
      "text/plain": [
       "<matplotlib.legend.Legend at 0x7f19f9703340>"
      ]
     },
     "execution_count": 148,
     "metadata": {},
     "output_type": "execute_result"
    },
    {
     "data": {
      "image/png": "[encoded data removed]",
      "text/plain": [
       "<Figure size 640x480 with 1 Axes>"
      ]
     },
     "metadata": {},
     "output_type": "display_data"
    }
   ],
   "source": [
    "from scipy import stats\n",
    "\n",
    "count_1 = plt.hist(pred_1, bins=70, density=True, alpha=0.7, edgecolor='blue')\n",
    "count_0  = plt.hist(pred_0, bins=70, density=True, alpha=0.5, edgecolor='red')\n",
    "plt.ylim(0, 5)\n",
    "plt.xlabel('predict probility')\n",
    "plt.ylabel('Frequncy')\n",
    "plt.legend(['patient pCR', 'patient Non-pCR'])"
   ]
  },
  {
   "cell_type": "code",
   "execution_count": 155,
   "id": "756278ea-0f6f-45ba-9c82-5a53de009c66",
   "metadata": {},
   "outputs": [
    {
     "data": {
      "text/plain": [
       "[<matplotlib.lines.Line2D at 0x7f19f8c3c0d0>]"
      ]
     },
     "execution_count": 155,
     "metadata": {},
     "output_type": "execute_result"
    },
    {
     "data": {
      "image/png": "[encoded data removed]",
      "text/plain": [
       "<Figure size 640x480 with 1 Axes>"
      ]
     },
     "metadata": {},
     "output_type": "display_data"
    }
   ],
   "source": [
    "from scipy.interpolate import UnivariateSpline\n",
    "from scipy.interpolate import make_interp_spline\n",
    "plt.plot(np.linspace(0, 1, len(count_1[0])), count_1[0])\n",
    "# plt.plot(count_0[0])\n",
    "plt.ylim(0, 5)\n",
    "\n",
    "# 使用Savitzky-Golay 滤波器后得到平滑图线\n",
    "from scipy.signal import savgol_filter\n",
    "y = savgol_filter(count_1[0], 10, 1, mode= 'nearest')\n",
    "plt.plot(np.linspace(0, 1, len(count_1[0])), y, 'b',)"
   ]
  },
  {
   "cell_type": "code",
   "execution_count": 166,
   "id": "14d8c570-c437-4ea7-9fc1-6392c87422b8",
   "metadata": {},
   "outputs": [
    {
     "data": {
      "text/plain": [
       "200"
      ]
     },
     "execution_count": 166,
     "metadata": {},
     "output_type": "execute_result"
    }
   ],
   "source": [
    "len(prob_list)"
   ]
  },
  {
   "cell_type": "code",
   "execution_count": 169,
   "id": "e006fba0-28d3-4460-80f2-18675bca02f8",
   "metadata": {},
   "outputs": [],
   "source": [
    "df_data = pd.DataFrame({'pred': prob_list, 'label': label_list})\n",
    "df_data.to_csv('xian.csv')"
   ]
  },
  {
   "cell_type": "code",
   "execution_count": null,
   "id": "a7cdab14-42b8-4f81-a485-91bf6e636746",
   "metadata": {},
   "outputs": [],
   "source": []
  }
 ],
 "metadata": {
  "kernelspec": {
   "display_name": "Python 3 (ipykernel)",
   "language": "python",
   "name": "python3"
  },
  "language_info": {
   "codemirror_mode": {
    "name": "ipython",
    "version": 3
   },
   "file_extension": ".py",
   "mimetype": "text/x-python",
   "name": "python",
   "nbconvert_exporter": "python",
   "pygments_lexer": "ipython3",
   "version": "3.9.13"
  }
 },
 "nbformat": 4,
 "nbformat_minor": 5
}
