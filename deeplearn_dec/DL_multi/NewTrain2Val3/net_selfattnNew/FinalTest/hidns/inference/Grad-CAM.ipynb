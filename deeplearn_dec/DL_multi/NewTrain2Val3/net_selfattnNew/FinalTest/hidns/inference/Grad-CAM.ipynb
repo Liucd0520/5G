{
 "cells": [
  {
   "cell_type": "code",
   "execution_count": 1,
   "id": "8465ad06-5abb-44ad-ade4-0750a5dde46d",
   "metadata": {},
   "outputs": [],
   "source": [
    "import os\n",
    "import SimpleITK as sitk\n",
    "import glob\n",
    "import monai\n",
    "from monai.transforms import (\n",
    "    AsDiscrete,\n",
    "    AsDiscreted,\n",
    "    EnsureChannelFirstd,\n",
    "    Compose,\n",
    "    CropForegroundd,\n",
    "    LoadImaged,\n",
    "    Orientationd,\n",
    "    RandCropByPosNegLabeld,\n",
    "    SaveImaged,\n",
    "    ScaleIntensityRanged,\n",
    "    Spacingd,\n",
    "    AddChanneld,\n",
    "    SpatialPadd,\n",
    "    RandRotate90d,\n",
    "    RandShiftIntensityd,\n",
    "    EnsureTyped,\n",
    "    EnsureType,\n",
    "    MapTransform,\n",
    "    Resized,\n",
    "    Invertd,\n",
    "    ToTensord,\n",
    "    NormalizeIntensityd,\n",
    "    RandFlipd,\n",
    "    Lambdad,\n",
    "    Activations,\n",
    "    AsDiscrete,\n",
    ")\n",
    "from monai.metrics import ROCAUCMetric\n",
    "from monai.data import CacheDataset, ThreadDataLoader,DataLoader, Dataset, decollate_batch,load_decathlon_datalist\n",
    "import torch\n",
    "from monai.utils import first, set_determinism\n",
    "import torch.nn as  nn\n",
    "from torch.nn import Linear,  Softmax\n",
    "import torch.nn.functional as F\n",
    "import pandas as pd\n",
    "from sklearn import metrics\n",
    "torch.multiprocessing.set_sharing_strategy('file_system')"
   ]
  },
  {
   "cell_type": "code",
   "execution_count": 39,
   "id": "373080e6-fb17-49c3-83ea-38c1f16f6e3e",
   "metadata": {},
   "outputs": [
    {
     "name": "stdout",
     "output_type": "stream",
     "text": [
      "1317\n",
      "2264 2263\n"
     ]
    }
   ],
   "source": [
    "df_raw = pd.read_csv('/app/liucd/判定_fill_df.csv')\n",
    "df_cli = df_raw[['patient_ID', 'T_stage', 'HER2_status', 'NAC_classification', 'ER_percentage', 'PR_percentage', 'Ki_67']]\n",
    "\n",
    "rad_features = ['patient_id', 'dce-delta-log-sigma-5-0-mm-3D_glcm_DifferenceEntropy',\n",
    " 'dce-bf-log-sigma-3-0-mm-3D_firstorder_Skewness',\n",
    " 'dce-bf-log-sigma-4-0-mm-3D_gldm_DependenceEntropy',\n",
    " 'dce-bf-log-sigma-5-0-mm-3D_firstorder_Skewness',\n",
    " 'dce-bf-wavelet-LHL_firstorder_Mean',\n",
    " 'dce-bf-wavelet-LHL_glcm_DifferenceEntropy',\n",
    " 'dce-bf-wavelet-LHL_glrlm_RunEntropy',\n",
    " 'dce-bf-wavelet-HLL_glszm_ZoneEntropy',\n",
    " 'adc-bl-wavelet-LLL_gldm_SmallDependenceEmphasis']\n",
    "\n",
    "def merge_df(df_raw_path):\n",
    "    \"\"\"\n",
    "    输入原始的文件路径：没有delta的\n",
    "    输出 既有原有的，又有delta的列\n",
    "    \"\"\"\n",
    "    df_raw = pd.read_csv(df_raw_path)\n",
    "    print(len(df_raw))\n",
    "    cols = df_raw.columns[1: -1]\n",
    "    \n",
    "    col_bl = [name for name in cols if '-bl-' in name]\n",
    "    col_bf = [name for name in cols if '-bf-' in name]\n",
    "    print(len(col_bl), len(col_bf))\n",
    "    df_first = df_raw[col_bl]\n",
    "    df_second = df_raw[col_bf]\n",
    "    df_first.columns = [name.replace('-bl-', '-delta-') for name in df_first.columns]\n",
    "    df_second.columns = [name.replace('-bf-', '-delta-') for name in df_second.columns]\n",
    "    \n",
    "    df_delta = df_second - df_first  # 两个dataframe相减需要相同的行名和列名\n",
    "    \n",
    "    df_delta.insert(loc= 0 , column= 'patient_id', value= df_raw['patient_id'])\n",
    "    \n",
    "    df_merge = pd.merge(df_delta, df_raw, left_on='patient_id', right_on='patient_id')  # 方法2\n",
    "    df_merge = pd.concat([df_delta, df_raw[df_raw.columns[1: ]]], axis=1)  \n",
    "    \n",
    "    return df_merge\n",
    "\n",
    "file_path  = '/app/liucd/5center-1310-all+6status-pcr.csv'\n",
    "df_rad = merge_df(file_path)\n",
    "df_rad = df_rad[rad_features]\n",
    "syf_adcdir = '/app/liucd/deeplearn_dec/DL_dec/data_adc/syf/Mixed'\n",
    "zy_adcdir = '/app/liucd/deeplearn_dec/DL_dec/data_adc/zunyi/Mixed'\n",
    "\n",
    "syf_dcedir = '/app/liucd/deeplearn_dec/DL_dec/data/syf/Mixed'\n",
    "zy_dcedir = '/app/liucd/deeplearn_dec/DL_dec/data/zunyi/Mixed'\n",
    "\n",
    "xian_adcdir = '/app/liucd/deeplearn_dec/DL_dec/data_adc/xian/Mixed'\n",
    "xian_dcedir = '/app/liucd/deeplearn_dec/DL_dec/data/xian/Mixed'\n",
    "\n",
    "sd_adcdir = '/app/liucd/deeplearn_dec/DL_dec/data_adc/shandong/Mixed'\n",
    "sd_dcedir = '/app/liucd/deeplearn_dec/DL_dec/data/shandong/Mixed'\n",
    "\n",
    "yizhong_adcdir = '/app/liucd/deeplearn_dec/DL_dec/data_adc/yizhong/Mixed'\n",
    "yizhong_dcedir = '/app/liucd/deeplearn_dec/DL_dec/data/yizhong/Mixed'\n",
    "\n",
    "train_adcimages = sorted(glob.glob(os.path.join(syf_adcdir,  '*.nii.gz'))) + \\\n",
    "                 sorted(glob.glob(os.path.join(zy_adcdir,  '*.nii.gz')))\n",
    "\n",
    "\n",
    "train_dceimages = sorted(glob.glob(os.path.join(syf_dcedir,  '*.nii.gz'))) + \\\n",
    "                 sorted(glob.glob(os.path.join(zy_dcedir,  '*.nii.gz')))\n",
    "\n",
    "train_clinical = []\n",
    "for file_path in train_adcimages:\n",
    "    p_id = file_path.split('_')[-4]\n",
    "    clinical_data = df_cli[df_cli['patient_ID'] == int(p_id)].values.tolist()[0][1:]\n",
    "    train_clinical.append(clinical_data)\n",
    "    \n",
    "train_rad = []\n",
    "for file_path in train_adcimages:\n",
    "    p_id = file_path.split('_')[-4]\n",
    "    rad_data = df_rad[df_rad['patient_id'] == int(p_id)].values.tolist()[0][1:]\n",
    "    train_rad.append(rad_data)\n",
    "    \n",
    "train_dict = [{'image_adc': image_adc, 'image_dce': image_dce, 'rad':rad, 'clinical': clinical,  'label': int(image_adc.split('_')[-1].replace('.nii.gz', ''))}\n",
    "                  for image_adc, image_dce, rad, clinical in zip(train_adcimages,  train_dceimages, train_rad, train_clinical)]\n",
    "len(train_dict)\n",
    "val_adcimages =  sorted(glob.glob(os.path.join(sd_adcdir,  '*.nii.gz'))) + \\\n",
    "                 sorted(glob.glob(os.path.join(yizhong_adcdir,  '*.nii.gz'))) + \\\n",
    "                 sorted(glob.glob(os.path.join(xian_adcdir,  '*.nii.gz'))) \n",
    "\n",
    "val_dceimages =  sorted(glob.glob(os.path.join(sd_dcedir,  '*.nii.gz'))) + \\\n",
    "                 sorted(glob.glob(os.path.join(yizhong_dcedir,  '*.nii.gz'))) + \\\n",
    "                 sorted(glob.glob(os.path.join(xian_dcedir,  '*.nii.gz'))) \n",
    "\n",
    "val_clinical = []\n",
    "for file_path in val_adcimages:\n",
    "    p_id = file_path.split('_')[-4]\n",
    "    clinical_data = df_cli[df_cli['patient_ID'] == int(p_id)].values.tolist()[0][1:]\n",
    "    val_clinical.append(clinical_data)\n",
    "\n",
    "val_rad = []\n",
    "for file_path in val_adcimages:\n",
    "    p_id = file_path.split('_')[-4]\n",
    "    rad_data = df_rad[df_rad['patient_id'] == int(p_id)].values.tolist()[0][1:]\n",
    "    val_rad.append(rad_data)\n",
    "\n",
    "val_dict = [{'image_adc': image_adc, 'image_dce': image_dce,'rad': rad, 'clinical': clinical,  'label': int(image_adc.split('_')[-1].replace('.nii.gz', ''))}\n",
    "                  for image_adc, image_dce, rad, clinical in zip(val_adcimages, val_dceimages,val_rad, val_clinical)]\n",
    "\n",
    "len(val_dict)  \n",
    "val_transforms = Compose(\n",
    "        [\n",
    "            LoadImaged(keys=[\"image_adc\",'image_dce' ]),\n",
    "            EnsureChannelFirstd(keys=[\"image_adc\", 'image_dce']),\n",
    "            Orientationd(keys=[\"image_adc\",'image_dce'], axcodes=\"RAS\"),\n",
    "            Resized(keys=[\"image_adc\"], spatial_size=(64, 64, 16)),\n",
    "            Resized(keys=[\"image_dce\"], spatial_size=(96, 96, 32)),\n",
    "            \n",
    "            NormalizeIntensityd(keys=[\"image_adc\", 'image_dce'], nonzero=True, channel_wise=True),\n",
    "            ToTensord(keys=['image_adc', 'image_dce','rad', 'clinical', 'label'])\n",
    "        ]\n",
    "    )\n",
    "\n",
    "\n",
    "train_ds = Dataset(data=train_dict, transform=val_transforms)\n",
    "val_ds = Dataset(data=val_dict, transform=val_transforms)\n",
    "\n",
    "\n",
    "# create a validation data loader\n",
    "train_loader = DataLoader(train_ds, batch_size=1, num_workers=16, pin_memory=True)\n",
    "val_loader = DataLoader(val_ds, batch_size=1, num_workers=16, pin_memory=True)\n"
   ]
  },
  {
   "cell_type": "code",
   "execution_count": 42,
   "id": "b8af4eaf-7669-4866-9bd5-8d475cd01905",
   "metadata": {},
   "outputs": [],
   "source": [
    "\n",
    "class DoubleTower(nn.Module):\n",
    "    def __init__(self,\n",
    "                 pretrained_dce='',\n",
    "                 pretrained_adc='',\n",
    "                 device = torch.device(\"cuda\"),\n",
    "                 num_classes=2,\n",
    "                 fc_hidden_size = 256\n",
    "                ):\n",
    "        super().__init__()\n",
    "        self.pretrained_dce = pretrained_dce\n",
    "        self.pretrained_adc = pretrained_adc\n",
    "        self.fc_hidden_size = fc_hidden_size\n",
    "        self.num_classes = num_classes\n",
    "        self.device = device\n",
    "\n",
    "        self.model_dce = monai.networks.nets.resnet18(spatial_dims=3, n_input_channels=1, num_classes=2, feed_forward=False).to(self.device)\n",
    "        self.model_adc = monai.networks.nets.resnet18(spatial_dims=3, n_input_channels=1, num_classes=2, feed_forward=False).to(self.device)\n",
    "\n",
    "        if  pretrained_dce != '':\n",
    "            dce_dict = self.model_dce.state_dict()\n",
    "            dce_pretrain = torch.load(self.pretrained_dce, map_location=self.device)\n",
    "            dce_pretrain_dict = {k:v for k, v in dce_pretrain.items() if  k in  dce_dict.keys()}\n",
    "            dce_dict.update(dce_pretrain_dict)\n",
    "            self.model_dce.load_state_dict(dce_dict)\n",
    "\n",
    "        if  pretrained_adc !='':\n",
    "            adc_dict = self.model_adc.state_dict()\n",
    "            adc_pretrain = torch.load(self.pretrained_adc, map_location=self.device)\n",
    "            adc_pretrain_dict = {k:v for k, v in adc_pretrain.items() if  k in  adc_dict.keys()}\n",
    "            adc_dict.update(adc_pretrain_dict)\n",
    "            self.model_adc.load_state_dict(adc_dict)\n",
    "\n",
    "        self.attn = nn.MultiheadAttention(512, num_heads=1, device=self.device)\n",
    "\n",
    "        # self.Linear1 = Linear(1024 + 6, self.num_classes, device=self.device)\n",
    "        self.Linear1 = Linear(512, self.fc_hidden_size, device=self.device)  # 1024 是 所有下采样特征图globalpool之后拼接的结果\n",
    "        self.Linear2 = Linear(self.fc_hidden_size + 6 + 9, self.num_classes, device=self.device)\n",
    "        self.dropout = nn.Dropout(0.2)\n",
    "        \n",
    "    def forward(self, x1):  # x 是SegResNet的输入影像矩阵\n",
    "\n",
    "        encode_output1 = self.model_dce(x1)\n",
    "        encode_output2 = self.model_dce(x2)\n",
    "        print(encode_output1.shape)\n",
    "        concatenated = encode_output1 * encode_output2\n",
    "\n",
    "        concatenated, _ = self.attn(concatenated, concatenated, concatenated)\n",
    "        fc1 = F.relu(self.Linear1(concatenated))\n",
    "        fc1 = self.dropout(fc1)\n",
    "        \n",
    "        fc2 = self.Linear2( torch.concat([fc1, rad, structured_data], dim=-1))\n",
    "        # fc2 = self.Linear2( torch.concat([torch.rand(fc1.shape[0], 256).to(self.device), structured_data], dim=-1))\n",
    "        \n",
    "        return F.log_softmax(fc2, dim=-1)\n",
    "\n",
    "    "
   ]
  },
  {
   "cell_type": "code",
   "execution_count": 43,
   "id": "55e5eaa5-7bd4-473e-85d6-314de691da4a",
   "metadata": {},
   "outputs": [
    {
     "data": {
      "text/plain": [
       "<All keys matched successfully>"
      ]
     },
     "execution_count": 43,
     "metadata": {},
     "output_type": "execute_result"
    }
   ],
   "source": [
    "\n",
    "# dce_pretrain_path = ''\n",
    "# adc_pretrain_path = ''\n",
    "\n",
    "device = torch.device(\"cuda:0\" if torch.cuda.is_available() else \"cpu\")\n",
    "model = DoubleTower(device = device)\n",
    "model_path = '/app/liucd/deeplearn_dec/DL_multi/NewTrain2Val3/net_selfattn/attn_concat/FreezeWeight/best_metric_model_classification3d_dict.pth'\n",
    "pretrained_path = os.path.join(model_path)\n",
    "model.load_state_dict(torch.load(pretrained_path, map_location=device))\n"
   ]
  },
  {
   "cell_type": "code",
   "execution_count": 61,
   "id": "ada4fdd0-28e7-4989-8e19-d123cad89623",
   "metadata": {},
   "outputs": [
    {
     "name": "stdout",
     "output_type": "stream",
     "text": [
      "torch.Size([1, 512])\n",
      "torch.Size([1, 512])\n",
      "torch.Size([1, 512])\n",
      "torch.Size([1, 512])\n",
      "torch.Size([1, 512])\n",
      "torch.Size([1, 512])\n"
     ]
    }
   ],
   "source": [
    "for idx, val_data in enumerate(val_loader):\n",
    "\n",
    "    val_dce = val_data[\"image_dce\"].cuda()\n",
    "    x2, rad, structured_data = val_data[\"image_adc\"].cuda(), val_data[\"rad\"].cuda(), val_data[\"clinical\"].cuda()\n",
    "       \n",
    "    cam = GradCAM(nn_module=model, target_layers=\"model_dce.layer4\")\n",
    "    result = cam(x=val_dce, class_idx=1)\n",
    "    if idx > 4:\n",
    "        break"
   ]
  },
  {
   "cell_type": "code",
   "execution_count": 64,
   "id": "897d7657-0488-4e19-9e77-3b420a1a6310",
   "metadata": {},
   "outputs": [
    {
     "data": {
      "text/plain": [
       "<matplotlib.image.AxesImage at 0x7f428d9cc9d0>"
      ]
     },
     "execution_count": 64,
     "metadata": {},
     "output_type": "execute_result"
    },
    {
     "data": {
      "image/png": "[encoded data removed]",
      "text/plain": [
       "<Figure size 640x480 with 1 Axes>"
      ]
     },
     "metadata": {},
     "output_type": "display_data"
    }
   ],
   "source": [
    "plt.imshow(result[0, 0, :, :, 1].cpu())"
   ]
  },
  {
   "cell_type": "code",
   "execution_count": 65,
   "id": "252c74f4-4c7c-4458-bacf-b25e5317b789",
   "metadata": {},
   "outputs": [
    {
     "data": {
      "text/plain": [
       "<matplotlib.image.AxesImage at 0x7f428daf5730>"
      ]
     },
     "execution_count": 65,
     "metadata": {},
     "output_type": "execute_result"
    },
    {
     "data": {
      "image/png": "[encoded data removed]",
      "text/plain": [
       "<Figure size 640x480 with 1 Axes>"
      ]
     },
     "metadata": {},
     "output_type": "display_data"
    }
   ],
   "source": [
    "plt.imshow(val_dce[0, 0, :, :, 1].cpu())"
   ]
  },
  {
   "cell_type": "code",
   "execution_count": 15,
   "id": "23363354-3151-43ab-87e2-c6fd43f4d1f6",
   "metadata": {},
   "outputs": [
    {
     "name": "stdout",
     "output_type": "stream",
     "text": [
      "torch.Size([1, 512])\n",
      "torch.Size([1, 1, 96, 96, 32])\n"
     ]
    }
   ],
   "source": [
    "# resnet 2d\n",
    "from monai.networks.nets import seresnet50\n",
    "from monai.visualize import GradCAM\n",
    "\n",
    "x1 = torch.randn(1, 1, 96, 96, 32).to(device)  # batch, channel, x, y, z\n",
    "x2 = torch.randn(1, 1, 64, 64, 16).to(device)\n",
    "\n",
    "structured_data = torch.randn(1, 6).to(device)\n",
    "rad = torch.rand(1, 9).to(device)\n",
    "\n",
    "cam = GradCAM(nn_module=model, target_layers=\"model_dce.layer4\")\n",
    "result = cam(x=x1, class_idx=1)\n",
    "print(result.shape)"
   ]
  },
  {
   "cell_type": "code",
   "execution_count": 16,
   "id": "81f158ee-b4dd-45ad-b4ca-252d960acffb",
   "metadata": {},
   "outputs": [
    {
     "data": {
      "text/plain": [
       "tensor(True, device='cuda:1')"
      ]
     },
     "execution_count": 16,
     "metadata": {},
     "output_type": "execute_result"
    }
   ],
   "source": [
    "(result[..., 6] == result[..., 4]).all()"
   ]
  },
  {
   "cell_type": "code",
   "execution_count": 20,
   "id": "17ca2d6c-6e5e-41f4-85bc-c8f6301bf321",
   "metadata": {},
   "outputs": [
    {
     "data": {
      "text/plain": [
       "<matplotlib.image.AxesImage at 0x7f428ebf7880>"
      ]
     },
     "execution_count": 20,
     "metadata": {},
     "output_type": "execute_result"
    },
    {
     "data": {
      "image/png": "[encoded data removed]",
      "text/plain": [
       "<Figure size 640x480 with 1 Axes>"
      ]
     },
     "metadata": {},
     "output_type": "display_data"
    }
   ],
   "source": [
    "import matplotlib.pyplot as plt\n",
    "\n",
    "plt.imshow(result[0, 0, :, :, 2].cpu())"
   ]
  },
  {
   "cell_type": "code",
   "execution_count": null,
   "id": "56c312f6-97a4-4e0d-84a2-ce47aa58914a",
   "metadata": {},
   "outputs": [],
   "source": []
  },
  {
   "cell_type": "code",
   "execution_count": null,
   "id": "3b78ead9-1dbd-4c64-906c-7a53b3e532eb",
   "metadata": {},
   "outputs": [],
   "source": []
  },
  {
   "cell_type": "code",
   "execution_count": 29,
   "id": "360bd038-93c4-4075-8c1a-d79d5abaa8dc",
   "metadata": {},
   "outputs": [
    {
     "name": "stdout",
     "output_type": "stream",
     "text": [
      "output:  torch.Size([8, 2])\n",
      "torch.Size([8, 1, 96, 96, 32])\n"
     ]
    }
   ],
   "source": [
    "\n",
    "class DoubleTower(nn.Module):\n",
    "    def __init__(self,\n",
    "                 pretrained_dce='',\n",
    "                 pretrained_adc='',\n",
    "                 device = torch.device(\"cuda\"),\n",
    "                 num_classes=2,\n",
    "                 fc_hidden_size = 256\n",
    "                ):\n",
    "        super().__init__()\n",
    "        self.pretrained_dce = pretrained_dce\n",
    "        self.pretrained_adc = pretrained_adc\n",
    "        self.fc_hidden_size = fc_hidden_size\n",
    "        self.num_classes = num_classes\n",
    "        self.device = device\n",
    "\n",
    "        self.model_dce = monai.networks.nets.DenseNet(3, 1, 2).to(self.device)\n",
    "        self.model_adc = monai.networks.nets.resnet34(spatial_dims=3, n_input_channels=1, num_classes=2, feed_forward=False).to(self.device)\n",
    "\n",
    "        if  pretrained_dce != '':\n",
    "            dce_dict = self.model_dce.state_dict()\n",
    "            dce_pretrain = torch.load(self.pretrained_dce, map_location=self.device)\n",
    "            dce_pretrain_dict = {k:v for k, v in dce_pretrain.items() if  k in  dce_dict.keys()}\n",
    "            dce_dict.update(dce_pretrain_dict)\n",
    "            self.model_dce.load_state_dict(dce_dict)\n",
    "\n",
    "\n",
    "        if  pretrained_adc !='':\n",
    "            adc_dict = self.model_adc.state_dict()\n",
    "            adc_pretrain = torch.load(self.pretrained_adc, map_location=self.device)\n",
    "            adc_pretrain_dict = {k:v for k, v in adc_pretrain.items() if  k in  adc_dict.keys()}\n",
    "            adc_dict.update(adc_pretrain_dict)\n",
    "            self.model_adc.load_state_dict(adc_dict)\n",
    "\n",
    "        self.attn = nn.MultiheadAttention(512, num_heads=8, batch_first=True, device=self.device)\n",
    "\n",
    "        # self.Linear1 = Linear(1024 + 6, self.num_classes, device=self.device)\n",
    "        self.Linear1 = Linear(1024, self.fc_hidden_size, device=self.device)  # 1024 是 所有下采样特征图globalpool之后拼接的结果\n",
    "        self.Linear2 = Linear(self.fc_hidden_size + 6 + 9, self.num_classes, device=self.device)\n",
    "        self.dropout = nn.Dropout(0.2)\n",
    "\n",
    "\n",
    "    def forward(self, x1):  # x 是SegResNet的输入影像矩阵\n",
    "\n",
    "        _, encode_output1 = self.model_dce(x1)   # output_1024\n",
    "        #encode_output2 = self.model_dce(x2)\n",
    "\n",
    "        #concatenated = encode_output1 * encode_output2\n",
    "\n",
    "        #concatenated = concatenated.unsqueeze(1)\n",
    "        #attn_output, _ = self.attn(concatenated, concatenated, concatenated)\n",
    "\n",
    "        #attn_output = attn_output.squeeze(1)\n",
    "        encode_output1 = torch.nn.functional.adaptive_avg_pool3d(encode_output1, (1,1, 1)).squeeze()\n",
    "\n",
    "        fc1 = F.relu(self.Linear1(encode_output1))\n",
    "        fc1 = self.dropout(fc1)\n",
    "\n",
    "        fc2 = self.Linear2( torch.concat([fc1, rad, structured_data], dim=-1))\n",
    "        return F.log_softmax(fc2, dim=-1)\n",
    "\n",
    "\n",
    "\n",
    "my_model = DoubleTower()\n",
    "\n",
    "x1 = torch.randn(8, 1, 96, 96, 32).cuda()  # batch, channel, x, y, z\n",
    "x2 = torch.randn(8, 1, 94, 64, 16).cuda()\n",
    "structured_data = torch.randn(8, 6).cuda()\n",
    "rad = torch.randn(8, 9).cuda()\n",
    "output = my_model(x1)\n",
    "print('output: ', output.shape)\n",
    "\n",
    "\n",
    "cam = GradCAM(nn_module=my_model, target_layers=\"model_dce.features.denseblock4.denselayer16.layers.relu2\")\n",
    "result = cam(x=x1, class_idx=1)\n",
    "print(result.shape)"
   ]
  },
  {
   "cell_type": "code",
   "execution_count": 30,
   "id": "26aa1f6d-5935-4de3-92f4-8dd8b8f7b4cc",
   "metadata": {},
   "outputs": [],
   "source": [
    "# for name, _ in my_model.named_modules(): \n",
    "#     print(name)"
   ]
  },
  {
   "cell_type": "code",
   "execution_count": 37,
   "id": "b3654945-b4c8-4eeb-8982-983f57ffd03e",
   "metadata": {},
   "outputs": [
    {
     "data": {
      "text/plain": [
       "<matplotlib.image.AxesImage at 0x7f416bf1cb50>"
      ]
     },
     "execution_count": 37,
     "metadata": {},
     "output_type": "execute_result"
    },
    {
     "data": {
      "image/png": "[encoded data removed]",
      "text/plain": [
       "<Figure size 640x480 with 1 Axes>"
      ]
     },
     "metadata": {},
     "output_type": "display_data"
    }
   ],
   "source": [
    "plt.imshow(result[0, 0, :, :, 1].cpu())"
   ]
  },
  {
   "cell_type": "code",
   "execution_count": null,
   "id": "38c78aaa-f5cc-42fb-b5ba-554461e43f92",
   "metadata": {},
   "outputs": [],
   "source": []
  }
 ],
 "metadata": {
  "kernelspec": {
   "display_name": "Python 3 (ipykernel)",
   "language": "python",
   "name": "python3"
  },
  "language_info": {
   "codemirror_mode": {
    "name": "ipython",
    "version": 3
   },
   "file_extension": ".py",
   "mimetype": "text/x-python",
   "name": "python",
   "nbconvert_exporter": "python",
   "pygments_lexer": "ipython3",
   "version": "3.9.13"
  }
 },
 "nbformat": 4,
 "nbformat_minor": 5
}
