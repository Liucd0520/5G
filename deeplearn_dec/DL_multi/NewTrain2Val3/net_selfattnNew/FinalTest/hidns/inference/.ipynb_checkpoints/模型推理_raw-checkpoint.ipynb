{
 "cells": [
  {
   "cell_type": "code",
   "execution_count": 9,
   "metadata": {},
   "outputs": [],
   "source": [
    "import os\n",
    "import SimpleITK as sitk\n",
    "import glob\n",
    "import monai\n",
    "from monai.transforms import (\n",
    "    AsDiscrete,\n",
    "    AsDiscreted,\n",
    "    EnsureChannelFirstd,\n",
    "    Compose,\n",
    "    CropForegroundd,\n",
    "    LoadImaged,\n",
    "    Orientationd,\n",
    "    RandCropByPosNegLabeld,\n",
    "    SaveImaged,\n",
    "    ScaleIntensityRanged,\n",
    "    Spacingd,\n",
    "    AddChanneld,\n",
    "    SpatialPadd,\n",
    "    RandRotate90d,\n",
    "    RandShiftIntensityd,\n",
    "    EnsureTyped,\n",
    "    EnsureType,\n",
    "    MapTransform,\n",
    "    Resized,\n",
    "    Invertd,\n",
    "    ToTensord,\n",
    "    NormalizeIntensityd,\n",
    "    RandFlipd,\n",
    "    Lambdad,\n",
    "    Activations,\n",
    "    AsDiscrete,\n",
    ")\n",
    "from monai.metrics import ROCAUCMetric\n",
    "from monai.data import CacheDataset, ThreadDataLoader,DataLoader, Dataset, decollate_batch,load_decathlon_datalist\n",
    "import torch"
   ]
  },
  {
   "cell_type": "code",
   "execution_count": 10,
   "metadata": {},
   "outputs": [
    {
     "data": {
      "text/plain": [
       "66"
      ]
     },
     "execution_count": 10,
     "metadata": {},
     "output_type": "execute_result"
    }
   ],
   "source": [
    "pretrained_path = 'best_metric_model_classification3d_dict.pth'\n",
    "data_dir = './Mixed2/'\n",
    "\n",
    "all_images = sorted(glob.glob(os.path.join(data_dir,  '*.nii.gz')))\n",
    "\n",
    "# split = int(len(all_images) * 0.6)\n",
    "# # train_image = all_images[:split]\n",
    "# # val_image = all_images[split: ]\n",
    "# train_image = all_images[split: ] \n",
    "# val_image = all_images[:split]\n",
    "\n",
    "val_dict = [{'image': image_name, 'label': int(image_name.split('_')[-1].replace('.nii.gz', ''))} for image_name in all_images]\n",
    "len(val_dict)\n"
   ]
  },
  {
   "cell_type": "code",
   "execution_count": 11,
   "metadata": {},
   "outputs": [
    {
     "name": "stderr",
     "output_type": "stream",
     "text": [
      "Loading dataset: 100%|█████████████████████████████████████████████████████████████████| 66/66 [00:02<00:00, 32.76it/s]\n"
     ]
    }
   ],
   "source": [
    "val_transforms = Compose(\n",
    "        [\n",
    "            LoadImaged(keys=[\"image\", ]),\n",
    "            EnsureChannelFirstd(keys=[\"image\", ]),\n",
    "            Orientationd(keys=[\"image\", ], axcodes=\"RAS\"),\n",
    "            Resized(keys=[\"image\"], spatial_size=(96, 96, 32)),\n",
    "            NormalizeIntensityd(keys=\"image\", nonzero=True, channel_wise=True),\n",
    "            ToTensord(keys=['image', 'label'])\n",
    "        ]\n",
    "    )\n",
    "\n",
    "val_ds = CacheDataset(data=val_dict, transform=val_transforms, cache_rate=1.0, num_workers=12)\n",
    "# create a validation data loader\n",
    "val_loader = DataLoader(val_ds, batch_size=1, num_workers=16, pin_memory=True)"
   ]
  },
  {
   "cell_type": "code",
   "execution_count": 2,
   "metadata": {},
   "outputs": [
    {
     "ename": "NameError",
     "evalue": "name 'torch' is not defined",
     "output_type": "error",
     "traceback": [
      "\u001b[0;31m---------------------------------------------------------------------------\u001b[0m",
      "\u001b[0;31mNameError\u001b[0m                                 Traceback (most recent call last)",
      "Cell \u001b[0;32mIn[2], line 1\u001b[0m\n\u001b[0;32m----> 1\u001b[0m device \u001b[38;5;241m=\u001b[39m \u001b[43mtorch\u001b[49m\u001b[38;5;241m.\u001b[39mdevice(\u001b[38;5;124m\"\u001b[39m\u001b[38;5;124mcuda:3\u001b[39m\u001b[38;5;124m\"\u001b[39m \u001b[38;5;28;01mif\u001b[39;00m torch\u001b[38;5;241m.\u001b[39mcuda\u001b[38;5;241m.\u001b[39mis_available() \u001b[38;5;28;01melse\u001b[39;00m \u001b[38;5;124m\"\u001b[39m\u001b[38;5;124mcpu\u001b[39m\u001b[38;5;124m\"\u001b[39m)\n\u001b[1;32m      2\u001b[0m model \u001b[38;5;241m=\u001b[39m monai\u001b[38;5;241m.\u001b[39mnetworks\u001b[38;5;241m.\u001b[39mnets\u001b[38;5;241m.\u001b[39mresnet18(spatial_dims\u001b[38;5;241m=\u001b[39m\u001b[38;5;241m3\u001b[39m, n_input_channels\u001b[38;5;241m=\u001b[39m\u001b[38;5;241m1\u001b[39m, num_classes\u001b[38;5;241m=\u001b[39m\u001b[38;5;241m2\u001b[39m)\u001b[38;5;241m.\u001b[39mto(device)\n\u001b[1;32m      3\u001b[0m model\u001b[38;5;241m.\u001b[39mload_state_dict(torch\u001b[38;5;241m.\u001b[39mload(pretrained_path, map_location\u001b[38;5;241m=\u001b[39mtorch\u001b[38;5;241m.\u001b[39mdevice(\u001b[38;5;124m'\u001b[39m\u001b[38;5;124mcuda:0\u001b[39m\u001b[38;5;124m'\u001b[39m)))\n",
      "\u001b[0;31mNameError\u001b[0m: name 'torch' is not defined"
     ]
    }
   ],
   "source": [
    "\n",
    "device = torch.device(\"cuda:3\" if torch.cuda.is_available() else \"cpu\")\n",
    "model = monai.networks.nets.resnet18(spatial_dims=3, n_input_channels=1, num_classes=2).to(device)\n",
    "model.load_state_dict(torch.load(pretrained_path, map_location=torch.device('cuda:0')))"
   ]
  },
  {
   "cell_type": "code",
   "execution_count": 13,
   "metadata": {},
   "outputs": [
    {
     "name": "stdout",
     "output_type": "stream",
     "text": [
      "Mixed2/2019_07_31_5344100_5934655_+C_Reg2_0000_0.nii.gz\n",
      "Mixed2/2019_09_06_1298758_5966750_+C_Reg2_0000_1.nii.gz\n",
      "Mixed2/2019_10_08_5430679_6200746_+C_Reg2_0000_0.nii.gz\n",
      "Mixed2/2019_11_28_5518320_6177727_+C_Reg2_0000_0.nii.gz\n",
      "Mixed2/2020_01_12_5563177_6260624_+C_Reg2_0000_0.nii.gz\n",
      "Mixed2/2020_01_20_5577636_6216554_+C_Reg2_0000_0.nii.gz\n",
      "Mixed2/2020_03_10_1364226_6235750_+C_Reg2_0000_0.nii.gz\n",
      "Mixed2/2020_03_17_5614238_6417032_+C_Reg2_0000_0.nii.gz\n",
      "Mixed2/2020_03_26_5622217_6311607_+C_Reg2_0000_0.nii.gz\n",
      "Mixed2/2020_04_27_1723627_6771393_+C_Reg2_0000_0.nii.gz\n",
      "Mixed2/2020_05_20_731908_6266136_+C_Reg2_0000_1.nii.gz\n",
      "Mixed2/2020_07_20_3534085_6642320_+C_Reg2_0000_0.nii.gz\n",
      "Mixed2/2020_07_25_3753963_6624869_+C_Reg2_0000_0.nii.gz\n"
     ]
    },
    {
     "data": {
      "text/plain": [
       "0.803030303030303"
      ]
     },
     "execution_count": 13,
     "metadata": {},
     "output_type": "execute_result"
    }
   ],
   "source": [
    "post_transforms = Compose([Activations(softmax=True), \n",
    "                    AsDiscrete(argmax=True)\n",
    "                    ])\n",
    "\n",
    "model.eval()\n",
    "results = []\n",
    "with torch.no_grad():\n",
    "    \n",
    "    y = torch.tensor([], dtype=torch.long, device=device)\n",
    "    for val_data in val_loader:\n",
    "        val_images, val_labels = val_data[\"image\"].to(device), val_data[\"label\"].to(device)\n",
    "       \n",
    "        y_pred = model(val_images)   \n",
    "        predict = post_transforms(decollate_batch(y_pred)[0])\n",
    "\n",
    "#         print('Label | Prediction: ',val_labels.item(),'|',  int(predict.item()))\n",
    "        result = int(val_labels.item() == int(predict.item()))\n",
    "        results.append(result)\n",
    "        if result == 0:\n",
    "            print(val_data['image_meta_dict']['filename_or_obj'][0])\n",
    "sum(results) / len(results)"
   ]
  },
  {
   "cell_type": "code",
   "execution_count": 65,
   "metadata": {},
   "outputs": [
    {
     "ename": "SyntaxError",
     "evalue": "invalid decimal literal (998485614.py, line 1)",
     "output_type": "error",
     "traceback": [
      "\u001b[0;36m  Cell \u001b[0;32mIn [65], line 1\u001b[0;36m\u001b[0m\n\u001b[0;31m    Mixed/2018_07_09_4778901_4966875_+C_Reg2_0000_1.nii.gz\u001b[0m\n\u001b[0m                                    ^\u001b[0m\n\u001b[0;31mSyntaxError\u001b[0m\u001b[0;31m:\u001b[0m invalid decimal literal\n"
     ]
    }
   ],
   "source": [
    "# 后40%\n",
    "Mixed/2018_07_09_4778901_4966875_+C_Reg2_0000_1.nii.gz\n",
    "Mixed/2018_08_01_4826541_5196840_+C_Reg2_0000_0.nii.gz\n",
    "Mixed/2018_08_13_4827203_5050551_+C_Reg2_0000_0.nii.gz\n",
    "Mixed/2018_10_30_4948949_5278769_+C_Reg2_0000_1.nii.gz\n",
    "Mixed/2018_11_23_4981484_5448008_+C_Reg2_0000_0.nii.gz\n",
    "Mixed/2018_12_07_4994670_5471998_+C_Reg2_0000_0.nii.gz\n",
    "Mixed/2019_03_01_8037719_5528736_+C_Reg2_0000_0.nii.gz\n",
    "Mixed/2019_03_26_5149647_5632190_+C_Reg2_0000_1.nii.gz\n",
    "Mixed/2019_04_08_5165615_5651423_+C_Reg2_0000_0.nii.gz\n",
    "Mixed/2019_04_12_1584882_5677318_+C_Reg2_0000_1.nii.gz\n",
    "Mixed/2019_04_29_5197747_5520710_+C_Reg2_0000_1.nii.gz\n",
    "Mixed/2019_06_13_15_5270810_5767438_+C_Reg2_0000_0.nii.gz\n",
    "Mixed/2019_06_21_5283203_5920987_+C_Reg2_0000_1.nii.gz\n",
    "Mixed/2019_07_30_11_5341296_5882035_+C_Reg2_0000_0.nii.gz"
   ]
  },
  {
   "cell_type": "code",
   "execution_count": 53,
   "metadata": {},
   "outputs": [
    {
     "data": {
      "text/plain": [
       "14.72"
      ]
     },
     "execution_count": 53,
     "metadata": {},
     "output_type": "execute_result"
    }
   ],
   "source": [
    "# 前60%里的\n",
    "Mixed/2014_04_11_3125784_2619932_+C_Reg2_0000_0.nii.gz\n",
    "Mixed/2014_08_26_8049503_2780230_+C_Reg2_0000_1.nii.gz\n",
    "Mixed/2014_09_10_3263542_2793327_+C_Reg2_0000_1.nii.gz\n",
    "Mixed/2014_12_16_666388_2809931_+C_Reg2_0000_1.nii.gz\n",
    "Mixed/2015_01_05_3351046_2927261_+C_Reg2_0000_0.nii.gz\n",
    "Mixed/2017_02_09_21350_4175057_+C_Reg2_0000_1.nii.gz\n",
    "Mixed/2017_06_19_3289508_4348412_+C_Reg2_0000_1.nii.gz\n",
    "Mixed/2017_07_07_4272111_4317065_+C_Reg2_0000_1.nii.gz\n",
    "Mixed/2017_07_25_4302448_4373232_+C_Reg2_0000_1.nii.gz\n",
    "Mixed/2017_12_06_4498974_4710164_+C_Reg2_0000_1.nii.gz\n",
    "Mixed/2018_03_29_4641984_4867060_+C_Reg2_0000_0.nii.gz\n",
    "Mixed/2018_04_18_1088138_4892941_+C_Reg2_0000_1.nii.gz\n",
    "Mixed/2018_04_27_4685497_5064354_+C_Reg2_0000_0.nii.gz"
   ]
  },
  {
   "cell_type": "code",
   "execution_count": null,
   "metadata": {},
   "outputs": [],
   "source": []
  },
  {
   "cell_type": "code",
   "execution_count": null,
   "metadata": {},
   "outputs": [],
   "source": []
  },
  {
   "cell_type": "code",
   "execution_count": null,
   "metadata": {},
   "outputs": [],
   "source": []
  },
  {
   "cell_type": "code",
   "execution_count": null,
   "metadata": {},
   "outputs": [],
   "source": []
  }
 ],
 "metadata": {
  "kernelspec": {
   "display_name": "monai",
   "language": "python",
   "name": "monai"
  },
  "language_info": {
   "codemirror_mode": {
    "name": "ipython",
    "version": 3
   },
   "file_extension": ".py",
   "mimetype": "text/x-python",
   "name": "python",
   "nbconvert_exporter": "python",
   "pygments_lexer": "ipython3",
   "version": "3.8.8"
  }
 },
 "nbformat": 4,
 "nbformat_minor": 4
}
