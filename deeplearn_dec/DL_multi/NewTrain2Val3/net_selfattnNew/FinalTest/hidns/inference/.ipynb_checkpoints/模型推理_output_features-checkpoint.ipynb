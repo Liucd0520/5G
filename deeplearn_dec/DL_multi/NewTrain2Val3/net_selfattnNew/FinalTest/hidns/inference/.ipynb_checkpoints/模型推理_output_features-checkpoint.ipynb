{
 "cells": [
  {
   "cell_type": "code",
   "execution_count": 1,
   "id": "bc4b4e1f-ac0c-49c1-86f0-7f47f0226d8a",
   "metadata": {},
   "outputs": [],
   "source": [
    "import os\n",
    "import SimpleITK as sitk\n",
    "import glob\n",
    "import monai\n",
    "from monai.transforms import (\n",
    "    AsDiscrete,\n",
    "    AsDiscreted,\n",
    "    EnsureChannelFirstd,\n",
    "    Compose,\n",
    "    CropForegroundd,\n",
    "    LoadImaged,\n",
    "    Orientationd,\n",
    "    RandCropByPosNegLabeld,\n",
    "    SaveImaged,\n",
    "    ScaleIntensityRanged,\n",
    "    Spacingd,\n",
    "    AddChanneld,\n",
    "    SpatialPadd,\n",
    "    RandRotate90d,\n",
    "    RandShiftIntensityd,\n",
    "    EnsureTyped,\n",
    "    EnsureType,\n",
    "    MapTransform,\n",
    "    Resized,\n",
    "    Invertd,\n",
    "    ToTensord,\n",
    "    NormalizeIntensityd,\n",
    "    RandFlipd,\n",
    "    Lambdad,\n",
    "    Activations,\n",
    "    AsDiscrete,\n",
    ")\n",
    "from monai.metrics import ROCAUCMetric\n",
    "from monai.data import CacheDataset, ThreadDataLoader,DataLoader, Dataset, decollate_batch,load_decathlon_datalist\n",
    "import torch\n",
    "from monai.utils import first, set_determinism\n",
    "import torch.nn as  nn\n",
    "from torch.nn import Linear,  Softmax\n",
    "import torch.nn.functional as F\n",
    "import pandas as pd\n",
    "from sklearn import metrics\n",
    "torch.multiprocessing.set_sharing_strategy('file_system')"
   ]
  },
  {
   "cell_type": "code",
   "execution_count": null,
   "id": "5a56a52a-1985-4e0e-ac96-a0af32db887b",
   "metadata": {},
   "outputs": [],
   "source": [
    "\n"
   ]
  },
  {
   "cell_type": "code",
   "execution_count": 2,
   "id": "6540bf41-8180-40a4-bbf3-75b49376e72c",
   "metadata": {},
   "outputs": [],
   "source": [
    "df_raw = pd.read_csv('/app/liucd/判定_fill_df.csv')\n",
    "df_cli = df_raw[['patient_ID', 'T_stage', 'HER2_status', 'NAC_classification', 'ER_percentage', 'PR_percentage', 'Ki_67']]\n"
   ]
  },
  {
   "cell_type": "code",
   "execution_count": 45,
   "id": "2a544bd6-b9c4-432b-850a-500584db9ba5",
   "metadata": {},
   "outputs": [
    {
     "name": "stdout",
     "output_type": "stream",
     "text": [
      "1317\n",
      "2264 2263\n"
     ]
    }
   ],
   "source": [
    "\n",
    "rad_features = ['patient_id', 'dce-delta-log-sigma-5-0-mm-3D_glcm_DifferenceEntropy',\n",
    " 'dce-bf-log-sigma-3-0-mm-3D_firstorder_Skewness',\n",
    " 'dce-bf-log-sigma-4-0-mm-3D_gldm_DependenceEntropy',\n",
    " 'dce-bf-log-sigma-5-0-mm-3D_firstorder_Skewness',\n",
    " 'dce-bf-wavelet-LHL_firstorder_Mean',\n",
    " 'dce-bf-wavelet-LHL_glcm_DifferenceEntropy',\n",
    " 'dce-bf-wavelet-LHL_glrlm_RunEntropy',\n",
    " 'dce-bf-wavelet-HLL_glszm_ZoneEntropy',\n",
    " 'adc-bl-wavelet-LLL_gldm_SmallDependenceEmphasis']\n",
    "\n",
    "def merge_df(df_raw_path):\n",
    "    \"\"\"\n",
    "    输入原始的文件路径：没有delta的\n",
    "    输出 既有原有的，又有delta的列\n",
    "    \"\"\"\n",
    "    df_raw = pd.read_csv(df_raw_path)\n",
    "    print(len(df_raw))\n",
    "    cols = df_raw.columns[1: -1]\n",
    "    \n",
    "    col_bl = [name for name in cols if '-bl-' in name]\n",
    "    col_bf = [name for name in cols if '-bf-' in name]\n",
    "    print(len(col_bl), len(col_bf))\n",
    "    df_first = df_raw[col_bl]\n",
    "    df_second = df_raw[col_bf]\n",
    "    df_first.columns = [name.replace('-bl-', '-delta-') for name in df_first.columns]\n",
    "    df_second.columns = [name.replace('-bf-', '-delta-') for name in df_second.columns]\n",
    "    \n",
    "    df_delta = df_second - df_first  # 两个dataframe相减需要相同的行名和列名\n",
    "    \n",
    "    df_delta.insert(loc= 0 , column= 'patient_id', value= df_raw['patient_id'])\n",
    "    \n",
    "    df_merge = pd.merge(df_delta, df_raw, left_on='patient_id', right_on='patient_id')  # 方法2\n",
    "    df_merge = pd.concat([df_delta, df_raw[df_raw.columns[1: ]]], axis=1)  \n",
    "    \n",
    "    return df_merge\n",
    "\n",
    "file_path  = '/app/liucd/5center-1310-all+6status-pcr.csv'\n",
    "df_rad = merge_df(file_path)\n",
    "df_rad = df_rad[rad_features]\n"
   ]
  },
  {
   "cell_type": "code",
   "execution_count": null,
   "id": "c5b396ab-9e77-4cb9-8325-ee48dd3b8492",
   "metadata": {},
   "outputs": [],
   "source": []
  },
  {
   "cell_type": "code",
   "execution_count": 4,
   "id": "35fa5f6a-86a3-4e9d-8e0b-40fd7da3fa4e",
   "metadata": {},
   "outputs": [
    {
     "data": {
      "text/plain": [
       "691"
      ]
     },
     "execution_count": 4,
     "metadata": {},
     "output_type": "execute_result"
    }
   ],
   "source": [
    "syf_adcdir = '/app/liucd/deeplearn_dec/DL_dec/data_adc/syf/Mixed'\n",
    "zy_adcdir = '/app/liucd/deeplearn_dec/DL_dec/data_adc/zunyi/Mixed'\n",
    "\n",
    "syf_dcedir = '/app/liucd/deeplearn_dec/DL_dec/data/syf/Mixed'\n",
    "zy_dcedir = '/app/liucd/deeplearn_dec/DL_dec/data/zunyi/Mixed'\n",
    "\n",
    "\n",
    "train_adcimages = sorted(glob.glob(os.path.join(syf_adcdir,  '*.nii.gz'))) + \\\n",
    "                 sorted(glob.glob(os.path.join(zy_adcdir,  '*.nii.gz')))\n",
    "\n",
    "\n",
    "train_dceimages = sorted(glob.glob(os.path.join(syf_dcedir,  '*.nii.gz'))) + \\\n",
    "                 sorted(glob.glob(os.path.join(zy_dcedir,  '*.nii.gz')))\n",
    "\n",
    "train_clinical = []\n",
    "for file_path in train_adcimages:\n",
    "    p_id = file_path.split('_')[-4]\n",
    "    clinical_data = df_cli[df_cli['patient_ID'] == int(p_id)].values.tolist()[0][1:]\n",
    "    train_clinical.append(clinical_data)\n",
    "    \n",
    "train_rad = []\n",
    "for file_path in train_adcimages:\n",
    "    p_id = file_path.split('_')[-4]\n",
    "    rad_data = df_rad[df_rad['patient_id'] == int(p_id)].values.tolist()[0][1:]\n",
    "    train_rad.append(rad_data)\n",
    "    \n",
    "train_dict = [{'image_adc': image_adc, 'image_dce': image_dce, 'rad':rad, 'clinical': clinical,  'label': int(image_adc.split('_')[-1].replace('.nii.gz', ''))}\n",
    "                  for image_adc, image_dce, rad, clinical in zip(train_adcimages,  train_dceimages, train_rad, train_clinical)]\n",
    "len(train_dict)"
   ]
  },
  {
   "cell_type": "code",
   "execution_count": null,
   "id": "59332197-94ed-48b9-a3b6-ce68b249d696",
   "metadata": {},
   "outputs": [],
   "source": []
  },
  {
   "cell_type": "code",
   "execution_count": 53,
   "id": "651c3780-2fe2-4acc-af58-120786535afa",
   "metadata": {},
   "outputs": [
    {
     "name": "stdout",
     "output_type": "stream",
     "text": [
      "{'image_adc': '/app/liucd/deeplearn_dec/DL_dec/data_adc/shandong/Mixed/jiang_qin_592586_ADC2_0000_0.nii.gz', 'image_dce': '/app/liucd/deeplearn_dec/DL_dec/data/shandong/Mixed/jiang_qin_592586_+C2_0000_0.nii.gz', 'rad': [-0.6677709150000001, -0.231714455, 6.911215306, 0.002971937, -0.831285727, 2.364310408, 3.846914068, 6.688548345, 0.755574673], 'clinical': [2.0, 0.0, 2.0, 0.9, 0.35, 0.35], 'label': 0}\n",
      "242\n"
     ]
    }
   ],
   "source": [
    "sd_adcdir = '/app/liucd/deeplearn_dec/DL_dec/data_adc/shandong/Mixed/'\n",
    "sd_dcedir = '/app/liucd/deeplearn_dec/DL_dec/data/shandong/Mixed'\n",
    "val_adcimages =  sorted(glob.glob(os.path.join(sd_adcdir,  '*.nii.gz'))) \n",
    "val_dceimages =  sorted(glob.glob(os.path.join(sd_dcedir,  '*.nii.gz'))) \n",
    "\n",
    "\n",
    "val_clinical = []\n",
    "for file_path in val_adcimages:\n",
    "    p_id = file_path.split('_')[-4]\n",
    "    clinical_data = df_cli[df_cli['patient_ID'] == int(p_id)].values.tolist()[0][1:]\n",
    "    val_clinical.append(clinical_data)\n",
    "\n",
    "val_rad = []\n",
    "for file_path in val_adcimages:\n",
    "    p_id = file_path.split('_')[-4]\n",
    "    rad_data = df_rad[df_rad['patient_id'] == int(p_id)].values.tolist()[0][1:]\n",
    "    val_rad.append(rad_data)\n",
    "\n",
    "sd_dict = [{'image_adc': image_adc, 'image_dce': image_dce,'rad': rad, 'clinical': clinical,  'label': int(image_adc.split('_')[-1].replace('.nii.gz', ''))}\n",
    "                  for image_adc, image_dce,rad, clinical in zip(val_adcimages, val_dceimages,val_rad, val_clinical)]\n",
    "\n",
    "\n",
    "print(sd_dict[-1])\n",
    "print(len(sd_dict))"
   ]
  },
  {
   "cell_type": "code",
   "execution_count": 6,
   "id": "8e4cac06-3a11-4ccc-b134-592332b95b29",
   "metadata": {},
   "outputs": [
    {
     "name": "stdout",
     "output_type": "stream",
     "text": [
      "{'image_adc': '/app/liucd/deeplearn_dec/DL_dec/data_adc/xian/Mixed/236_1412879_ADC2_0000_0.nii.gz', 'image_dce': '/app/liucd/deeplearn_dec/DL_dec/data/xian/Mixed/236_1412879_+C2_0000_0.nii.gz', 'rad': [1.2473272629999999, 0.513161509, 7.360802124, 0.79456651, -3.795516269, 3.605445809, 4.823300507, 6.446684546, 0.791294387], 'clinical': [1.0, 0.0, 2.0, 0.0, 0.0, 0.7], 'label': 0}\n",
      "182\n"
     ]
    }
   ],
   "source": [
    "\n",
    "xian_adcdir = '/app/liucd/deeplearn_dec/DL_dec/data_adc/xian/Mixed'\n",
    "xian_dcedir = '/app/liucd/deeplearn_dec/DL_dec/data/xian/Mixed'\n",
    "\n",
    "val_adcimages =  sorted(glob.glob(os.path.join(xian_adcdir,  '*.nii.gz'))) \n",
    "\n",
    "val_dceimages =  sorted(glob.glob(os.path.join(xian_dcedir,  '*.nii.gz'))) \n",
    "\n",
    "\n",
    "val_clinical = []\n",
    "for file_path in val_adcimages:\n",
    "    p_id = file_path.split('_')[-4]\n",
    "    clinical_data = df_cli[df_cli['patient_ID'] == int(p_id)].values.tolist()[0][1:]\n",
    "    val_clinical.append(clinical_data)\n",
    "\n",
    "val_rad = []\n",
    "for file_path in val_adcimages:\n",
    "    p_id = file_path.split('_')[-4]\n",
    "    rad_data = df_rad[df_rad['patient_id'] == int(p_id)].values.tolist()[0][1:]\n",
    "    val_rad.append(rad_data)\n",
    "\n",
    "xian_dict = [{'image_adc': image_adc, 'image_dce': image_dce,'rad': rad, 'clinical': clinical,  'label': int(image_adc.split('_')[-1].replace('.nii.gz', ''))}\n",
    "                  for image_adc, image_dce,rad, clinical in zip(val_adcimages, val_dceimages,val_rad, val_clinical)]\n",
    "\n",
    "\n",
    "print(xian_dict[-1])\n",
    "print(len(xian_dict))"
   ]
  },
  {
   "cell_type": "code",
   "execution_count": null,
   "id": "71da870b-15de-4ef3-ba72-eda5e3db8630",
   "metadata": {},
   "outputs": [],
   "source": []
  },
  {
   "cell_type": "code",
   "execution_count": 7,
   "id": "139d7b4a-ea9b-4f15-9a1b-962c31f4210b",
   "metadata": {},
   "outputs": [
    {
     "name": "stdout",
     "output_type": "stream",
     "text": [
      "{'image_adc': '/app/liucd/deeplearn_dec/DL_dec/data_adc/yizhong/Mixed/205_1510029_ADC2_0000_0.nii.gz', 'image_dce': '/app/liucd/deeplearn_dec/DL_dec/data/yizhong/Mixed/205_1510029_+C2_0000_0.nii.gz', 'rad': [-2.156213692, 0.443251135, 6.043469151, 0.529713073, -0.01033215, 0.982131171, 3.543917477, 4.058962719, 0.079513089], 'clinical': [2.0, 0.0, 2.0, 0.8, 0.2, 0.5], 'label': 0}\n",
      "200\n"
     ]
    }
   ],
   "source": [
    "\n",
    "yizhong_adcdir = '/app/liucd/deeplearn_dec/DL_dec/data_adc/yizhong/Mixed'\n",
    "yizhong_dcedir = '/app/liucd/deeplearn_dec/DL_dec/data/yizhong/Mixed'\n",
    "\n",
    "val_adcimages = sorted(glob.glob(os.path.join(yizhong_adcdir,  '*.nii.gz'))) \n",
    "val_dceimages =  sorted(glob.glob(os.path.join(yizhong_dcedir,  '*.nii.gz')))\n",
    "\n",
    "\n",
    "val_clinical = []\n",
    "for file_path in val_adcimages:\n",
    "    p_id = file_path.split('_')[-4]\n",
    "    clinical_data = df_cli[df_cli['patient_ID'] == int(p_id)].values.tolist()[0][1:]\n",
    "    val_clinical.append(clinical_data)\n",
    "\n",
    "val_rad = []\n",
    "for file_path in val_adcimages:\n",
    "    p_id = file_path.split('_')[-4]\n",
    "    rad_data = df_rad[df_rad['patient_id'] == int(p_id)].values.tolist()[0][1:]\n",
    "    val_rad.append(rad_data)\n",
    "\n",
    "yizhong_dict = [{'image_adc': image_adc, 'image_dce': image_dce,'rad': rad, 'clinical': clinical,  'label': int(image_adc.split('_')[-1].replace('.nii.gz', ''))}\n",
    "                  for image_adc, image_dce,rad, clinical in zip(val_adcimages, val_dceimages,val_rad, val_clinical)]\n",
    "\n",
    "print(yizhong_dict[-1])\n",
    "print(len(yizhong_dict))"
   ]
  },
  {
   "cell_type": "code",
   "execution_count": 54,
   "id": "0241498b-8555-412c-99f0-af3ec8ba3fea",
   "metadata": {},
   "outputs": [
    {
     "data": {
      "text/plain": [
       "624"
      ]
     },
     "execution_count": 54,
     "metadata": {},
     "output_type": "execute_result"
    }
   ],
   "source": [
    "val_adcimages =  sorted(glob.glob(os.path.join(sd_adcdir,  '*.nii.gz'))) + \\\n",
    "                 sorted(glob.glob(os.path.join(yizhong_adcdir,  '*.nii.gz'))) + \\\n",
    "                 sorted(glob.glob(os.path.join(xian_adcdir,  '*.nii.gz'))) \n",
    "\n",
    "val_dceimages =  sorted(glob.glob(os.path.join(sd_dcedir,  '*.nii.gz'))) + \\\n",
    "                 sorted(glob.glob(os.path.join(yizhong_dcedir,  '*.nii.gz'))) + \\\n",
    "                 sorted(glob.glob(os.path.join(xian_dcedir,  '*.nii.gz'))) \n",
    "\n",
    "val_clinical = []\n",
    "for file_path in val_adcimages:\n",
    "    p_id = file_path.split('_')[-4]\n",
    "    clinical_data = df_cli[df_cli['patient_ID'] == int(p_id)].values.tolist()[0][1:]\n",
    "    val_clinical.append(clinical_data)\n",
    "\n",
    "val_rad = []\n",
    "for file_path in val_adcimages:\n",
    "    p_id = file_path.split('_')[-4]\n",
    "    rad_data = df_rad[df_rad['patient_id'] == int(p_id)].values.tolist()[0][1:]\n",
    "    val_rad.append(rad_data)\n",
    "\n",
    "val_dict = [{'image_adc': image_adc, 'image_dce': image_dce,'rad': rad, 'clinical': clinical,  'label': int(image_adc.split('_')[-1].replace('.nii.gz', ''))}\n",
    "                  for image_adc, image_dce, rad, clinical in zip(val_adcimages, val_dceimages,val_rad, val_clinical)]\n",
    "\n",
    "len(val_dict)   "
   ]
  },
  {
   "cell_type": "code",
   "execution_count": 55,
   "id": "4979ec11-f3ca-4814-8955-7d10c303bb96",
   "metadata": {},
   "outputs": [],
   "source": [
    "val_transforms = Compose(\n",
    "        [\n",
    "            LoadImaged(keys=[\"image_adc\",'image_dce' ]),\n",
    "            EnsureChannelFirstd(keys=[\"image_adc\", 'image_dce']),\n",
    "            Orientationd(keys=[\"image_adc\",'image_dce'], axcodes=\"RAS\"),\n",
    "            Resized(keys=[\"image_adc\"], spatial_size=(64, 64, 16)),\n",
    "            Resized(keys=[\"image_dce\"], spatial_size=(96, 96, 32)),\n",
    "            \n",
    "            NormalizeIntensityd(keys=[\"image_adc\", 'image_dce'], nonzero=True, channel_wise=True),\n",
    "            ToTensord(keys=['image_adc', 'image_dce','rad', 'clinical', 'label'])\n",
    "        ]\n",
    "    )\n",
    "\n",
    "\n",
    "train_ds = Dataset(data=train_dict, transform=val_transforms)\n",
    "val_ds = Dataset(data=val_dict, transform=val_transforms)\n",
    "sd_ds = Dataset(data=sd_dict, transform=val_transforms)\n",
    "xian_ds = Dataset(data=xian_dict, transform=val_transforms)\n",
    "yizhong_ds = Dataset(data=yizhong_dict, transform=val_transforms)\n",
    "\n",
    "# create a validation data loader\n",
    "train_loader = DataLoader(train_ds, batch_size=12, num_workers=16, pin_memory=True)\n",
    "val_loader = DataLoader(val_ds, batch_size=12, num_workers=16, pin_memory=True)\n",
    "sd_loader = DataLoader(sd_ds, batch_size=12, num_workers=16, pin_memory=True)\n",
    "xian_loader = DataLoader(xian_ds, batch_size=12, num_workers=16, pin_memory=True)\n",
    "yizhong_loader = DataLoader(yizhong_ds, batch_size=12, num_workers=16, pin_memory=True)"
   ]
  },
  {
   "cell_type": "code",
   "execution_count": null,
   "id": "fde1c9be-96c8-4e85-a383-11eb7abe31a2",
   "metadata": {},
   "outputs": [],
   "source": []
  },
  {
   "cell_type": "code",
   "execution_count": 41,
   "id": "3bdd74fb-2eaa-4773-8323-8d165c97f7ee",
   "metadata": {},
   "outputs": [],
   "source": [
    "\n",
    "class DoubleTower(nn.Module):\n",
    "    def __init__(self,\n",
    "                 pretrained_dce='',\n",
    "                 pretrained_adc='',\n",
    "                 device = torch.device(\"cuda\"),\n",
    "                 num_classes=2,\n",
    "                 fc_hidden_size = 256\n",
    "                ):\n",
    "        super().__init__()\n",
    "        self.pretrained_dce = pretrained_dce\n",
    "        self.pretrained_adc = pretrained_adc\n",
    "        self.fc_hidden_size = fc_hidden_size\n",
    "        self.num_classes = num_classes\n",
    "        self.device = device\n",
    "\n",
    "        self.model_dce = monai.networks.nets.DenseNet(3, 1, 2).to(self.device)\n",
    "        self.model_adc = monai.networks.nets.resnet34(spatial_dims=3, n_input_channels=1, num_classes=2, feed_forward=False).to(self.device)\n",
    "\n",
    "        if  pretrained_dce != '':\n",
    "            dce_dict = self.model_dce.state_dict()\n",
    "            dce_pretrain = torch.load(self.pretrained_dce, map_location=self.device)\n",
    "            dce_pretrain_dict = {k:v for k, v in dce_pretrain.items() if  k in  dce_dict.keys()}\n",
    "            dce_dict.update(dce_pretrain_dict)\n",
    "            self.model_dce.load_state_dict(dce_dict)\n",
    "\n",
    "        if  pretrained_adc !='':\n",
    "            adc_dict = self.model_adc.state_dict()\n",
    "            adc_pretrain = torch.load(self.pretrained_adc, map_location=self.device)\n",
    "            adc_pretrain_dict = {k:v for k, v in adc_pretrain.items() if  k in  adc_dict.keys()}\n",
    "            adc_dict.update(adc_pretrain_dict)\n",
    "            self.model_adc.load_state_dict(adc_dict)\n",
    "\n",
    "        self.attn = nn.MultiheadAttention(512, num_heads=8, batch_first=True, device=self.device)\n",
    "\n",
    "        # self.Linear1 = Linear(1024 + 6, self.num_classes, device=self.device)\n",
    "        self.Linear1 = Linear(1024, self.fc_hidden_size, device=self.device)  # 1024 是 所有下采样特征图globalpool之后拼接的结果\n",
    "        self.Linear2 = Linear(self.fc_hidden_size + 6 + 9, self.num_classes, device=self.device)\n",
    "        self.dropout = nn.Dropout(0.2)\n",
    "\n",
    "\n",
    "    def forward(self, x1, x2, rad, structured_data):  # x 是SegResNet的输入影像矩阵\n",
    "       \n",
    "        _, encode_output1 = self.model_dce(x1)   # output_1024\n",
    "        #encode_output2 = self.model_dce(x2)\n",
    "\n",
    "        #concatenated = encode_output1 * encode_output2\n",
    "        \n",
    "        #concatenated = concatenated.unsqueeze(1)\n",
    "        #attn_output, _ = self.attn(concatenated, concatenated, concatenated)\n",
    "\n",
    "        #attn_output = attn_output.squeeze(1)\n",
    "        \n",
    "        encode_output1 = torch.nn.functional.adaptive_avg_pool3d(encode_output1, (1,1, 1)).squeeze()\n",
    "        \n",
    "        fc1 = F.relu(self.Linear1(encode_output1))\n",
    "       \n",
    "        fc1 = self.dropout(fc1)\n",
    "\n",
    "        fc2 = self.Linear2( torch.concat([fc1, rad, structured_data], dim=-1))\n",
    "        return fc1, fc2\n"
   ]
  },
  {
   "cell_type": "code",
   "execution_count": 42,
   "id": "2dc69628-5a42-4864-9800-f493d03ebd0a",
   "metadata": {},
   "outputs": [
    {
     "name": "stdout",
     "output_type": "stream",
     "text": [
      "output:  torch.Size([8, 2])\n"
     ]
    }
   ],
   "source": [
    "\n",
    "my_model = DoubleTower()\n",
    "\n",
    "x1 = torch.randn(8, 1, 96, 96, 32)  # batch, channel, x, y, z\n",
    "x2 = torch.randn(8, 1, 64, 64, 16)\n",
    "\n",
    "cli = torch.randn(8, 6)\n",
    "radiomics = torch.rand(8, 9)\n",
    "f1, output = my_model(x1.cuda(), x2.cuda(), radiomics.cuda(), cli.cuda())\n",
    "print('output: ', output.shape)\n"
   ]
  },
  {
   "cell_type": "code",
   "execution_count": 43,
   "id": "66ac717a-912b-4d4b-bafc-d2d8157f52b8",
   "metadata": {},
   "outputs": [
    {
     "data": {
      "text/plain": [
       "<All keys matched successfully>"
      ]
     },
     "execution_count": 43,
     "metadata": {},
     "output_type": "execute_result"
    }
   ],
   "source": [
    "\n",
    "# dce_pretrain_path = ''\n",
    "# adc_pretrain_path = ''\n",
    "\n",
    "device = torch.device(\"cuda:1\" if torch.cuda.is_available() else \"cpu\")\n",
    "model = DoubleTower(device = device)\n",
    "model_path = '/app/liucd/deeplearn_dec/DL_multi/NewTrain2Val3/net_selfattnNew/FinalTest/hidns/test/model_89_0.8155_0.8748.pth'\n",
    "pretrained_path = os.path.join(model_path)\n",
    "model.load_state_dict(torch.load(pretrained_path, map_location=device))\n"
   ]
  },
  {
   "cell_type": "code",
   "execution_count": 37,
   "id": "448fbf2b-d122-46a6-955c-36f35aa3e647",
   "metadata": {},
   "outputs": [],
   "source": [
    "def report_metric(label_list, pred_list):\n",
    "    Cmatrix = metrics.confusion_matrix(label_list, pred_list)\n",
    "    print(Cmatrix)\n",
    "    TN = Cmatrix[0, 0]\n",
    "    TP = Cmatrix[1, 1]\n",
    "    FN = Cmatrix[1, 0]\n",
    "    FP = Cmatrix[0, 1]\n",
    "\n",
    "    Acc = (TP+TN) / (TP+TN+FP+FN)\n",
    "    sensitivity = TPR = Recall = TP / (TP+FN)\n",
    "    specificity = TNR =  TN / (FP+TN)\n",
    "    PPV = TP / (TP + FP)\n",
    "    NPV = TN / (TN + FN)\n",
    "    \n",
    "    return Acc, sensitivity, specificity, PPV, NPV"
   ]
  },
  {
   "cell_type": "code",
   "execution_count": 87,
   "id": "0b82db15-bd06-410a-9628-a41ff0429140",
   "metadata": {},
   "outputs": [
    {
     "name": "stdout",
     "output_type": "stream",
     "text": [
      "[[403  46]\n",
      " [ 54 188]]\n",
      "Accuray: 0.8552821997105644\n",
      "SEN/SPE: 0.7768595041322314 0.8975501113585747\n",
      "PPV/NPV:  0.8034188034188035 0.8818380743982495\n",
      "0.9237147747979899\n",
      "0.92371477479799\n",
      "0.8552821997105644\n"
     ]
    }
   ],
   "source": [
    "post_pred = Compose([Activations(softmax=True)])\n",
    "post_label = Compose([AsDiscrete(to_onehot=2)])\n",
    "\n",
    "auc_metric = ROCAUCMetric()\n",
    "\n",
    "prob_list = []\n",
    "# pid_list = []\n",
    "label_list = []\n",
    "feats_list = []\n",
    "\n",
    "model.eval()\n",
    "with torch.no_grad():\n",
    "    y_pred = torch.tensor([], dtype=torch.float32, device=device)\n",
    "    y = torch.tensor([], dtype=torch.long, device=device)\n",
    "\n",
    "    for val_data in train_loader:\n",
    "       \n",
    "        pid = val_data[\"image_dce_meta_dict\"]['filename_or_obj'][0].split('_')[-4]\n",
    "       \n",
    "        val_dce, val_adc, val_rad, val_clinical, val_labels = val_data[\"image_dce\"].to(device),val_data[\"image_adc\"].to(device), val_data[\"rad\"].to(device), val_data[\"clinical\"].to(device), val_data[\"label\"].to(device)\n",
    "        feat, val_output = model(val_dce, val_adc, val_rad, val_clinical)\n",
    "        feats_list.append([pid] + feat[0].tolist() + val_labels.tolist())\n",
    "        \n",
    "        # sklearn\n",
    "#         prob_list.append(post_pred(val_output[0])[1].item())  # [0] 是由于设置batch=1 [1] 是是取预测类别中的1类别\n",
    "#         label_list.append(val_labels.item())\n",
    "        \n",
    "        # monai\n",
    "        y_pred = torch.cat([y_pred, val_output], dim=0)\n",
    "        y = torch.cat([y, val_labels], dim=0)\n",
    "        \n",
    "        y_onehot = [post_label(i) for i in decollate_batch(y, detach=False)]\n",
    "        y_pred_act = [post_pred(i) for i in decollate_batch(y_pred)]\n",
    "\n",
    "# # sklearn\n",
    "label_list = [i.cpu().tolist()[1] for i in y_onehot]\n",
    "prob_list = [i.cpu().tolist()[1] for i in y_pred_act]\n",
    "pred_list = [round(i) for i in prob_list]\n",
    "\n",
    "Acc, sensitivity, specificity, PPV, NPV = report_metric(label_list, pred_list)\n",
    "print('Accuray:', Acc)\n",
    "print('SEN/SPE:', sensitivity, specificity)\n",
    "print('PPV/NPV: ', PPV, NPV)\n",
    "\n",
    "fpr, tpr, thresholds = metrics.roc_curve(label_list, prob_list, pos_label=1)\n",
    "print(metrics.auc(fpr, tpr))\n",
    "\n",
    "# # monai\n",
    "auc_metric(y_pred_act, y_onehot)\n",
    "\n",
    "print(auc_metric.aggregate())\n",
    "\n",
    "acc_value = torch.eq(y_pred.argmax(dim=1), y)\n",
    "acc_metric = acc_value.sum().item() / len(acc_value)\n",
    "print(acc_metric)"
   ]
  },
  {
   "cell_type": "code",
   "execution_count": null,
   "id": "c824abb7-3356-4a93-a9ed-9d510cb78cfe",
   "metadata": {},
   "outputs": [],
   "source": []
  },
  {
   "cell_type": "code",
   "execution_count": 89,
   "id": "c3fb476b-44ec-45f7-a7cb-ebc47f8db7fc",
   "metadata": {},
   "outputs": [
    {
     "data": {
      "text/plain": [
       "58"
      ]
     },
     "execution_count": 89,
     "metadata": {},
     "output_type": "execute_result"
    }
   ],
   "source": [
    "len(feats_list)"
   ]
  },
  {
   "cell_type": "code",
   "execution_count": 88,
   "id": "5a2652aa-9906-44fb-9acd-fcad1d71e79d",
   "metadata": {},
   "outputs": [
    {
     "ename": "ValueError",
     "evalue": "258 columns passed, passed data had 269 columns",
     "output_type": "error",
     "traceback": [
      "\u001b[0;31m---------------------------------------------------------------------------\u001b[0m",
      "\u001b[0;31mAssertionError\u001b[0m                            Traceback (most recent call last)",
      "\u001b[0;32m/app/data/anaconda/lib/python3.9/site-packages/pandas/core/internals/construction.py\u001b[0m in \u001b[0;36m_finalize_columns_and_data\u001b[0;34m(content, columns, dtype)\u001b[0m\n\u001b[1;32m    933\u001b[0m     \u001b[0;32mtry\u001b[0m\u001b[0;34m:\u001b[0m\u001b[0;34m\u001b[0m\u001b[0;34m\u001b[0m\u001b[0m\n\u001b[0;32m--> 934\u001b[0;31m         \u001b[0mcolumns\u001b[0m \u001b[0;34m=\u001b[0m \u001b[0m_validate_or_indexify_columns\u001b[0m\u001b[0;34m(\u001b[0m\u001b[0mcontents\u001b[0m\u001b[0;34m,\u001b[0m \u001b[0mcolumns\u001b[0m\u001b[0;34m)\u001b[0m\u001b[0;34m\u001b[0m\u001b[0;34m\u001b[0m\u001b[0m\n\u001b[0m\u001b[1;32m    935\u001b[0m     \u001b[0;32mexcept\u001b[0m \u001b[0mAssertionError\u001b[0m \u001b[0;32mas\u001b[0m \u001b[0merr\u001b[0m\u001b[0;34m:\u001b[0m\u001b[0;34m\u001b[0m\u001b[0;34m\u001b[0m\u001b[0m\n",
      "\u001b[0;32m/app/data/anaconda/lib/python3.9/site-packages/pandas/core/internals/construction.py\u001b[0m in \u001b[0;36m_validate_or_indexify_columns\u001b[0;34m(content, columns)\u001b[0m\n\u001b[1;32m    980\u001b[0m             \u001b[0;31m# caller's responsibility to check for this...\u001b[0m\u001b[0;34m\u001b[0m\u001b[0;34m\u001b[0m\u001b[0m\n\u001b[0;32m--> 981\u001b[0;31m             raise AssertionError(\n\u001b[0m\u001b[1;32m    982\u001b[0m                 \u001b[0;34mf\"{len(columns)} columns passed, passed data had \"\u001b[0m\u001b[0;34m\u001b[0m\u001b[0;34m\u001b[0m\u001b[0m\n",
      "\u001b[0;31mAssertionError\u001b[0m: 258 columns passed, passed data had 269 columns",
      "\nThe above exception was the direct cause of the following exception:\n",
      "\u001b[0;31mValueError\u001b[0m                                Traceback (most recent call last)",
      "\u001b[0;32m/tmp/ipykernel_994057/28639848.py\u001b[0m in \u001b[0;36m<module>\u001b[0;34m\u001b[0m\n\u001b[1;32m      1\u001b[0m \u001b[0;32mimport\u001b[0m \u001b[0mpandas\u001b[0m \u001b[0;32mas\u001b[0m \u001b[0mpd\u001b[0m\u001b[0;34m\u001b[0m\u001b[0;34m\u001b[0m\u001b[0m\n\u001b[1;32m      2\u001b[0m \u001b[0mcolumns\u001b[0m \u001b[0;34m=\u001b[0m \u001b[0;34m[\u001b[0m\u001b[0;34m'pid'\u001b[0m\u001b[0;34m]\u001b[0m \u001b[0;34m+\u001b[0m \u001b[0;34m[\u001b[0m\u001b[0;34m'feat_'\u001b[0m \u001b[0;34m+\u001b[0m \u001b[0mstr\u001b[0m\u001b[0;34m(\u001b[0m\u001b[0mi\u001b[0m\u001b[0;34m)\u001b[0m  \u001b[0;32mfor\u001b[0m \u001b[0mi\u001b[0m \u001b[0;32min\u001b[0m \u001b[0mrange\u001b[0m\u001b[0;34m(\u001b[0m\u001b[0;36m256\u001b[0m\u001b[0;34m)\u001b[0m\u001b[0;34m]\u001b[0m \u001b[0;34m+\u001b[0m \u001b[0;34m[\u001b[0m\u001b[0;34m'bpCR'\u001b[0m\u001b[0;34m]\u001b[0m\u001b[0;34m\u001b[0m\u001b[0;34m\u001b[0m\u001b[0m\n\u001b[0;32m----> 3\u001b[0;31m \u001b[0mdf\u001b[0m \u001b[0;34m=\u001b[0m \u001b[0mpd\u001b[0m\u001b[0;34m.\u001b[0m\u001b[0mDataFrame\u001b[0m\u001b[0;34m(\u001b[0m\u001b[0mfeats_list\u001b[0m\u001b[0;34m,\u001b[0m \u001b[0mcolumns\u001b[0m\u001b[0;34m=\u001b[0m\u001b[0mcolumns\u001b[0m\u001b[0;34m)\u001b[0m\u001b[0;34m\u001b[0m\u001b[0;34m\u001b[0m\u001b[0m\n\u001b[0m\u001b[1;32m      4\u001b[0m \u001b[0mdf\u001b[0m\u001b[0;34m.\u001b[0m\u001b[0mto_csv\u001b[0m\u001b[0;34m(\u001b[0m\u001b[0;34m'DL_features/train.csv'\u001b[0m\u001b[0;34m)\u001b[0m\u001b[0;34m\u001b[0m\u001b[0;34m\u001b[0m\u001b[0m\n",
      "\u001b[0;32m/app/data/anaconda/lib/python3.9/site-packages/pandas/core/frame.py\u001b[0m in \u001b[0;36m__init__\u001b[0;34m(self, data, index, columns, dtype, copy)\u001b[0m\n\u001b[1;32m    780\u001b[0m                     \u001b[0;32mif\u001b[0m \u001b[0mcolumns\u001b[0m \u001b[0;32mis\u001b[0m \u001b[0;32mnot\u001b[0m \u001b[0;32mNone\u001b[0m\u001b[0;34m:\u001b[0m\u001b[0;34m\u001b[0m\u001b[0;34m\u001b[0m\u001b[0m\n\u001b[1;32m    781\u001b[0m                         \u001b[0mcolumns\u001b[0m \u001b[0;34m=\u001b[0m \u001b[0mensure_index\u001b[0m\u001b[0;34m(\u001b[0m\u001b[0mcolumns\u001b[0m\u001b[0;34m)\u001b[0m\u001b[0;34m\u001b[0m\u001b[0;34m\u001b[0m\u001b[0m\n\u001b[0;32m--> 782\u001b[0;31m                     arrays, columns, index = nested_data_to_arrays(\n\u001b[0m\u001b[1;32m    783\u001b[0m                         \u001b[0;31m# error: Argument 3 to \"nested_data_to_arrays\" has incompatible\u001b[0m\u001b[0;34m\u001b[0m\u001b[0;34m\u001b[0m\u001b[0m\n\u001b[1;32m    784\u001b[0m                         \u001b[0;31m# type \"Optional[Collection[Any]]\"; expected \"Optional[Index]\"\u001b[0m\u001b[0;34m\u001b[0m\u001b[0;34m\u001b[0m\u001b[0m\n",
      "\u001b[0;32m/app/data/anaconda/lib/python3.9/site-packages/pandas/core/internals/construction.py\u001b[0m in \u001b[0;36mnested_data_to_arrays\u001b[0;34m(data, columns, index, dtype)\u001b[0m\n\u001b[1;32m    496\u001b[0m         \u001b[0mcolumns\u001b[0m \u001b[0;34m=\u001b[0m \u001b[0mensure_index\u001b[0m\u001b[0;34m(\u001b[0m\u001b[0mdata\u001b[0m\u001b[0;34m[\u001b[0m\u001b[0;36m0\u001b[0m\u001b[0;34m]\u001b[0m\u001b[0;34m.\u001b[0m\u001b[0m_fields\u001b[0m\u001b[0;34m)\u001b[0m\u001b[0;34m\u001b[0m\u001b[0;34m\u001b[0m\u001b[0m\n\u001b[1;32m    497\u001b[0m \u001b[0;34m\u001b[0m\u001b[0m\n\u001b[0;32m--> 498\u001b[0;31m     \u001b[0marrays\u001b[0m\u001b[0;34m,\u001b[0m \u001b[0mcolumns\u001b[0m \u001b[0;34m=\u001b[0m \u001b[0mto_arrays\u001b[0m\u001b[0;34m(\u001b[0m\u001b[0mdata\u001b[0m\u001b[0;34m,\u001b[0m \u001b[0mcolumns\u001b[0m\u001b[0;34m,\u001b[0m \u001b[0mdtype\u001b[0m\u001b[0;34m=\u001b[0m\u001b[0mdtype\u001b[0m\u001b[0;34m)\u001b[0m\u001b[0;34m\u001b[0m\u001b[0;34m\u001b[0m\u001b[0m\n\u001b[0m\u001b[1;32m    499\u001b[0m     \u001b[0mcolumns\u001b[0m \u001b[0;34m=\u001b[0m \u001b[0mensure_index\u001b[0m\u001b[0;34m(\u001b[0m\u001b[0mcolumns\u001b[0m\u001b[0;34m)\u001b[0m\u001b[0;34m\u001b[0m\u001b[0;34m\u001b[0m\u001b[0m\n\u001b[1;32m    500\u001b[0m \u001b[0;34m\u001b[0m\u001b[0m\n",
      "\u001b[0;32m/app/data/anaconda/lib/python3.9/site-packages/pandas/core/internals/construction.py\u001b[0m in \u001b[0;36mto_arrays\u001b[0;34m(data, columns, dtype)\u001b[0m\n\u001b[1;32m    838\u001b[0m         \u001b[0marr\u001b[0m \u001b[0;34m=\u001b[0m \u001b[0m_list_to_arrays\u001b[0m\u001b[0;34m(\u001b[0m\u001b[0mdata\u001b[0m\u001b[0;34m)\u001b[0m\u001b[0;34m\u001b[0m\u001b[0;34m\u001b[0m\u001b[0m\n\u001b[1;32m    839\u001b[0m \u001b[0;34m\u001b[0m\u001b[0m\n\u001b[0;32m--> 840\u001b[0;31m     \u001b[0mcontent\u001b[0m\u001b[0;34m,\u001b[0m \u001b[0mcolumns\u001b[0m \u001b[0;34m=\u001b[0m \u001b[0m_finalize_columns_and_data\u001b[0m\u001b[0;34m(\u001b[0m\u001b[0marr\u001b[0m\u001b[0;34m,\u001b[0m \u001b[0mcolumns\u001b[0m\u001b[0;34m,\u001b[0m \u001b[0mdtype\u001b[0m\u001b[0;34m)\u001b[0m\u001b[0;34m\u001b[0m\u001b[0;34m\u001b[0m\u001b[0m\n\u001b[0m\u001b[1;32m    841\u001b[0m     \u001b[0;32mreturn\u001b[0m \u001b[0mcontent\u001b[0m\u001b[0;34m,\u001b[0m \u001b[0mcolumns\u001b[0m\u001b[0;34m\u001b[0m\u001b[0;34m\u001b[0m\u001b[0m\n\u001b[1;32m    842\u001b[0m \u001b[0;34m\u001b[0m\u001b[0m\n",
      "\u001b[0;32m/app/data/anaconda/lib/python3.9/site-packages/pandas/core/internals/construction.py\u001b[0m in \u001b[0;36m_finalize_columns_and_data\u001b[0;34m(content, columns, dtype)\u001b[0m\n\u001b[1;32m    935\u001b[0m     \u001b[0;32mexcept\u001b[0m \u001b[0mAssertionError\u001b[0m \u001b[0;32mas\u001b[0m \u001b[0merr\u001b[0m\u001b[0;34m:\u001b[0m\u001b[0;34m\u001b[0m\u001b[0;34m\u001b[0m\u001b[0m\n\u001b[1;32m    936\u001b[0m         \u001b[0;31m# GH#26429 do not raise user-facing AssertionError\u001b[0m\u001b[0;34m\u001b[0m\u001b[0;34m\u001b[0m\u001b[0m\n\u001b[0;32m--> 937\u001b[0;31m         \u001b[0;32mraise\u001b[0m \u001b[0mValueError\u001b[0m\u001b[0;34m(\u001b[0m\u001b[0merr\u001b[0m\u001b[0;34m)\u001b[0m \u001b[0;32mfrom\u001b[0m \u001b[0merr\u001b[0m\u001b[0;34m\u001b[0m\u001b[0;34m\u001b[0m\u001b[0m\n\u001b[0m\u001b[1;32m    938\u001b[0m \u001b[0;34m\u001b[0m\u001b[0m\n\u001b[1;32m    939\u001b[0m     \u001b[0;32mif\u001b[0m \u001b[0mlen\u001b[0m\u001b[0;34m(\u001b[0m\u001b[0mcontents\u001b[0m\u001b[0;34m)\u001b[0m \u001b[0;32mand\u001b[0m \u001b[0mcontents\u001b[0m\u001b[0;34m[\u001b[0m\u001b[0;36m0\u001b[0m\u001b[0;34m]\u001b[0m\u001b[0;34m.\u001b[0m\u001b[0mdtype\u001b[0m \u001b[0;34m==\u001b[0m \u001b[0mnp\u001b[0m\u001b[0;34m.\u001b[0m\u001b[0mobject_\u001b[0m\u001b[0;34m:\u001b[0m\u001b[0;34m\u001b[0m\u001b[0;34m\u001b[0m\u001b[0m\n",
      "\u001b[0;31mValueError\u001b[0m: 258 columns passed, passed data had 269 columns"
     ]
    }
   ],
   "source": [
    "import pandas as pd\n",
    "columns = ['pid'] + ['feat_' + str(i)  for i in range(256)] + ['bpCR']\n",
    "df = pd.DataFrame(feats_list, columns=columns)\n",
    "df.to_csv('DL_features/train.csv')"
   ]
  },
  {
   "cell_type": "code",
   "execution_count": null,
   "id": "c51d7f5a-7845-4b27-8e5d-b5d60d2f8666",
   "metadata": {},
   "outputs": [],
   "source": [
    "import matplotlib.pyplot as plt\n",
    "import numpy as np\n",
    "\n",
    "def fun(x, threshold):\n",
    "    if x > threshold:\n",
    "        ret\n",
    "    else:\n",
    "        return 0\n",
    "\n",
    "Acc_list = []\n",
    "th_list = np.linspace(0.2, 0.6, 41).tolist()\n",
    "for th in th_list:\n",
    "    \n",
    "    pred_list = [fun(i, th) for i in prob_list]\n",
    "    Acc, sensitivity, specificity, PPV, NPV = report_metric(label_list, pred_list)\n",
    "    Acc_list.append(Acc)\n",
    "use_th = th_list[Acc_list.index(max(Acc_list))]\n",
    "print(use_th)\n",
    "pred_list = [fun(i, use_th) for i in prob_list]\n",
    "Acc, sensitivity, specificity, PPV, NPV = report_metric(label_list, pred_list)\n",
    "print(Acc, sensitivity, specificity, PPV, NPV)\n",
    "plt.plot(th_list, Acc_list)\n",
    "plt.xlabel('threshold')\n",
    "plt.ylabel('Accuracy')"
   ]
  },
  {
   "cell_type": "code",
   "execution_count": 26,
   "id": "5461f644-3900-405e-ae40-86522df56d5e",
   "metadata": {},
   "outputs": [],
   "source": [
    "import itertools\n",
    "import matplotlib.pyplot as plt\n",
    "import numpy as np\n",
    "# 绘制混淆矩阵\n",
    "def plot_confusion_matrix(cm, classes, normalize=False, title='Confusion matrix', cmap=plt.cm.Blues):\n",
    "    \"\"\"\n",
    "    - cm : 计算出的混淆矩阵的值\n",
    "    - classes : 混淆矩阵中每一行每一列对应的列\n",
    "    - normalize : True:显示百分比, False:显示个数\n",
    "    \"\"\"\n",
    "    if normalize:\n",
    "        cm = cm.astype('float') / cm.sum(axis=1)[:, np.newaxis]\n",
    "        print(\"显示百分比：\")\n",
    "        np.set_printoptions(formatter={'float': '{: 0.2f}'.format})\n",
    "        print(cm)\n",
    "    else:\n",
    "        print('显示具体数字：')\n",
    "        print(cm)\n",
    "    plt.imshow(cm, interpolation='nearest', cmap=cmap)\n",
    "    plt.title(title)\n",
    "    plt.colorbar()\n",
    "    tick_marks = np.arange(len(classes))\n",
    "    plt.xticks(tick_marks, classes, rotation=45)\n",
    "    plt.yticks(tick_marks, classes)\n",
    "    # matplotlib版本问题，如果不加下面这行代码，则绘制的混淆矩阵上下只能显示一半，有的版本的matplotlib不需要下面的代码，分别试一下即可\n",
    "    plt.ylim(len(classes) - 0.5, -0.5)\n",
    "    fmt = '.2f' if normalize else 'd'\n",
    "    thresh = cm.max() / 2.\n",
    "    for i, j in itertools.product(range(cm.shape[0]), range(cm.shape[1])):\n",
    "        plt.text(j, i, format(cm[i, j], fmt),\n",
    "                 horizontalalignment=\"center\",\n",
    "                 color=\"white\" if cm[i, j] > thresh else \"black\")\n",
    "    plt.tight_layout()\n",
    "    plt.ylabel('True label')\n",
    "    plt.xlabel('Predicted label')\n",
    "    plt.show()\n",
    "    "
   ]
  },
  {
   "cell_type": "code",
   "execution_count": 27,
   "id": "64621760-5a42-4fac-b286-3fd96d741e01",
   "metadata": {},
   "outputs": [
    {
     "name": "stdout",
     "output_type": "stream",
     "text": [
      "显示百分比：\n",
      "[[ 0.91  0.09]\n",
      " [ 0.38  0.62]]\n"
     ]
    },
    {
     "data": {
      "image/png": "[encoded data removed]",
      "text/plain": [
       "<Figure size 640x480 with 2 Axes>"
      ]
     },
     "metadata": {},
     "output_type": "display_data"
    },
    {
     "data": {
      "text/plain": [
       "<module 'matplotlib.pyplot' from '/app/data/anaconda/lib/python3.9/site-packages/matplotlib/pyplot.py'>"
      ]
     },
     "execution_count": 27,
     "metadata": {},
     "output_type": "execute_result"
    }
   ],
   "source": [
    "Ctrain = np.array([[414,  35],\n",
    " [ 79, 163]])\n",
    "Cval = np.array([[384,  41],\n",
    " [85, 108]])\n",
    "cnf_matrix = Ctrain + Cval\n",
    "attack_types = ['Non-PCR', 'pCR',]\n",
    "plot_confusion_matrix(cnf_matrix, classes=attack_types, normalize=True, title='Normalized confusion matrix')\n",
    "plt"
   ]
  },
  {
   "cell_type": "code",
   "execution_count": 13,
   "id": "f7610353-70c9-497e-929e-8f039c5e6381",
   "metadata": {},
   "outputs": [],
   "source": [
    "df_data = pd.DataFrame({'pred': prob_list, 'label': label_list})\n",
    "df_data.to_csv('sdadd.csv')"
   ]
  },
  {
   "cell_type": "code",
   "execution_count": 68,
   "id": "7c0b57c4-c2b2-40a6-bed9-92c4637ec326",
   "metadata": {},
   "outputs": [
    {
     "data": {
      "text/plain": [
       "[0]"
      ]
     },
     "execution_count": 68,
     "metadata": {},
     "output_type": "execute_result"
    }
   ],
   "source": [
    "from monai.visualize import CAM\n",
    "cam = CAM(nn_module=model, target_layers=\"class_layers.relu\", fc_layers=\"class_layers.out\")\n",
    "result = cam(x=torch.rand((1, 1, 48, 64)))"
   ]
  },
  {
   "cell_type": "code",
   "execution_count": 16,
   "id": "0065ba52-7749-4435-a144-e8078eb462a8",
   "metadata": {},
   "outputs": [
    {
     "name": "stdout",
     "output_type": "stream",
     "text": [
      "torch.Size([1, 1, 48, 64])\n"
     ]
    }
   ],
   "source": [
    "import torch\n",
    "import matplotlib.pyplot as plt\n",
    "\n",
    "# densenet 2d\n",
    "from monai.networks.nets import DenseNet121\n",
    "from monai.visualize import GradCAM\n",
    "\n",
    "model_2d = DenseNet121(spatial_dims=2, in_channels=1, out_channels=3)\n",
    "cam = GradCAM(nn_module=model_2d, target_layers=\"class_layers.relu\")\n",
    "result = cam(x=torch.rand((1, 1, 48, 64)))\n",
    "print(result.shape)\n",
    "# plt.imshow(result[0, 0, :, :])"
   ]
  },
  {
   "cell_type": "code",
   "execution_count": 20,
   "id": "ea7f4be4-d11a-4812-ab82-67538bd4eba8",
   "metadata": {},
   "outputs": [],
   "source": [
    "# for name, _ in model_2d.named_modules(): \n",
    "#     print(name)"
   ]
  },
  {
   "cell_type": "code",
   "execution_count": 18,
   "id": "d7bbd38a-ba70-4da6-920e-0e109a5027b4",
   "metadata": {},
   "outputs": [
    {
     "name": "stdout",
     "output_type": "stream",
     "text": [
      "torch.Size([2, 1, 48, 64])\n"
     ]
    }
   ],
   "source": [
    "# resnet 2d\n",
    "from monai.networks.nets import seresnet50\n",
    "from monai.visualize import GradCAM\n",
    "\n",
    "model_2d = seresnet50(spatial_dims=2, in_channels=3, num_classes=4)\n",
    "cam = GradCAM(nn_module=model_2d, target_layers=\"layer4\")\n",
    "result = cam(x=torch.rand((2, 3, 48, 64)))\n",
    "print(result.shape)"
   ]
  },
  {
   "cell_type": "code",
   "execution_count": 25,
   "id": "4d99cea6-e533-4c6a-86bd-a4a6002881ae",
   "metadata": {},
   "outputs": [
    {
     "ename": "TypeError",
     "evalue": "forward() missing 3 required positional arguments: 'x2', 'rad', and 'structured_data'",
     "output_type": "error",
     "traceback": [
      "\u001b[0;31m---------------------------------------------------------------------------\u001b[0m",
      "\u001b[0;31mTypeError\u001b[0m                                 Traceback (most recent call last)",
      "\u001b[0;32m/tmp/ipykernel_1163757/367830778.py\u001b[0m in \u001b[0;36m<module>\u001b[0;34m\u001b[0m\n\u001b[1;32m      5\u001b[0m \u001b[0;34m\u001b[0m\u001b[0m\n\u001b[1;32m      6\u001b[0m \u001b[0mcam\u001b[0m \u001b[0;34m=\u001b[0m \u001b[0mGradCAM\u001b[0m\u001b[0;34m(\u001b[0m\u001b[0mnn_module\u001b[0m\u001b[0;34m=\u001b[0m\u001b[0mmy_model\u001b[0m\u001b[0;34m,\u001b[0m \u001b[0mtarget_layers\u001b[0m\u001b[0;34m=\u001b[0m\u001b[0;34m\"model_dce.layer4\"\u001b[0m\u001b[0;34m)\u001b[0m\u001b[0;34m\u001b[0m\u001b[0;34m\u001b[0m\u001b[0m\n\u001b[0;32m----> 7\u001b[0;31m \u001b[0mresult\u001b[0m \u001b[0;34m=\u001b[0m \u001b[0mcam\u001b[0m\u001b[0;34m(\u001b[0m\u001b[0mx\u001b[0m\u001b[0;34m=\u001b[0m\u001b[0mtorch\u001b[0m\u001b[0;34m.\u001b[0m\u001b[0mrand\u001b[0m\u001b[0;34m(\u001b[0m\u001b[0;34m(\u001b[0m\u001b[0;36m1\u001b[0m\u001b[0;34m,\u001b[0m \u001b[0;36m96\u001b[0m\u001b[0;34m,\u001b[0m \u001b[0;36m96\u001b[0m\u001b[0;34m,\u001b[0m \u001b[0;36m32\u001b[0m\u001b[0;34m)\u001b[0m\u001b[0;34m)\u001b[0m\u001b[0;34m)\u001b[0m\u001b[0;34m\u001b[0m\u001b[0;34m\u001b[0m\u001b[0m\n\u001b[0m\u001b[1;32m      8\u001b[0m \u001b[0mprint\u001b[0m\u001b[0;34m(\u001b[0m\u001b[0mresult\u001b[0m\u001b[0;34m.\u001b[0m\u001b[0mshape\u001b[0m\u001b[0;34m)\u001b[0m\u001b[0;34m\u001b[0m\u001b[0;34m\u001b[0m\u001b[0m\n",
      "\u001b[0;32m/app/data/anaconda/lib/python3.9/site-packages/monai/visualize/class_activation_maps.py\u001b[0m in \u001b[0;36m__call__\u001b[0;34m(self, x, class_idx, layer_idx, retain_graph)\u001b[0m\n\u001b[1;32m    378\u001b[0m             \u001b[0mactivation\u001b[0m \u001b[0mmaps\u001b[0m\u001b[0;34m\u001b[0m\u001b[0;34m\u001b[0m\u001b[0m\n\u001b[1;32m    379\u001b[0m         \"\"\"\n\u001b[0;32m--> 380\u001b[0;31m         \u001b[0macti_map\u001b[0m \u001b[0;34m=\u001b[0m \u001b[0mself\u001b[0m\u001b[0;34m.\u001b[0m\u001b[0mcompute_map\u001b[0m\u001b[0;34m(\u001b[0m\u001b[0mx\u001b[0m\u001b[0;34m,\u001b[0m \u001b[0mclass_idx\u001b[0m\u001b[0;34m=\u001b[0m\u001b[0mclass_idx\u001b[0m\u001b[0;34m,\u001b[0m \u001b[0mretain_graph\u001b[0m\u001b[0;34m=\u001b[0m\u001b[0mretain_graph\u001b[0m\u001b[0;34m,\u001b[0m \u001b[0mlayer_idx\u001b[0m\u001b[0;34m=\u001b[0m\u001b[0mlayer_idx\u001b[0m\u001b[0;34m)\u001b[0m\u001b[0;34m\u001b[0m\u001b[0;34m\u001b[0m\u001b[0m\n\u001b[0m\u001b[1;32m    381\u001b[0m         \u001b[0;32mreturn\u001b[0m \u001b[0mself\u001b[0m\u001b[0;34m.\u001b[0m\u001b[0m_upsample_and_post_process\u001b[0m\u001b[0;34m(\u001b[0m\u001b[0macti_map\u001b[0m\u001b[0;34m,\u001b[0m \u001b[0mx\u001b[0m\u001b[0;34m)\u001b[0m\u001b[0;34m\u001b[0m\u001b[0;34m\u001b[0m\u001b[0m\n\u001b[1;32m    382\u001b[0m \u001b[0;34m\u001b[0m\u001b[0m\n",
      "\u001b[0;32m/app/data/anaconda/lib/python3.9/site-packages/monai/visualize/class_activation_maps.py\u001b[0m in \u001b[0;36mcompute_map\u001b[0;34m(self, x, class_idx, retain_graph, layer_idx)\u001b[0m\n\u001b[1;32m    358\u001b[0m \u001b[0;34m\u001b[0m\u001b[0m\n\u001b[1;32m    359\u001b[0m     \u001b[0;32mdef\u001b[0m \u001b[0mcompute_map\u001b[0m\u001b[0;34m(\u001b[0m\u001b[0mself\u001b[0m\u001b[0;34m,\u001b[0m \u001b[0mx\u001b[0m\u001b[0;34m,\u001b[0m \u001b[0mclass_idx\u001b[0m\u001b[0;34m=\u001b[0m\u001b[0;32mNone\u001b[0m\u001b[0;34m,\u001b[0m \u001b[0mretain_graph\u001b[0m\u001b[0;34m=\u001b[0m\u001b[0;32mFalse\u001b[0m\u001b[0;34m,\u001b[0m \u001b[0mlayer_idx\u001b[0m\u001b[0;34m=\u001b[0m\u001b[0;34m-\u001b[0m\u001b[0;36m1\u001b[0m\u001b[0;34m)\u001b[0m\u001b[0;34m:\u001b[0m\u001b[0;34m\u001b[0m\u001b[0;34m\u001b[0m\u001b[0m\n\u001b[0;32m--> 360\u001b[0;31m         \u001b[0m_\u001b[0m\u001b[0;34m,\u001b[0m \u001b[0macti\u001b[0m\u001b[0;34m,\u001b[0m \u001b[0mgrad\u001b[0m \u001b[0;34m=\u001b[0m \u001b[0mself\u001b[0m\u001b[0;34m.\u001b[0m\u001b[0mnn_module\u001b[0m\u001b[0;34m(\u001b[0m\u001b[0mx\u001b[0m\u001b[0;34m,\u001b[0m \u001b[0mclass_idx\u001b[0m\u001b[0;34m=\u001b[0m\u001b[0mclass_idx\u001b[0m\u001b[0;34m,\u001b[0m \u001b[0mretain_graph\u001b[0m\u001b[0;34m=\u001b[0m\u001b[0mretain_graph\u001b[0m\u001b[0;34m)\u001b[0m\u001b[0;34m\u001b[0m\u001b[0;34m\u001b[0m\u001b[0m\n\u001b[0m\u001b[1;32m    361\u001b[0m         \u001b[0macti\u001b[0m\u001b[0;34m,\u001b[0m \u001b[0mgrad\u001b[0m \u001b[0;34m=\u001b[0m \u001b[0macti\u001b[0m\u001b[0;34m[\u001b[0m\u001b[0mlayer_idx\u001b[0m\u001b[0;34m]\u001b[0m\u001b[0;34m,\u001b[0m \u001b[0mgrad\u001b[0m\u001b[0;34m[\u001b[0m\u001b[0mlayer_idx\u001b[0m\u001b[0;34m]\u001b[0m\u001b[0;34m\u001b[0m\u001b[0;34m\u001b[0m\u001b[0m\n\u001b[1;32m    362\u001b[0m         \u001b[0mb\u001b[0m\u001b[0;34m,\u001b[0m \u001b[0mc\u001b[0m\u001b[0;34m,\u001b[0m \u001b[0;34m*\u001b[0m\u001b[0mspatial\u001b[0m \u001b[0;34m=\u001b[0m \u001b[0mgrad\u001b[0m\u001b[0;34m.\u001b[0m\u001b[0mshape\u001b[0m\u001b[0;34m\u001b[0m\u001b[0;34m\u001b[0m\u001b[0m\n",
      "\u001b[0;32m/app/data/anaconda/lib/python3.9/site-packages/monai/visualize/class_activation_maps.py\u001b[0m in \u001b[0;36m__call__\u001b[0;34m(self, x, class_idx, retain_graph)\u001b[0m\n\u001b[1;32m    129\u001b[0m         \u001b[0mtrain\u001b[0m \u001b[0;34m=\u001b[0m \u001b[0mself\u001b[0m\u001b[0;34m.\u001b[0m\u001b[0mmodel\u001b[0m\u001b[0;34m.\u001b[0m\u001b[0mtraining\u001b[0m\u001b[0;34m\u001b[0m\u001b[0;34m\u001b[0m\u001b[0m\n\u001b[1;32m    130\u001b[0m         \u001b[0mself\u001b[0m\u001b[0;34m.\u001b[0m\u001b[0mmodel\u001b[0m\u001b[0;34m.\u001b[0m\u001b[0meval\u001b[0m\u001b[0;34m(\u001b[0m\u001b[0;34m)\u001b[0m\u001b[0;34m\u001b[0m\u001b[0;34m\u001b[0m\u001b[0m\n\u001b[0;32m--> 131\u001b[0;31m         \u001b[0mlogits\u001b[0m \u001b[0;34m=\u001b[0m \u001b[0mself\u001b[0m\u001b[0;34m.\u001b[0m\u001b[0mmodel\u001b[0m\u001b[0;34m(\u001b[0m\u001b[0mx\u001b[0m\u001b[0;34m)\u001b[0m\u001b[0;34m\u001b[0m\u001b[0;34m\u001b[0m\u001b[0m\n\u001b[0m\u001b[1;32m    132\u001b[0m         \u001b[0mself\u001b[0m\u001b[0;34m.\u001b[0m\u001b[0mclass_idx\u001b[0m \u001b[0;34m=\u001b[0m \u001b[0mlogits\u001b[0m\u001b[0;34m.\u001b[0m\u001b[0mmax\u001b[0m\u001b[0;34m(\u001b[0m\u001b[0;36m1\u001b[0m\u001b[0;34m)\u001b[0m\u001b[0;34m[\u001b[0m\u001b[0;34m-\u001b[0m\u001b[0;36m1\u001b[0m\u001b[0;34m]\u001b[0m \u001b[0;32mif\u001b[0m \u001b[0mclass_idx\u001b[0m \u001b[0;32mis\u001b[0m \u001b[0;32mNone\u001b[0m \u001b[0;32melse\u001b[0m \u001b[0mclass_idx\u001b[0m\u001b[0;34m\u001b[0m\u001b[0;34m\u001b[0m\u001b[0m\n\u001b[1;32m    133\u001b[0m         \u001b[0macti\u001b[0m\u001b[0;34m,\u001b[0m \u001b[0mgrad\u001b[0m \u001b[0;34m=\u001b[0m \u001b[0;32mNone\u001b[0m\u001b[0;34m,\u001b[0m \u001b[0;32mNone\u001b[0m\u001b[0;34m\u001b[0m\u001b[0;34m\u001b[0m\u001b[0m\n",
      "\u001b[0;32m/app/data/anaconda/lib/python3.9/site-packages/torch/nn/modules/module.py\u001b[0m in \u001b[0;36m_call_impl\u001b[0;34m(self, *args, **kwargs)\u001b[0m\n\u001b[1;32m   1499\u001b[0m                 \u001b[0;32mor\u001b[0m \u001b[0m_global_backward_pre_hooks\u001b[0m \u001b[0;32mor\u001b[0m \u001b[0m_global_backward_hooks\u001b[0m\u001b[0;34m\u001b[0m\u001b[0;34m\u001b[0m\u001b[0m\n\u001b[1;32m   1500\u001b[0m                 or _global_forward_hooks or _global_forward_pre_hooks):\n\u001b[0;32m-> 1501\u001b[0;31m             \u001b[0;32mreturn\u001b[0m \u001b[0mforward_call\u001b[0m\u001b[0;34m(\u001b[0m\u001b[0;34m*\u001b[0m\u001b[0margs\u001b[0m\u001b[0;34m,\u001b[0m \u001b[0;34m**\u001b[0m\u001b[0mkwargs\u001b[0m\u001b[0;34m)\u001b[0m\u001b[0;34m\u001b[0m\u001b[0;34m\u001b[0m\u001b[0m\n\u001b[0m\u001b[1;32m   1502\u001b[0m         \u001b[0;31m# Do not call functions when jit is used\u001b[0m\u001b[0;34m\u001b[0m\u001b[0;34m\u001b[0m\u001b[0m\n\u001b[1;32m   1503\u001b[0m         \u001b[0mfull_backward_hooks\u001b[0m\u001b[0;34m,\u001b[0m \u001b[0mnon_full_backward_hooks\u001b[0m \u001b[0;34m=\u001b[0m \u001b[0;34m[\u001b[0m\u001b[0;34m]\u001b[0m\u001b[0;34m,\u001b[0m \u001b[0;34m[\u001b[0m\u001b[0;34m]\u001b[0m\u001b[0;34m\u001b[0m\u001b[0;34m\u001b[0m\u001b[0m\n",
      "\u001b[0;31mTypeError\u001b[0m: forward() missing 3 required positional arguments: 'x2', 'rad', and 'structured_data'"
     ]
    }
   ],
   "source": [
    "# resnet 2d\n",
    "from monai.networks.nets import seresnet50\n",
    "from monai.visualize import GradCAM\n",
    "\n",
    "\n",
    "cam = GradCAM(nn_module=my_model, target_layers=\"model_dce.layer4\")\n",
    "result = cam(x=torch.rand((1, 96, 96, 32)))\n",
    "print(result.shape)"
   ]
  },
  {
   "cell_type": "code",
   "execution_count": 24,
   "id": "def25c49-780e-4e11-b9b2-0855e63e350e",
   "metadata": {},
   "outputs": [
    {
     "name": "stdout",
     "output_type": "stream",
     "text": [
      "\n",
      "model_dce\n",
      "model_dce.conv1\n",
      "model_dce.bn1\n",
      "model_dce.relu\n",
      "model_dce.maxpool\n",
      "model_dce.layer1\n",
      "model_dce.layer1.0\n",
      "model_dce.layer1.0.conv1\n",
      "model_dce.layer1.0.bn1\n",
      "model_dce.layer1.0.relu\n",
      "model_dce.layer1.0.conv2\n",
      "model_dce.layer1.0.bn2\n",
      "model_dce.layer1.1\n",
      "model_dce.layer1.1.conv1\n",
      "model_dce.layer1.1.bn1\n",
      "model_dce.layer1.1.relu\n",
      "model_dce.layer1.1.conv2\n",
      "model_dce.layer1.1.bn2\n",
      "model_dce.layer2\n",
      "model_dce.layer2.0\n",
      "model_dce.layer2.0.conv1\n",
      "model_dce.layer2.0.bn1\n",
      "model_dce.layer2.0.relu\n",
      "model_dce.layer2.0.conv2\n",
      "model_dce.layer2.0.bn2\n",
      "model_dce.layer2.0.downsample\n",
      "model_dce.layer2.0.downsample.0\n",
      "model_dce.layer2.0.downsample.1\n",
      "model_dce.layer2.1\n",
      "model_dce.layer2.1.conv1\n",
      "model_dce.layer2.1.bn1\n",
      "model_dce.layer2.1.relu\n",
      "model_dce.layer2.1.conv2\n",
      "model_dce.layer2.1.bn2\n",
      "model_dce.layer3\n",
      "model_dce.layer3.0\n",
      "model_dce.layer3.0.conv1\n",
      "model_dce.layer3.0.bn1\n",
      "model_dce.layer3.0.relu\n",
      "model_dce.layer3.0.conv2\n",
      "model_dce.layer3.0.bn2\n",
      "model_dce.layer3.0.downsample\n",
      "model_dce.layer3.0.downsample.0\n",
      "model_dce.layer3.0.downsample.1\n",
      "model_dce.layer3.1\n",
      "model_dce.layer3.1.conv1\n",
      "model_dce.layer3.1.bn1\n",
      "model_dce.layer3.1.relu\n",
      "model_dce.layer3.1.conv2\n",
      "model_dce.layer3.1.bn2\n",
      "model_dce.layer4\n",
      "model_dce.layer4.0\n",
      "model_dce.layer4.0.conv1\n",
      "model_dce.layer4.0.bn1\n",
      "model_dce.layer4.0.relu\n",
      "model_dce.layer4.0.conv2\n",
      "model_dce.layer4.0.bn2\n",
      "model_dce.layer4.0.downsample\n",
      "model_dce.layer4.0.downsample.0\n",
      "model_dce.layer4.0.downsample.1\n",
      "model_dce.layer4.1\n",
      "model_dce.layer4.1.conv1\n",
      "model_dce.layer4.1.bn1\n",
      "model_dce.layer4.1.relu\n",
      "model_dce.layer4.1.conv2\n",
      "model_dce.layer4.1.bn2\n",
      "model_dce.avgpool\n",
      "model_adc\n",
      "model_adc.conv1\n",
      "model_adc.bn1\n",
      "model_adc.relu\n",
      "model_adc.maxpool\n",
      "model_adc.layer1\n",
      "model_adc.layer1.0\n",
      "model_adc.layer1.0.conv1\n",
      "model_adc.layer1.0.bn1\n",
      "model_adc.layer1.0.relu\n",
      "model_adc.layer1.0.conv2\n",
      "model_adc.layer1.0.bn2\n",
      "model_adc.layer1.1\n",
      "model_adc.layer1.1.conv1\n",
      "model_adc.layer1.1.bn1\n",
      "model_adc.layer1.1.relu\n",
      "model_adc.layer1.1.conv2\n",
      "model_adc.layer1.1.bn2\n",
      "model_adc.layer2\n",
      "model_adc.layer2.0\n",
      "model_adc.layer2.0.conv1\n",
      "model_adc.layer2.0.bn1\n",
      "model_adc.layer2.0.relu\n",
      "model_adc.layer2.0.conv2\n",
      "model_adc.layer2.0.bn2\n",
      "model_adc.layer2.0.downsample\n",
      "model_adc.layer2.0.downsample.0\n",
      "model_adc.layer2.0.downsample.1\n",
      "model_adc.layer2.1\n",
      "model_adc.layer2.1.conv1\n",
      "model_adc.layer2.1.bn1\n",
      "model_adc.layer2.1.relu\n",
      "model_adc.layer2.1.conv2\n",
      "model_adc.layer2.1.bn2\n",
      "model_adc.layer3\n",
      "model_adc.layer3.0\n",
      "model_adc.layer3.0.conv1\n",
      "model_adc.layer3.0.bn1\n",
      "model_adc.layer3.0.relu\n",
      "model_adc.layer3.0.conv2\n",
      "model_adc.layer3.0.bn2\n",
      "model_adc.layer3.0.downsample\n",
      "model_adc.layer3.0.downsample.0\n",
      "model_adc.layer3.0.downsample.1\n",
      "model_adc.layer3.1\n",
      "model_adc.layer3.1.conv1\n",
      "model_adc.layer3.1.bn1\n",
      "model_adc.layer3.1.relu\n",
      "model_adc.layer3.1.conv2\n",
      "model_adc.layer3.1.bn2\n",
      "model_adc.layer4\n",
      "model_adc.layer4.0\n",
      "model_adc.layer4.0.conv1\n",
      "model_adc.layer4.0.bn1\n",
      "model_adc.layer4.0.relu\n",
      "model_adc.layer4.0.conv2\n",
      "model_adc.layer4.0.bn2\n",
      "model_adc.layer4.0.downsample\n",
      "model_adc.layer4.0.downsample.0\n",
      "model_adc.layer4.0.downsample.1\n",
      "model_adc.layer4.1\n",
      "model_adc.layer4.1.conv1\n",
      "model_adc.layer4.1.bn1\n",
      "model_adc.layer4.1.relu\n",
      "model_adc.layer4.1.conv2\n",
      "model_adc.layer4.1.bn2\n",
      "model_adc.avgpool\n",
      "attn\n",
      "attn.out_proj\n",
      "Linear1\n",
      "Linear2\n",
      "dropout\n"
     ]
    }
   ],
   "source": [
    "\n",
    "x1 = torch.randn(8, 1, 96, 96, 32)  # batch, channel, x, y, z\n",
    "x2 = torch.randn(8, 1, 64, 64, 16)\n",
    "\n",
    "cli = torch.randn(8, 6)\n",
    "radiomics = torch.rand(8, 9)\n",
    "f1, output = my_model(x1.cuda(), x2.cuda(), radiomics.cuda(), cli.cuda())\n",
    "print('output: ', output.shape)\n"
   ]
  },
  {
   "cell_type": "code",
   "execution_count": null,
   "id": "e4e0d041-f46f-4665-9ac6-a226ab28ed20",
   "metadata": {},
   "outputs": [],
   "source": []
  }
 ],
 "metadata": {
  "kernelspec": {
   "display_name": "Python 3 (ipykernel)",
   "language": "python",
   "name": "python3"
  },
  "language_info": {
   "codemirror_mode": {
    "name": "ipython",
    "version": 3
   },
   "file_extension": ".py",
   "mimetype": "text/x-python",
   "name": "python",
   "nbconvert_exporter": "python",
   "pygments_lexer": "ipython3",
   "version": "3.9.13"
  }
 },
 "nbformat": 4,
 "nbformat_minor": 5
}
