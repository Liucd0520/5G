{
 "cells": [
  {
   "cell_type": "code",
   "execution_count": 1,
   "id": "bc4b4e1f-ac0c-49c1-86f0-7f47f0226d8a",
   "metadata": {},
   "outputs": [],
   "source": [
    "import os\n",
    "import SimpleITK as sitk\n",
    "import glob\n",
    "import monai\n",
    "from monai.transforms import (\n",
    "    AsDiscrete,\n",
    "    AsDiscreted,\n",
    "    EnsureChannelFirstd,\n",
    "    Compose,\n",
    "    CropForegroundd,\n",
    "    LoadImaged,\n",
    "    Orientationd,\n",
    "    RandCropByPosNegLabeld,\n",
    "    SaveImaged,\n",
    "    ScaleIntensityRanged,\n",
    "    Spacingd,\n",
    "    AddChanneld,\n",
    "    SpatialPadd,\n",
    "    RandRotate90d,\n",
    "    RandShiftIntensityd,\n",
    "    EnsureTyped,\n",
    "    EnsureType,\n",
    "    MapTransform,\n",
    "    Resized,\n",
    "    Invertd,\n",
    "    ToTensord,\n",
    "    NormalizeIntensityd,\n",
    "    RandFlipd,\n",
    "    Lambdad,\n",
    "    Activations,\n",
    "    AsDiscrete,\n",
    ")\n",
    "from monai.metrics import ROCAUCMetric\n",
    "from monai.data import CacheDataset, ThreadDataLoader,DataLoader, Dataset, decollate_batch,load_decathlon_datalist\n",
    "import torch\n",
    "from monai.utils import first, set_determinism\n",
    "import torch.nn as  nn\n",
    "from torch.nn import Linear,  Softmax\n",
    "import torch.nn.functional as F\n",
    "import pandas as pd\n",
    "from sklearn import metrics\n",
    "torch.multiprocessing.set_sharing_strategy('file_system')"
   ]
  },
  {
   "cell_type": "code",
   "execution_count": 46,
   "id": "5a56a52a-1985-4e0e-ac96-a0af32db887b",
   "metadata": {},
   "outputs": [],
   "source": [
    "# model_path = '/app/liucd/deeplearn_dec/DL_multi/NewTrain2Val3/net_selfattnNew/hidden/Loss/FocalLoss/model_0.796_0.853.pth'\n",
    "# model_path = '/app/liucd/deeplearn_dec/DL_multi/NewTrain2Val3/net_selfattnNew/hidden/LR/HighLR/best_metric_model_classification3d_dict.pth'\n",
    "model_path = '../LR1e-3/model_24_0.8026_0.8700.pth'"
   ]
  },
  {
   "cell_type": "code",
   "execution_count": 3,
   "id": "6540bf41-8180-40a4-bbf3-75b49376e72c",
   "metadata": {},
   "outputs": [],
   "source": [
    "df_raw = pd.read_csv('/app/liucd/判定_fill_df.csv')\n",
    "df_cli = df_raw[['patient_ID', 'T_stage', 'HER2_status', 'NAC_classification', 'ER_percentage', 'PR_percentage', 'Ki_67']]\n"
   ]
  },
  {
   "cell_type": "code",
   "execution_count": 4,
   "id": "e55791fe-9989-45ab-9259-61ea56362e38",
   "metadata": {},
   "outputs": [
    {
     "name": "stdout",
     "output_type": "stream",
     "text": [
      "{'image_adc': '/app/liucd/deeplearn_dec/DL_dec/data_adc/xian/Mixed/236_1412879_ADC2_0000_0.nii.gz', 'image_dce': '/app/liucd/deeplearn_dec/DL_dec/data/xian/Mixed/236_1412879_+C2_0000_0.nii.gz', 'clinical': [1.0, 0.0, 2.0, 0.0, 0.0, 0.7], 'label': 0}\n",
      "618\n",
      "{'image_adc': '/app/liucd/deeplearn_dec/DL_dec/data_adc/zunyi/Mixed/2022_10_20_1650366_ADC2_0000_0.nii.gz', 'image_dce': '/app/liucd/deeplearn_dec/DL_dec/data/zunyi/Mixed/2022_10_20_1650366_+C2_0000_0.nii.gz', 'clinical': [3.0, 1.0, 2.0, 0.0, 0.0, 0.2], 'label': 0}\n",
      "691\n"
     ]
    }
   ],
   "source": [
    "syf_adcdir = '/app/liucd/deeplearn_dec/DL_dec/data_adc/syf/Mixed'\n",
    "zy_adcdir = '/app/liucd/deeplearn_dec/DL_dec/data_adc/zunyi/Mixed'\n",
    "\n",
    "sd_adcdir = '/app/liucd/deeplearn_dec/DL_dec/data_adc/shandong/Mixed'\n",
    "yizhong_adcdir = '/app/liucd/deeplearn_dec/DL_dec/data_adc/yizhong/Mixed'\n",
    "xian_adcdir = '/app/liucd/deeplearn_dec/DL_dec/data_adc/xian/Mixed'\n",
    "\n",
    "\n",
    "syf_dcedir = '/app/liucd/deeplearn_dec/DL_dec/data/syf/Mixed'\n",
    "zy_dcedir = '/app/liucd/deeplearn_dec/DL_dec/data/zunyi/Mixed'\n",
    "\n",
    "sd_dcedir = '/app/liucd/deeplearn_dec/DL_dec/data/shandong/Mixed'\n",
    "yizhong_dcedir = '/app/liucd/deeplearn_dec/DL_dec/data/yizhong/Mixed'\n",
    "xian_dcedir = '/app/liucd/deeplearn_dec/DL_dec/data/xian/Mixed'\n",
    "\n",
    "\n",
    "train_adcimages = sorted(glob.glob(os.path.join(syf_adcdir,  '*.nii.gz'))) + \\\n",
    "                 sorted(glob.glob(os.path.join(zy_adcdir,  '*.nii.gz')))\n",
    "\n",
    "\n",
    "train_dceimages = sorted(glob.glob(os.path.join(syf_dcedir,  '*.nii.gz'))) + \\\n",
    "                 sorted(glob.glob(os.path.join(zy_dcedir,  '*.nii.gz')))\n",
    "\n",
    "\n",
    "\n",
    "val_adcimages =  sorted(glob.glob(os.path.join(sd_adcdir,  '*.nii.gz'))) + \\\n",
    "                 sorted(glob.glob(os.path.join(yizhong_adcdir,  '*.nii.gz'))) + \\\n",
    "                 sorted(glob.glob(os.path.join(xian_adcdir,  '*.nii.gz'))) \n",
    "\n",
    "val_dceimages =  sorted(glob.glob(os.path.join(sd_dcedir,  '*.nii.gz'))) + \\\n",
    "                 sorted(glob.glob(os.path.join(yizhong_dcedir,  '*.nii.gz'))) + \\\n",
    "                 sorted(glob.glob(os.path.join(xian_dcedir,  '*.nii.gz'))) \n",
    "\n",
    "\n",
    "val_clinical = []\n",
    "for file_path in val_adcimages:\n",
    "    p_id = file_path.split('_')[-4]\n",
    "    clinical_data = df_cli[df_cli['patient_ID'] == int(p_id)].values.tolist()[0][1:]\n",
    "    val_clinical.append(clinical_data)\n",
    "\n",
    "val_dict = [{'image_adc': image_adc, 'image_dce': image_dce, 'clinical': clinical,  'label': int(image_adc.split('_')[-1].replace('.nii.gz', ''))}\n",
    "                  for image_adc, image_dce, clinical in zip(val_adcimages, val_dceimages, val_clinical)]\n",
    "\n",
    "\n",
    "\n",
    "train_clinical = []\n",
    "for file_path in train_adcimages:\n",
    "    p_id = file_path.split('_')[-4]\n",
    "    clinical_data = df_cli[df_cli['patient_ID'] == int(p_id)].values.tolist()[0][1:]\n",
    "    train_clinical.append(clinical_data)\n",
    "\n",
    "train_dict = [{'image_adc': image_adc, 'image_dce': image_dce, 'clinical': clinical,  'label': int(image_adc.split('_')[-1].replace('.nii.gz', ''))}\n",
    "                  for image_adc, image_dce, clinical in zip(train_adcimages,  train_dceimages, train_clinical)]\n",
    "\n",
    "print(val_dict[-1])\n",
    "print(len(val_dict))\n",
    "print(train_dict[-1])\n",
    "print(len(train_dict))"
   ]
  },
  {
   "cell_type": "code",
   "execution_count": 5,
   "id": "17164ac4-b08f-412d-be4a-e771a99a624d",
   "metadata": {},
   "outputs": [
    {
     "name": "stdout",
     "output_type": "stream",
     "text": [
      "{'image_adc': '/app/liucd/deeplearn_dec/DL_dec/data_adc/shandong/Mixed/516_xu_feng_hua_637730_ADC2_0000_0.nii.gz', 'image_dce': '/app/liucd/deeplearn_dec/DL_dec/data/shandong/Mixed/516_xu_feng_hua_637730_+C2_0000_0.nii.gz', 'clinical': [3.0, 1.0, 2.0, 0.9, 0.9, 0.3], 'label': 0}\n",
      "{'image_adc': '/app/liucd/deeplearn_dec/DL_dec/data_adc/yizhong/Mixed/205_1510029_ADC2_0000_0.nii.gz', 'image_dce': '/app/liucd/deeplearn_dec/DL_dec/data/yizhong/Mixed/205_1510029_+C2_0000_0.nii.gz', 'clinical': [2.0, 0.0, 2.0, 0.8, 0.2, 0.5], 'label': 0}\n",
      "{'image_adc': '/app/liucd/deeplearn_dec/DL_dec/data_adc/xian/Mixed/236_1412879_ADC2_0000_0.nii.gz', 'image_dce': '/app/liucd/deeplearn_dec/DL_dec/data/xian/Mixed/236_1412879_+C2_0000_0.nii.gz', 'clinical': [1.0, 0.0, 2.0, 0.0, 0.0, 0.7], 'label': 0}\n"
     ]
    },
    {
     "data": {
      "text/plain": [
       "(236, 200, 182)"
      ]
     },
     "execution_count": 5,
     "metadata": {},
     "output_type": "execute_result"
    }
   ],
   "source": [
    "\n",
    "sd_adcimages =  sorted(glob.glob(os.path.join(sd_adcdir,  '*.nii.gz'))) \n",
    "yizhong_adcimages = sorted(glob.glob(os.path.join(yizhong_adcdir,  '*.nii.gz'))) \n",
    "xian_adcimages = sorted(glob.glob(os.path.join(xian_adcdir,  '*.nii.gz'))) \n",
    "\n",
    "sd_dceimages =  sorted(glob.glob(os.path.join(sd_dcedir,  '*.nii.gz'))) \n",
    "yizhong_dceimages =  sorted(glob.glob(os.path.join(yizhong_dcedir,  '*.nii.gz')))\n",
    "xian_dceimages =  sorted(glob.glob(os.path.join(xian_dcedir,  '*.nii.gz'))) \n",
    "\n",
    "\n",
    "sd_clinical = []\n",
    "yizhong_clinical = []\n",
    "xian_clinical = []\n",
    "for file_path in sd_adcimages:\n",
    "    p_id = file_path.split('_')[-4]\n",
    "    clinical_data = df_cli[df_cli['patient_ID'] == int(p_id)].values.tolist()[0][1:]\n",
    "    sd_clinical.append(clinical_data)\n",
    "\n",
    "for file_path in yizhong_adcimages:\n",
    "    p_id = file_path.split('_')[-4]\n",
    "    clinical_data = df_cli[df_cli['patient_ID'] == int(p_id)].values.tolist()[0][1:]\n",
    "    yizhong_clinical.append(clinical_data)\n",
    "\n",
    "for file_path in xian_adcimages:\n",
    "    p_id = file_path.split('_')[-4]\n",
    "    clinical_data = df_cli[df_cli['patient_ID'] == int(p_id)].values.tolist()[0][1:]\n",
    "    xian_clinical.append(clinical_data)\n",
    "\n",
    "sd_dict = [{'image_adc': image_adc, 'image_dce': image_dce, 'clinical': clinical,  'label': int(image_adc.split('_')[-1].replace('.nii.gz', ''))}\n",
    "                  for image_adc, image_dce, clinical in zip(sd_adcimages, sd_dceimages, sd_clinical)]\n",
    "\n",
    "yizhong_dict = [{'image_adc': image_adc, 'image_dce': image_dce, 'clinical': clinical,  'label': int(image_adc.split('_')[-1].replace('.nii.gz', ''))}\n",
    "                  for image_adc, image_dce, clinical in zip(yizhong_adcimages, yizhong_dceimages, yizhong_clinical)]\n",
    "\n",
    "xian_dict = [{'image_adc': image_adc, 'image_dce': image_dce, 'clinical': clinical,  'label': int(image_adc.split('_')[-1].replace('.nii.gz', ''))}\n",
    "                  for image_adc, image_dce, clinical in zip(xian_adcimages, xian_dceimages, xian_clinical)]\n",
    "\n",
    "print(sd_dict[-1])\n",
    "print(yizhong_dict[-1])\n",
    "print(xian_dict[-1])\n",
    "len(sd_dict), len(yizhong_dict), len(xian_dict)"
   ]
  },
  {
   "cell_type": "code",
   "execution_count": null,
   "id": "139d7b4a-ea9b-4f15-9a1b-962c31f4210b",
   "metadata": {},
   "outputs": [],
   "source": []
  },
  {
   "cell_type": "code",
   "execution_count": 13,
   "id": "4979ec11-f3ca-4814-8955-7d10c303bb96",
   "metadata": {},
   "outputs": [],
   "source": [
    "val_transforms = Compose(\n",
    "        [\n",
    "            LoadImaged(keys=[\"image_adc\",'image_dce' ]),\n",
    "            EnsureChannelFirstd(keys=[\"image_adc\", 'image_dce']),\n",
    "            Orientationd(keys=[\"image_adc\",'image_dce'], axcodes=\"RAS\"),\n",
    "            Resized(keys=[\"image_adc\"], spatial_size=(64, 64, 16)),\n",
    "            Resized(keys=[\"image_dce\"], spatial_size=(96, 96, 32)),\n",
    "            \n",
    "            NormalizeIntensityd(keys=[\"image_adc\", 'image_dce'], nonzero=True, channel_wise=True),\n",
    "            ToTensord(keys=['image_adc', 'image_dce','clinical', 'label'])\n",
    "        ]\n",
    "    )\n",
    "\n",
    "\n",
    "val_ds = Dataset(data=val_dict, transform=val_transforms)\n",
    "train_ds = Dataset(data=train_dict, transform=val_transforms)\n",
    "sd_ds = Dataset(data=sd_dict, transform=val_transforms)\n",
    "yizhong_ds = Dataset(data=yizhong_dict, transform=val_transforms)\n",
    "xian_ds = Dataset(data=xian_dict, transform=val_transforms)\n",
    "\n",
    "# create a validation data loader\n",
    "val_loader = DataLoader(val_ds, batch_size=12, num_workers=16, pin_memory=True)\n",
    "train_loader = DataLoader(train_ds, batch_size=12, num_workers=16, pin_memory=True)\n",
    "sd_loader = DataLoader(sd_ds, batch_size=1, num_workers=16, pin_memory=True)\n",
    "yizhong_loader = DataLoader(yizhong_ds, batch_size=1, num_workers=16, pin_memory=True)\n",
    "xian_loader = DataLoader(xian_ds, batch_size=1, num_workers=16, pin_memory=True)"
   ]
  },
  {
   "cell_type": "code",
   "execution_count": 8,
   "id": "3bdd74fb-2eaa-4773-8323-8d165c97f7ee",
   "metadata": {},
   "outputs": [],
   "source": [
    "\n",
    "class DoubleTower(nn.Module):\n",
    "    def __init__(self,\n",
    "                 pretrained_dce='',\n",
    "                 pretrained_adc='',\n",
    "                 device = torch.device(\"cuda\"),\n",
    "                 num_classes=2,\n",
    "                 fc_hidden_size = 256\n",
    "                ):\n",
    "        super().__init__()\n",
    "        self.pretrained_dce = pretrained_dce\n",
    "        self.pretrained_adc = pretrained_adc\n",
    "        self.fc_hidden_size = fc_hidden_size\n",
    "        self.num_classes = num_classes\n",
    "        self.device = device\n",
    "\n",
    "        self.model_dce = monai.networks.nets.resnet18(spatial_dims=3, n_input_channels=1, num_classes=2, feed_forward=False).to(self.device)\n",
    "        self.model_adc = monai.networks.nets.resnet18(spatial_dims=3, n_input_channels=1, num_classes=2, feed_forward=False).to(self.device)\n",
    "\n",
    "        if  pretrained_dce != '':\n",
    "            dce_dict = self.model_dce.state_dict()\n",
    "            dce_pretrain = torch.load(self.pretrained_dce, map_location=self.device)\n",
    "            dce_pretrain_dict = {k:v for k, v in dce_pretrain.items() if  k in  dce_dict.keys()}\n",
    "            dce_dict.update(dce_pretrain_dict)\n",
    "            self.model_dce.load_state_dict(dce_dict)\n",
    "\n",
    "        if  pretrained_adc !='':\n",
    "            adc_dict = self.model_adc.state_dict()\n",
    "            adc_pretrain = torch.load(self.pretrained_adc, map_location=self.device)\n",
    "            adc_pretrain_dict = {k:v for k, v in adc_pretrain.items() if  k in  adc_dict.keys()}\n",
    "            adc_dict.update(adc_pretrain_dict)\n",
    "            self.model_adc.load_state_dict(adc_dict)\n",
    "\n",
    "        self.attn = nn.MultiheadAttention(512, num_heads=8, batch_first=True, device=self.device)\n",
    "\n",
    "        # self.Linear1 = Linear(1024 + 6, self.num_classes, device=self.device)\n",
    "        self.Linear1 = Linear(512, self.fc_hidden_size, device=self.device)  # 1024 是 所有下采样特征图globalpool之后拼接的结果\n",
    "        self.Linear2 = Linear(self.fc_hidden_size + 6, self.num_classes, device=self.device)\n",
    "        self.dropout = nn.Dropout(0.2)\n",
    "\n",
    "\n",
    "    def forward(self, x1, x2, structured_data):  # x 是SegResNet的输入影像矩阵\n",
    "\n",
    "        encode_output1 = self.model_dce(x1)\n",
    "        encode_output2 = self.model_dce(x2)\n",
    "\n",
    "        concatenated = encode_output1 * encode_output2\n",
    "        \n",
    "        concatenated = concatenated.unsqueeze(1)\n",
    "        attn_output, _ = self.attn(concatenated, concatenated, concatenated)\n",
    "\n",
    "        attn_output = attn_output.squeeze(1)\n",
    "\n",
    "        fc1 = F.relu(self.Linear1(attn_output))\n",
    "        fc1 = self.dropout(fc1)\n",
    "\n",
    "        fc2 = self.Linear2( torch.concat([fc1, structured_data], dim=-1))\n",
    "   \n",
    "        return F.log_softmax(fc2, dim=-1)\n"
   ]
  },
  {
   "cell_type": "code",
   "execution_count": null,
   "id": "97af8cce-61b5-4be6-a9a3-ae32f10886f6",
   "metadata": {},
   "outputs": [],
   "source": []
  },
  {
   "cell_type": "code",
   "execution_count": null,
   "id": "ac87e60f-0933-4f47-8a8d-f670a8c2cf9f",
   "metadata": {},
   "outputs": [],
   "source": []
  },
  {
   "cell_type": "code",
   "execution_count": 50,
   "id": "66ac717a-912b-4d4b-bafc-d2d8157f52b8",
   "metadata": {},
   "outputs": [
    {
     "data": {
      "text/plain": [
       "<All keys matched successfully>"
      ]
     },
     "execution_count": 50,
     "metadata": {},
     "output_type": "execute_result"
    }
   ],
   "source": [
    "\n",
    "# dce_pretrain_path = ''\n",
    "# adc_pretrain_path = ''\n",
    "\n",
    "device = torch.device(\"cuda:1\" if torch.cuda.is_available() else \"cpu\")\n",
    "model = DoubleTower(device = device)\n",
    "model_path =  '../LR1e-3again/model_47_0.8042_0.8528.pth'\n",
    "pretrained_path = os.path.join(model_path)\n",
    "model.load_state_dict(torch.load(pretrained_path, map_location=device))\n"
   ]
  },
  {
   "cell_type": "code",
   "execution_count": null,
   "id": "80a7380a-678c-4183-8608-b78e076c0fbe",
   "metadata": {},
   "outputs": [],
   "source": []
  },
  {
   "cell_type": "code",
   "execution_count": 51,
   "id": "448fbf2b-d122-46a6-955c-36f35aa3e647",
   "metadata": {},
   "outputs": [],
   "source": [
    "def report_metric(label_list, pred_list):\n",
    "    Cmatrix = metrics.confusion_matrix(label_list, pred_list)\n",
    "    TN = Cmatrix[0, 0]\n",
    "    TP = Cmatrix[1, 1]\n",
    "    FN = Cmatrix[1, 0]\n",
    "    FP = Cmatrix[0, 1]\n",
    "\n",
    "    Acc = (TP+TN) / (TP+TN+FP+FN)\n",
    "    sensitivity = TPR = Recall = TP / (TP+FN)\n",
    "    specificity = TNR =  TN / (FP+TN)\n",
    "    PPV = TP / (TP + FP)\n",
    "    NPV = TN / (TN + FN)\n",
    "    \n",
    "    return Acc, sensitivity, specificity, PPV, NPV"
   ]
  },
  {
   "cell_type": "code",
   "execution_count": 52,
   "id": "0b82db15-bd06-410a-9628-a41ff0429140",
   "metadata": {},
   "outputs": [
    {
     "name": "stdout",
     "output_type": "stream",
     "text": [
      "0.8752139741206354\n",
      "0.7930535455861071\n"
     ]
    }
   ],
   "source": [
    "post_pred = Compose([Activations(softmax=True)])\n",
    "post_label = Compose([AsDiscrete(to_onehot=2)])\n",
    "\n",
    "auc_metric = ROCAUCMetric()\n",
    "\n",
    "prob_list = []\n",
    "label_list = []\n",
    "\n",
    "model.eval()\n",
    "with torch.no_grad():\n",
    "    y_pred = torch.tensor([], dtype=torch.float32, device=device)\n",
    "    y = torch.tensor([], dtype=torch.long, device=device)\n",
    "\n",
    "    for val_data in train_loader:\n",
    "\n",
    "        val_dce, val_adc, val_clinical, val_labels = val_data[\"image_dce\"].to(device),val_data[\"image_adc\"].to(device), val_data[\"clinical\"].to(device), val_data[\"label\"].to(device)\n",
    "        val_output = model(val_dce, val_adc, val_clinical)\n",
    "         \n",
    "#         prob_list.append(post_pred(val_output[0])[1].item())  # [0] 是由于设置batch=1 [1] 是是取预测类别中的1类别\n",
    "#         label_list.append(val_labels.item())\n",
    "        \n",
    "        # monai\n",
    "        y_pred = torch.cat([y_pred, val_output], dim=0)\n",
    "        y = torch.cat([y, val_labels], dim=0)\n",
    "        \n",
    "        y_onehot = [post_label(i) for i in decollate_batch(y, detach=False)]\n",
    "        y_pred_act = [post_pred(i) for i in decollate_batch(y_pred)]\n",
    "\n",
    "# # sklearn\n",
    "# pred_list = [round(i) for i in prob_list]\n",
    "# Acc, sensitivity, specificity, PPV, NPV = report_metric(label_list, pred_list)\n",
    "# print('Accuray:', Acc)\n",
    "# print('SEN/SPE:', sensitivity, specificity)\n",
    "# print('PPV/NPV: ', PPV, NPV)\n",
    "\n",
    "# fpr, tpr, thresholds = metrics.roc_curve(label_list, prob_list, pos_label=1)\n",
    "# print(metrics.auc(fpr, tpr))\n",
    "\n",
    "# # monai\n",
    "auc_metric(y_pred_act, y_onehot)\n",
    "print(auc_metric.aggregate())\n",
    "\n",
    "acc_value = torch.eq(y_pred.argmax(dim=1), y)\n",
    "acc_metric = acc_value.sum().item() / len(acc_value)\n",
    "print(acc_metric)"
   ]
  },
  {
   "cell_type": "code",
   "execution_count": null,
   "id": "5a2652aa-9906-44fb-9acd-fcad1d71e79d",
   "metadata": {},
   "outputs": [],
   "source": [
    "0.8611033221578787\n",
    "0.7702265372168284"
   ]
  },
  {
   "cell_type": "code",
   "execution_count": 143,
   "id": "d6edac93-0dae-493e-abcd-6d311640d8c4",
   "metadata": {},
   "outputs": [
    {
     "name": "stdout",
     "output_type": "stream",
     "text": [
      "0.47\n",
      "0.7932148626817448 0.4845360824742268 0.9341176470588235 0.7704918032786885 0.7987927565392354\n"
     ]
    },
    {
     "data": {
      "text/plain": [
       "Text(0, 0.5, 'Accuracy')"
      ]
     },
     "execution_count": 143,
     "metadata": {},
     "output_type": "execute_result"
    },
    {
     "data": {
      "image/png": "[encoded data removed]",
      "text/plain": [
       "<Figure size 640x480 with 1 Axes>"
      ]
     },
     "metadata": {},
     "output_type": "display_data"
    }
   ],
   "source": [
    "import matplotlib.pyplot as plt\n",
    "import numpy as np\n",
    "\n",
    "def fun(x, threshold):\n",
    "    if x > threshold:\n",
    "        return 1\n",
    "    else:\n",
    "        return 0\n",
    "\n",
    "Acc_list = []\n",
    "th_list = np.linspace(0.2, 0.6, 41).tolist()\n",
    "for th in th_list:\n",
    "    \n",
    "    pred_list = [fun(i, th) for i in prob_list]\n",
    "    Acc, sensitivity, specificity, PPV, NPV = report_metric(label_list, pred_list)\n",
    "    Acc_list.append(Acc)\n",
    "use_th = th_list[Acc_list.index(max(Acc_list))]\n",
    "print(use_th)\n",
    "pred_list = [fun(i, use_th) for i in prob_list]\n",
    "Acc, sensitivity, specificity, PPV, NPV = report_metric(label_list, pred_list)\n",
    "print(Acc, sensitivity, specificity, PPV, NPV)\n",
    "plt.plot(th_list, Acc_list)\n",
    "plt.xlabel('threshold')\n",
    "plt.ylabel('Accuracy')"
   ]
  },
  {
   "cell_type": "code",
   "execution_count": null,
   "id": "6051dfc4-55ed-4bd3-bc2c-b4be681340b7",
   "metadata": {},
   "outputs": [],
   "source": []
  },
  {
   "cell_type": "code",
   "execution_count": 136,
   "id": "90223ba5-f087-413f-95cb-1216fda1f72c",
   "metadata": {},
   "outputs": [
    {
     "name": "stdout",
     "output_type": "stream",
     "text": [
      "Accuray: 0.7467438494934877\n",
      "SEN/SPE: 0.33884297520661155 0.9665924276169265\n",
      "PPV/NPV:  0.845360824742268 0.7306397306397306\n",
      "0.8583537337333652\n",
      "0.8583537337333652\n",
      "0.7467438494934877\n"
     ]
    }
   ],
   "source": [
    "post_pred = Compose([Activations(softmax=True)])\n",
    "post_label = Compose([AsDiscrete(to_onehot=2)])\n",
    "\n",
    "auc_metric = ROCAUCMetric()\n",
    "\n",
    "prob_list = []\n",
    "label_list = []\n",
    "\n",
    "model.eval()\n",
    "with torch.no_grad():\n",
    "    y_pred = torch.tensor([], dtype=torch.float32, device=device)\n",
    "    y = torch.tensor([], dtype=torch.long, device=device)\n",
    "\n",
    "    for val_data in train_loader:\n",
    "\n",
    "        val_dce, val_adc, val_clinical, val_labels = val_data[\"image_dce\"].to(device),val_data[\"image_adc\"].to(device), val_data[\"clinical\"].to(device), val_data[\"label\"].to(device)\n",
    "        val_output = model(val_dce, val_adc, val_clinical)\n",
    "         \n",
    "        prob_list.append(post_pred(val_output[0])[1].item())  # [0] 是由于设置batch=1 [1] 是是取预测类别中的1类别\n",
    "        label_list.append(val_labels.item())\n",
    "        \n",
    "        # monai\n",
    "        y_pred = torch.cat([y_pred, val_output], dim=0)\n",
    "        y = torch.cat([y, val_labels], dim=0)\n",
    "        \n",
    "        y_onehot = [post_label(i) for i in decollate_batch(y, detach=False)]\n",
    "        y_pred_act = [post_pred(i) for i in decollate_batch(y_pred)]\n",
    "\n",
    "# sklearn\n",
    "pred_list = [round(i) for i in prob_list]\n",
    "Acc, sensitivity, specificity, PPV, NPV = report_metric(label_list, pred_list)\n",
    "print('Accuray:', Acc)\n",
    "print('SEN/SPE:', sensitivity, specificity)\n",
    "print('PPV/NPV: ', PPV, NPV)\n",
    "\n",
    "fpr, tpr, thresholds = metrics.roc_curve(label_list, prob_list, pos_label=1)\n",
    "print(metrics.auc(fpr, tpr))\n",
    "\n",
    "# # monai\n",
    "auc_metric(y_pred_act, y_onehot)\n",
    "print(auc_metric.aggregate())\n",
    "\n",
    "acc_value = torch.eq(y_pred.argmax(dim=1), y)\n",
    "acc_metric = acc_value.sum().item() / len(acc_value)\n",
    "print(acc_metric)"
   ]
  },
  {
   "cell_type": "code",
   "execution_count": 140,
   "id": "5ecb3d6e-7a40-4a8e-9c99-72638b7d7b38",
   "metadata": {},
   "outputs": [
    {
     "name": "stdout",
     "output_type": "stream",
     "text": [
      "0.7800289435600579 0.5289256198347108 0.9153674832962138 0.7710843373493976 0.7828571428571428\n"
     ]
    }
   ],
   "source": [
    "import matplotlib.pyplot as plt\n",
    "import numpy as np\n",
    "\n",
    "def fun(x, threshold):\n",
    "    if x > threshold:\n",
    "        return 1\n",
    "    else:\n",
    "        return 0\n",
    "\n",
    "pred_list = [fun(i, 0.45) for i in prob_list]\n",
    "Acc, sensitivity, specificity, PPV, NPV = report_metric(label_list, pred_list)\n",
    "print(Acc, sensitivity, specificity, PPV, NPV)\n"
   ]
  },
  {
   "cell_type": "code",
   "execution_count": 113,
   "id": "4181901a-473f-42d3-8312-070fb8969e15",
   "metadata": {},
   "outputs": [
    {
     "data": {
      "text/plain": [
       "0.8065"
      ]
     },
     "execution_count": 113,
     "metadata": {},
     "output_type": "execute_result"
    }
   ],
   "source": [
    "# center  th0.5 (th0.34)  AUC\n",
    "#sd      0.73(0.844)     0.8663819402074435\n",
    "#yizhong 0.88(0.84)      0.84 \n",
    "# xian   0.71(0.76)      0.85\n",
    "# train 0.75 (0.786)     0.85\n",
    "(0.84+0.84+0.76+0.786) / 4"
   ]
  },
  {
   "cell_type": "code",
   "execution_count": 131,
   "id": "3ce57618-dae9-40ea-a8c5-6afde19bd79d",
   "metadata": {},
   "outputs": [
    {
     "data": {
      "text/plain": [
       "0.791"
      ]
     },
     "execution_count": 131,
     "metadata": {},
     "output_type": "execute_result"
    }
   ],
   "source": [
    "# center  th0.5   AUC\n",
    "#sd       0.776  0.86\n",
    "#yizhong  0.86   0.87\n",
    "# xian    0.75   0.82\n",
    "# train   0.778  0.85   \n",
    "(0.776+0.86+0.75+0.778) / 4"
   ]
  },
  {
   "cell_type": "code",
   "execution_count": 151,
   "id": "b2dd1a08-842c-4b2d-bb66-6a587de35365",
   "metadata": {},
   "outputs": [],
   "source": [
    "error_val = []\n",
    "\n",
    "for val_data in val_loader:\n",
    "\n",
    "        val_dce, val_adc, val_clinical, val_labels = val_data[\"image_dce\"].to(device),val_data[\"image_adc\"].to(device), val_data[\"clinical\"].to(device), val_data[\"label\"].to(device)\n",
    "        val_output = model(val_dce, val_adc, val_clinical)\n",
    "         \n",
    "        pred_prob = round(post_pred(val_output[0])[1].item())\n",
    "        label = val_labels.item()\n",
    "        if pred_prob != label:\n",
    "            error_val.append(val_data['image_dce_meta_dict']['filename_or_obj'][0])\n",
    "        \n",
    "     "
   ]
  },
  {
   "cell_type": "code",
   "execution_count": 152,
   "id": "8f7c1724-fcc1-48bb-bbb7-066ae54620fa",
   "metadata": {},
   "outputs": [
    {
     "data": {
      "text/plain": [
       "140"
      ]
     },
     "execution_count": 152,
     "metadata": {},
     "output_type": "execute_result"
    }
   ],
   "source": [
    "len(error_val)"
   ]
  },
  {
   "cell_type": "code",
   "execution_count": 168,
   "id": "16d68d4d-7c80-402a-b48c-98e081450e60",
   "metadata": {},
   "outputs": [
    {
     "data": {
      "text/plain": [
       "(44, 109, 89)"
      ]
     },
     "execution_count": 168,
     "metadata": {},
     "output_type": "execute_result"
    }
   ],
   "source": [
    "image_arr.shape"
   ]
  },
  {
   "cell_type": "code",
   "execution_count": null,
   "id": "0207db6d-4918-4207-9866-e479b90deae8",
   "metadata": {},
   "outputs": [],
   "source": []
  }
 ],
 "metadata": {
  "kernelspec": {
   "display_name": "Python 3 (ipykernel)",
   "language": "python",
   "name": "python3"
  },
  "language_info": {
   "codemirror_mode": {
    "name": "ipython",
    "version": 3
   },
   "file_extension": ".py",
   "mimetype": "text/x-python",
   "name": "python",
   "nbconvert_exporter": "python",
   "pygments_lexer": "ipython3",
   "version": "3.9.13"
  }
 },
 "nbformat": 4,
 "nbformat_minor": 5
}
