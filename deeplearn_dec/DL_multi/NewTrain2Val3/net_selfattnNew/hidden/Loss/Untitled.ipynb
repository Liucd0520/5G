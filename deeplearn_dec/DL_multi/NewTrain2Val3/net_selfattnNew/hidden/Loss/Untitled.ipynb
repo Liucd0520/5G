{
 "cells": [
  {
   "cell_type": "code",
   "execution_count": 7,
   "id": "583d18fa-58b5-4422-a324-0cabd103869e",
   "metadata": {},
   "outputs": [],
   "source": [
    "import torch\n",
    "import torch.nn as nn\n",
    "import torch.nn.functional as F\n",
    "\n",
    "class FocalLoss(nn.Module):\n",
    "    def __init__(self, alpha=1, gamma=2, reduction='mean'):\n",
    "        super(FocalLoss, self).__init__()\n",
    "        self.alpha = alpha\n",
    "        self.gamma = gamma\n",
    "        self.reduction = reduction\n",
    "\n",
    "    def forward(self, inputs, targets):\n",
    "        ce_loss = F.cross_entropy(inputs, targets, reduction='none')\n",
    "        pt = torch.exp(-ce_loss)\n",
    "        focal_loss = self.alpha * (1 - pt) ** self.gamma * ce_loss\n",
    "\n",
    "        if self.reduction == 'mean':\n",
    "            return focal_loss.mean()\n",
    "        elif self.reduction == 'sum':\n",
    "            return focal_loss.sum()\n",
    "        else:\n",
    "            return focal_loss\n",
    "\n"
   ]
  },
  {
   "cell_type": "code",
   "execution_count": 8,
   "id": "9fc35ffa-f8d4-4587-b8f7-41d68e9e4780",
   "metadata": {},
   "outputs": [],
   "source": [
    "pred = torch.randn(4, 2)  # batch, channel, x, y, z\n",
    "y = torch.LongTensor([1, 1, 0, 1])\n"
   ]
  },
  {
   "cell_type": "code",
   "execution_count": 9,
   "id": "d4f1761c-fb4b-4122-ab10-58fb906d9a35",
   "metadata": {},
   "outputs": [
    {
     "data": {
      "text/plain": [
       "(tensor(0.7236), tensor(0.7236))"
      ]
     },
     "execution_count": 9,
     "metadata": {},
     "output_type": "execute_result"
    }
   ],
   "source": [
    "floss = FocalLoss()\n",
    "celoss = torch.nn.CrossEntropyLoss()\n",
    "floss(pred, y), celoss(pred, y)"
   ]
  },
  {
   "cell_type": "code",
   "execution_count": null,
   "id": "79f9a2a2-1f65-4824-9b3e-4af067b7f1f4",
   "metadata": {},
   "outputs": [],
   "source": []
  }
 ],
 "metadata": {
  "kernelspec": {
   "display_name": "Python 3 (ipykernel)",
   "language": "python",
   "name": "python3"
  },
  "language_info": {
   "codemirror_mode": {
    "name": "ipython",
    "version": 3
   },
   "file_extension": ".py",
   "mimetype": "text/x-python",
   "name": "python",
   "nbconvert_exporter": "python",
   "pygments_lexer": "ipython3",
   "version": "3.9.13"
  }
 },
 "nbformat": 4,
 "nbformat_minor": 5
}
