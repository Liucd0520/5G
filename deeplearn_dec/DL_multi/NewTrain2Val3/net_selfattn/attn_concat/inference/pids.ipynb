{
 "cells": [
  {
   "cell_type": "code",
   "execution_count": 1,
   "id": "f9e56d01-c6ad-466e-b652-bdd89425d891",
   "metadata": {},
   "outputs": [],
   "source": [
    "import os"
   ]
  },
  {
   "cell_type": "code",
   "execution_count": 2,
   "id": "866d776b-ee75-45bc-8606-c4a6330e297a",
   "metadata": {},
   "outputs": [],
   "source": [
    "sd_adcdir = '/app/liucd/deeplearn_dec/DL_dec/data_adc/shandong/Mixed'\n",
    "yizhong_adcdir = '/app/liucd/deeplearn_dec/DL_dec/data_adc/yizhong/Mixed'\n",
    "xian_adcdir = '/app/liucd/deeplearn_dec/DL_dec/data_adc/xian/Mixed'\n"
   ]
  },
  {
   "cell_type": "code",
   "execution_count": null,
   "id": "9f7ebadc-ac9f-4011-ab27-469f89725cef",
   "metadata": {},
   "outputs": [],
   "source": []
  }
 ],
 "metadata": {
  "kernelspec": {
   "display_name": "Python 3 (ipykernel)",
   "language": "python",
   "name": "python3"
  },
  "language_info": {
   "codemirror_mode": {
    "name": "ipython",
    "version": 3
   },
   "file_extension": ".py",
   "mimetype": "text/x-python",
   "name": "python",
   "nbconvert_exporter": "python",
   "pygments_lexer": "ipython3",
   "version": "3.9.13"
  }
 },
 "nbformat": 4,
 "nbformat_minor": 5
}
