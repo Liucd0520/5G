{
 "cells": [
  {
   "cell_type": "code",
   "execution_count": 8,
   "id": "bc4b4e1f-ac0c-49c1-86f0-7f47f0226d8a",
   "metadata": {},
   "outputs": [],
   "source": [
    "import os\n",
    "import SimpleITK as sitk\n",
    "import glob\n",
    "import monai\n",
    "from monai.transforms import (\n",
    "    AsDiscrete,\n",
    "    AsDiscreted,\n",
    "    EnsureChannelFirstd,\n",
    "    Compose,\n",
    "    CropForegroundd,\n",
    "    LoadImaged,\n",
    "    Orientationd,\n",
    "    RandCropByPosNegLabeld,\n",
    "    SaveImaged,\n",
    "    ScaleIntensityRanged,\n",
    "    Spacingd,\n",
    "    AddChanneld,\n",
    "    SpatialPadd,\n",
    "    RandRotate90d,\n",
    "    RandShiftIntensityd,\n",
    "    EnsureTyped,\n",
    "    EnsureType,\n",
    "    MapTransform,\n",
    "    Resized,\n",
    "    Invertd,\n",
    "    ToTensord,\n",
    "    NormalizeIntensityd,\n",
    "    RandFlipd,\n",
    "    Lambdad,\n",
    "    Activations,\n",
    "    AsDiscrete,\n",
    ")\n",
    "from monai.metrics import ROCAUCMetric\n",
    "from monai.data import CacheDataset, ThreadDataLoader,DataLoader, Dataset, decollate_batch,load_decathlon_datalist\n",
    "import torch\n",
    "from monai.utils import first, set_determinism\n",
    "import torch.nn as  nn\n",
    "from torch.nn import Linear,  Softmax\n",
    "import torch.nn.functional as F\n",
    "import pandas as pd\n",
    "from sklearn import metrics\n",
    "from random import seed, shuffle\n",
    "torch.multiprocessing.set_sharing_strategy('file_system')\n"
   ]
  },
  {
   "cell_type": "code",
   "execution_count": 96,
   "id": "5a56a52a-1985-4e0e-ac96-a0af32db887b",
   "metadata": {},
   "outputs": [],
   "source": [
    "model_dir = '/app/liucd/deeplearn_dec/DL_multi/NewTrain2Val3/net_selfattn/attn_concat/cv5/fold5/'"
   ]
  },
  {
   "cell_type": "code",
   "execution_count": 97,
   "id": "6540bf41-8180-40a4-bbf3-75b49376e72c",
   "metadata": {},
   "outputs": [],
   "source": [
    "df_raw = pd.read_csv('/app/liucd/判定_fill_df.csv')\n",
    "df_cli = df_raw[['patient_ID', 'T_stage', 'HER2_status', 'NAC_classification', 'ER_percentage', 'PR_percentage', 'Ki_67']]\n"
   ]
  },
  {
   "cell_type": "code",
   "execution_count": 98,
   "id": "e55791fe-9989-45ab-9259-61ea56362e38",
   "metadata": {},
   "outputs": [
    {
     "name": "stdout",
     "output_type": "stream",
     "text": [
      "{'image_adc': '/app/liucd/deeplearn_dec/DL_dec/data_adc/syf/Mixed/2016_01_13_3657466_ADC2_0000_0.nii.gz', 'image_dce': '/app/liucd/deeplearn_dec/DL_dec/data/syf/Mixed/2016_01_13_3657466_+C2_0000_0.nii.gz', 'clinical': [3.0, 0.0, 2.0, 0.3, 0.0, 0.3], 'label': 0}\n",
      "553 138 691\n"
     ]
    }
   ],
   "source": [
    "\n",
    "\n",
    "syf_adcdir = '/app/liucd/deeplearn_dec/DL_dec/data_adc/syf/Mixed'\n",
    "zy_adcdir = '/app/liucd/deeplearn_dec/DL_dec/data_adc/zunyi/Mixed'\n",
    "\n",
    "syf_dcedir = '/app/liucd/deeplearn_dec/DL_dec/data/syf/Mixed'\n",
    "zy_dcedir = '/app/liucd/deeplearn_dec/DL_dec/data/zunyi/Mixed'\n",
    "\n",
    "train_adcimages = sorted(glob.glob(os.path.join(syf_adcdir,  '*.nii.gz'))) + \\\n",
    "                 sorted(glob.glob(os.path.join(zy_adcdir,  '*.nii.gz')))\n",
    "\n",
    "\n",
    "train_dceimages = sorted(glob.glob(os.path.join(syf_dcedir,  '*.nii.gz'))) + \\\n",
    "                 sorted(glob.glob(os.path.join(zy_dcedir,  '*.nii.gz')))\n",
    "\n",
    "train_clinical = []\n",
    "for file_path in train_adcimages:\n",
    "    p_id = file_path.split('_')[-4]\n",
    "    clinical_data = df_cli[df_cli['patient_ID'] == int(p_id)].values.tolist()[0][1:]\n",
    "    train_clinical.append(clinical_data)\n",
    "\n",
    "\n",
    "train_dict = [{'image_adc': image_adc, 'image_dce': image_dce, 'clinical': clinical,  'label': int(image_adc.split('_')[-1].replace('.nii.gz', ''))}\n",
    "                  for image_adc, image_dce, clinical in zip(train_adcimages,  train_dceimages, train_clinical)]\n",
    "\n",
    "split_num = len(train_dict) // 5\n",
    "seed(123)\n",
    "shuffle(train_dict)\n",
    "# train_dict, val_dict = train_dict[:4*split_num] , train_dict[4*split_num: ]\n",
    "# train_dict, val_dict = train_dict[:3*split_num] + train_dict[4*split_num: ], train_dict[3*split_num: 4*split_num]\n",
    "# train_dict, val_dict = train_dict[:2*split_num] + train_dict[3*split_num: ], train_dict[2*split_num: 3*split_num]\n",
    "# train_dict, val_dict = train_dict[:split_num] + train_dict[2*split_num: ], train_dict[split_num: 2*split_num]\n",
    "train_dict, val_dict = train_dict[split_num: ], train_dict[: split_num]\n",
    "\n",
    "\n",
    "print(val_dict[-1])\n",
    "print(len(train_dict), len(val_dict), len(train_dict + val_dict))\n",
    "\n"
   ]
  },
  {
   "cell_type": "code",
   "execution_count": null,
   "id": "139d7b4a-ea9b-4f15-9a1b-962c31f4210b",
   "metadata": {},
   "outputs": [],
   "source": []
  },
  {
   "cell_type": "code",
   "execution_count": 271,
   "id": "4979ec11-f3ca-4814-8955-7d10c303bb96",
   "metadata": {},
   "outputs": [],
   "source": [
    "val_transforms = Compose(\n",
    "        [\n",
    "            LoadImaged(keys=[\"image_adc\",'image_dce' ]),\n",
    "            EnsureChannelFirstd(keys=[\"image_adc\", 'image_dce']),\n",
    "            Orientationd(keys=[\"image_adc\",'image_dce'], axcodes=\"RAS\"),\n",
    "            Resized(keys=[\"image_adc\"], spatial_size=(64, 64, 16)),\n",
    "            Resized(keys=[\"image_dce\"], spatial_size=(96, 96, 32)),\n",
    "            \n",
    "            NormalizeIntensityd(keys=[\"image_adc\", 'image_dce'], nonzero=True, channel_wise=True),\n",
    "            ToTensord(keys=['image_adc', 'image_dce','clinical', 'label'])\n",
    "        ]\n",
    "    )\n",
    "\n",
    "\n",
    "val_ds = Dataset(data=val_dict, transform=val_transforms)\n",
    "\n",
    "# create a validation data loader\n",
    "val_loader = DataLoader(val_ds, batch_size=12, num_workers=16, pin_memory=True)"
   ]
  },
  {
   "cell_type": "code",
   "execution_count": 272,
   "id": "3bdd74fb-2eaa-4773-8323-8d165c97f7ee",
   "metadata": {},
   "outputs": [],
   "source": [
    "\n",
    "class DoubleTower(nn.Module):\n",
    "    def __init__(self,\n",
    "                 pretrained_dce='',\n",
    "                 pretrained_adc='',\n",
    "                 device = torch.device(\"cuda\"),\n",
    "                 num_classes=2,\n",
    "                 fc_hidden_size = 256\n",
    "                ):\n",
    "        super().__init__()\n",
    "        self.pretrained_dce = pretrained_dce\n",
    "        self.pretrained_adc = pretrained_adc\n",
    "        self.fc_hidden_size = fc_hidden_size\n",
    "        self.num_classes = num_classes\n",
    "        self.device = device\n",
    "\n",
    "        self.model_dce = monai.networks.nets.resnet18(spatial_dims=3, n_input_channels=1, num_classes=2, feed_forward=False).to(self.device)\n",
    "        self.model_adc = monai.networks.nets.resnet18(spatial_dims=3, n_input_channels=1, num_classes=2, feed_forward=False).to(self.device)\n",
    "\n",
    "        if  pretrained_dce != '':\n",
    "            dce_dict = self.model_dce.state_dict()\n",
    "            dce_pretrain = torch.load(self.pretrained_dce, map_location=self.device)\n",
    "            dce_pretrain_dict = {k:v for k, v in dce_pretrain.items() if  k in  dce_dict.keys()}\n",
    "            dce_dict.update(dce_pretrain_dict)\n",
    "            self.model_dce.load_state_dict(dce_dict)\n",
    "\n",
    "        if  pretrained_adc !='':\n",
    "            adc_dict = self.model_adc.state_dict()\n",
    "            adc_pretrain = torch.load(self.pretrained_adc, map_location=self.device)\n",
    "            adc_pretrain_dict = {k:v for k, v in adc_pretrain.items() if  k in  adc_dict.keys()}\n",
    "            adc_dict.update(adc_pretrain_dict)\n",
    "            self.model_adc.load_state_dict(adc_dict)\n",
    "\n",
    "        self.attn = nn.MultiheadAttention(512, num_heads=1, batch_first=True, device=self.device)\n",
    "\n",
    "        # self.Linear1 = Linear(1024 + 6, self.num_classes, device=self.device)\n",
    "        self.Linear1 = Linear(512, self.fc_hidden_size, device=self.device)  # 1024 是 所有下采样特征图globalpool之后拼接的结果\n",
    "        self.Linear2 = Linear(self.fc_hidden_size + 6, self.num_classes, device=self.device)\n",
    "        self.dropout = nn.Dropout(0.2)\n",
    "        \n",
    "    def forward(self, x1, x2, structured_data):  # x 是SegResNet的输入影像矩阵\n",
    "\n",
    "        encode_output1 = self.model_dce(x1)\n",
    "        encode_output2 = self.model_dce(x2)\n",
    "\n",
    "        concatenated = encode_output1 * encode_output2\n",
    "        # print(concatenated[:, 0])\n",
    "        concatenated = concatenated.unsqueeze(1)\n",
    "        concatenated, _ = self.attn(concatenated, concatenated, concatenated)\n",
    "        # print(concatenated[:, 0])\n",
    "        concatenated = concatenated.squeeze(1)\n",
    "        fc1 = F.relu(self.Linear1(concatenated))\n",
    "        # print(fc1[:, 0])\n",
    "        fc1 = self.dropout(fc1)\n",
    "\n",
    "        fc2 = self.Linear2( torch.concat([fc1, structured_data], dim=-1))\n",
    "        return F.log_softmax(fc2, dim=-1)# , concatenated\n"
   ]
  },
  {
   "cell_type": "code",
   "execution_count": 273,
   "id": "66ac717a-912b-4d4b-bafc-d2d8157f52b8",
   "metadata": {},
   "outputs": [
    {
     "data": {
      "text/plain": [
       "<All keys matched successfully>"
      ]
     },
     "execution_count": 273,
     "metadata": {},
     "output_type": "execute_result"
    }
   ],
   "source": [
    "\n",
    "# dce_pretrain_path = ''\n",
    "# adc_pretrain_path = ''\n",
    "\n",
    "device = torch.device(\"cuda:1\" if torch.cuda.is_available() else \"cpu\")\n",
    "model = DoubleTower(device = device)\n",
    "\n",
    "pretrained_path = os.path.join(model_dir, 'best_metric_model_classification3d_dict.pth')\n",
    "model.load_state_dict(torch.load(pretrained_path, map_location=device))\n"
   ]
  },
  {
   "cell_type": "code",
   "execution_count": 274,
   "id": "448fbf2b-d122-46a6-955c-36f35aa3e647",
   "metadata": {},
   "outputs": [],
   "source": [
    "def report_metric(label_list, pred_list):\n",
    "    Cmatrix = metrics.confusion_matrix(label_list, pred_list)\n",
    "    TN = Cmatrix[0, 0]\n",
    "    TP = Cmatrix[1, 1]\n",
    "    FN = Cmatrix[1, 0]\n",
    "    FP = Cmatrix[0, 1]\n",
    "\n",
    "    Acc = (TP+TN) / (TP+TN+FP+FN)\n",
    "    sensitivity = TPR = Recall = TP / (TP+FN)\n",
    "    specificity = TNR =  TN / (FP+TN)\n",
    "    PPV = TP / (TP + FP)\n",
    "    NPV = TN / (TN + FN)\n",
    "    \n",
    "    return Acc, sensitivity, specificity, PPV, NPV"
   ]
  },
  {
   "cell_type": "code",
   "execution_count": 279,
   "id": "0b82db15-bd06-410a-9628-a41ff0429140",
   "metadata": {},
   "outputs": [
    {
     "name": "stdout",
     "output_type": "stream",
     "text": [
      "0.16097225407016738\n",
      "0.35507246376811596\n"
     ]
    }
   ],
   "source": [
    "post_pred = Compose([Activations(softmax=True)])\n",
    "post_label = Compose([AsDiscrete(to_onehot=2)])\n",
    "\n",
    "auc_metric = ROCAUCMetric()\n",
    "\n",
    "prob_list = []\n",
    "label_list = []\n",
    "\n",
    "model.eval()\n",
    "with torch.no_grad():\n",
    "    y_pred = torch.tensor([], dtype=torch.float32, device=device)\n",
    "    y = torch.tensor([], dtype=torch.long, device=device)\n",
    "\n",
    "    for val_data in val_loader:\n",
    "\n",
    "        val_dce, val_adc, val_clinical, val_labels = val_data[\"image_dce\"].to(device),val_data[\"image_adc\"].to(device), val_data[\"clinical\"].to(device), val_data[\"label\"].to(device)\n",
    "        val_output = model(val_dce, val_adc, val_clinical)\n",
    "        # print(val_output.argmax(dim=1).item(), val_labels.item())\n",
    "        \n",
    "        # prob_list.append(post_pred(val_output[0])[1].item())  # [0] 是由于设置batch=1 [1] 是是取预测类别中的1类别\n",
    "        # label_list.append(val_labels.item())\n",
    "        \n",
    "        # monai\n",
    "        y_pred = torch.cat([y_pred, val_output], dim=0)\n",
    "        y = torch.cat([y, val_labels], dim=0)\n",
    "        \n",
    "        y_onehot = [post_label(i) for i in decollate_batch(y, detach=False)]\n",
    "        y_pred_act = [post_pred(i) for i in decollate_batch(y_pred)]\n",
    "\n",
    "# # sklearn\n",
    "# pred_list = [round(i) for i in prob_list]\n",
    "# Acc, sensitivity, specificity, PPV, NPV = report_metric(label_list, pred_list)\n",
    "# print('Accuray:', Acc)\n",
    "# # print('SEN/SPE:', sensitivity, specificity)\n",
    "# # print('PPV/NPV: ', PPV, NPV)\n",
    "\n",
    "# fpr, tpr, thresholds = metrics.roc_curve(label_list, prob_list, pos_label=1)\n",
    "# print(metrics.auc(fpr, tpr))\n",
    "\n",
    "# monai\n",
    "auc_metric(y_pred_act, y_onehot)\n",
    "print(auc_metric.aggregate())\n",
    "\n",
    "acc_value = torch.eq(y_pred.argmax(dim=1), y)\n",
    "acc_metric = acc_value.sum().item() / len(acc_value)\n",
    "print(acc_metric)"
   ]
  },
  {
   "cell_type": "code",
   "execution_count": null,
   "id": "5a2652aa-9906-44fb-9acd-fcad1d71e79d",
   "metadata": {},
   "outputs": [],
   "source": [
    "fold1 0.7266187050359713  0.8215419501133786\n",
    "fold2 0.8405797101449275  0.8845878136200717  # 0.82 0.91 for batch_size=8\n",
    "fold3 0.7681159420289855  0.8275462962962963\n",
    "fold4 0.7681159420289855  0.854631507775524\n",
    "fold5 0.7463768115942029  0.8436138500343958"
   ]
  },
  {
   "cell_type": "code",
   "execution_count": null,
   "id": "b18e2412-ddc2-42a6-8377-f7f8838780c1",
   "metadata": {},
   "outputs": [],
   "source": []
  },
  {
   "cell_type": "code",
   "execution_count": 218,
   "id": "5d07b6b3-5488-447c-b362-284e47adfbea",
   "metadata": {},
   "outputs": [
    {
     "name": "stdout",
     "output_type": "stream",
     "text": [
      "tensor([0.5930, 0.6049], device='cuda:1')\n",
      "tensor([0.6616, 0.6623], device='cuda:1')\n",
      "tensor([0., 0.], device='cuda:1')\n"
     ]
    }
   ],
   "source": [
    "model.eval()\n",
    "with torch.no_grad():\n",
    "    for val_data in val_loader:\n",
    "        val_dce, val_adc, val_clinical, val_labels = val_data[\"image_dce\"].to(device),val_data[\"image_adc\"].to(device), val_data[\"clinical\"].to(device), val_data[\"label\"].to(device)\n",
    "        # print(val_data['image_dce_meta_dict']['filename_or_obj'][0])\n",
    "        \n",
    "        val_output = model(val_dce, val_adc, val_clinical)\n",
    "        # print(val_output)\n",
    "        break"
   ]
  },
  {
   "cell_type": "code",
   "execution_count": null,
   "id": "cafa63ed-e48a-4d2b-94e2-a2a708dfe0ff",
   "metadata": {},
   "outputs": [],
   "source": [
    "tensor([0.5930, 0.6049], device='cuda:1')\n",
    "tensor([0.6616, 0.6623], device='cuda:1')\n",
    "tensor([0., 0.], device='cuda:1')"
   ]
  },
  {
   "cell_type": "code",
   "execution_count": null,
   "id": "67d21020-3e67-4516-aa89-99cfcf5201f4",
   "metadata": {},
   "outputs": [],
   "source": []
  },
  {
   "cell_type": "code",
   "execution_count": null,
   "id": "1da42cf0-b155-4531-bfcb-08100f197c76",
   "metadata": {},
   "outputs": [],
   "source": []
  },
  {
   "cell_type": "code",
   "execution_count": null,
   "id": "0e95fd26-1834-4cb0-9c43-fa9c2742fe85",
   "metadata": {},
   "outputs": [],
   "source": []
  },
  {
   "cell_type": "code",
   "execution_count": null,
   "id": "cc90cccd-5aec-4df4-99ec-9c71743ef842",
   "metadata": {},
   "outputs": [],
   "source": []
  },
  {
   "cell_type": "code",
   "execution_count": 153,
   "id": "910fe8ac-5103-4d22-81f7-03e3bcb0f3ed",
   "metadata": {},
   "outputs": [],
   "source": [
    "X1, X2, Encode_output1, Encode_output2 = x1, x2, encode_output1, encode_output2"
   ]
  },
  {
   "cell_type": "code",
   "execution_count": 160,
   "id": "f22d7224-0135-4cf7-9b19-32cbfcdf58a6",
   "metadata": {},
   "outputs": [
    {
     "data": {
      "text/plain": [
       "tensor(True, device='cuda:1')"
      ]
     },
     "execution_count": 160,
     "metadata": {},
     "output_type": "execute_result"
    }
   ],
   "source": [
    "(X1[0, 0, ...] == x1[0, 0, ...]).all()"
   ]
  },
  {
   "cell_type": "code",
   "execution_count": 167,
   "id": "9df5b2af-665c-469f-8c9b-574b1e128a67",
   "metadata": {},
   "outputs": [
    {
     "data": {
      "text/plain": [
       "tensor(True, device='cuda:1')"
      ]
     },
     "execution_count": 167,
     "metadata": {},
     "output_type": "execute_result"
    }
   ],
   "source": [
    "(Encode_output2[0, :] == encode_output2[0, :]).all()"
   ]
  },
  {
   "cell_type": "code",
   "execution_count": 174,
   "id": "34bc82d5-25ba-4214-ba76-53085b57fd52",
   "metadata": {},
   "outputs": [],
   "source": [
    "Concatenated = concatenated"
   ]
  },
  {
   "cell_type": "code",
   "execution_count": 178,
   "id": "abfabeb0-c873-430e-a927-6bfe621d089e",
   "metadata": {},
   "outputs": [
    {
     "data": {
      "text/plain": [
       "tensor(False, device='cuda:1')"
      ]
     },
     "execution_count": 178,
     "metadata": {},
     "output_type": "execute_result"
    }
   ],
   "source": [
    "(Concatenated[0, :] == concatenated[0, :]).all()"
   ]
  },
  {
   "cell_type": "code",
   "execution_count": null,
   "id": "67443a56-eb5d-4472-847c-a4da63abff83",
   "metadata": {},
   "outputs": [],
   "source": []
  },
  {
   "cell_type": "code",
   "execution_count": 263,
   "id": "eba4a4a2-8219-4b7b-be2f-7ddb119c5312",
   "metadata": {},
   "outputs": [
    {
     "name": "stdout",
     "output_type": "stream",
     "text": [
      "torch.Size([2, 4])\n"
     ]
    }
   ],
   "source": [
    "x = torch.tensor([[1, 2, 3, 4], [3, 3, 3, 3]])\n",
    "print(x.shape)\n",
    "y = x.unsqueeze(1)"
   ]
  },
  {
   "cell_type": "code",
   "execution_count": 266,
   "id": "cd9b84ad-6b4d-4766-aaa4-824065e49007",
   "metadata": {},
   "outputs": [
    {
     "data": {
      "text/plain": [
       "torch.Size([2, 4])"
      ]
     },
     "execution_count": 266,
     "metadata": {},
     "output_type": "execute_result"
    }
   ],
   "source": [
    "y.squeeze(1).shape"
   ]
  },
  {
   "cell_type": "code",
   "execution_count": null,
   "id": "0a20f50f-e0d5-4f38-916c-b3121bad2c40",
   "metadata": {},
   "outputs": [],
   "source": []
  }
 ],
 "metadata": {
  "kernelspec": {
   "display_name": "Python 3 (ipykernel)",
   "language": "python",
   "name": "python3"
  },
  "language_info": {
   "codemirror_mode": {
    "name": "ipython",
    "version": 3
   },
   "file_extension": ".py",
   "mimetype": "text/x-python",
   "name": "python",
   "nbconvert_exporter": "python",
   "pygments_lexer": "ipython3",
   "version": "3.9.13"
  }
 },
 "nbformat": 4,
 "nbformat_minor": 5
}
