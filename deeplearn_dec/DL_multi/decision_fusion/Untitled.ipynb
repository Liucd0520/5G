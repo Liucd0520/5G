{
 "cells": [
  {
   "cell_type": "code",
   "execution_count": 1,
   "id": "c2dc16d3-aa6b-44e9-a8ed-3c2447c7944f",
   "metadata": {},
   "outputs": [],
   "source": [
    "import os\n",
    "import SimpleITK as sitk\n",
    "import glob\n",
    "import monai\n",
    "from monai.transforms import (\n",
    "    AsDiscrete,\n",
    "    AsDiscreted,\n",
    "    EnsureChannelFirstd,\n",
    "    Compose,\n",
    "    CropForegroundd,\n",
    "    LoadImaged,\n",
    "    Orientationd,\n",
    "    RandCropByPosNegLabeld,\n",
    "    SaveImaged,\n",
    "    ScaleIntensityRanged,\n",
    "    Spacingd,\n",
    "    AddChanneld,\n",
    "    SpatialPadd,\n",
    "    RandRotate90d,\n",
    "    RandShiftIntensityd,\n",
    "    EnsureTyped,\n",
    "    EnsureType,\n",
    "    MapTransform,\n",
    "    Resized,\n",
    "    Invertd,\n",
    "    ToTensord,\n",
    "    NormalizeIntensityd,\n",
    "    RandFlipd,\n",
    "    Lambdad,\n",
    "    Activations,\n",
    "    AsDiscrete,\n",
    ")\n",
    "from monai.metrics import ROCAUCMetric\n",
    "from monai.data import CacheDataset, ThreadDataLoader,DataLoader, Dataset, decollate_batch,load_decathlon_datalist\n",
    "import torch\n",
    "from monai.utils import first, set_determinism\n",
    "import torch.nn as  nn\n",
    "from torch.nn import Linear,  Softmax\n",
    "import torch.nn.functional as F"
   ]
  },
  {
   "cell_type": "code",
   "execution_count": 4,
   "id": "66c6cc55-50ac-45e2-8436-ea0fc129991b",
   "metadata": {},
   "outputs": [],
   "source": [
    "torch.multiprocessing.set_sharing_strategy('file_system')\n",
    "set_determinism(seed=1)\n"
   ]
  },
  {
   "cell_type": "code",
   "execution_count": 5,
   "id": "a758f2c6-4b38-4bf5-9487-610417c99d9d",
   "metadata": {},
   "outputs": [],
   "source": [
    "import pandas as pd\n",
    "df_raw = pd.read_csv('判定_fill_df.csv')\n",
    "df_cli = df_raw[['patient_ID', 'T_stage', 'HER2_status', 'NAC_classification', 'ER_percentage', 'PR_percentage', 'Ki_67']]\n"
   ]
  },
  {
   "cell_type": "code",
   "execution_count": 6,
   "id": "20316b24-7c56-4385-a4ce-cd4f0fefe7ef",
   "metadata": {},
   "outputs": [
    {
     "name": "stdout",
     "output_type": "stream",
     "text": [
      "{'image_adc': '/app/liucd/deeplearn_dec/DL_dec/data_adc/syf_stage2/Mixed/2021_12_20_7043687_ADC2_0000_0.nii.gz', 'image_dce': '/app/liucd/deeplearn_dec/DL_dec/data/syf_stage2/Mixed/2021_12_20_7043687_+C2_0000_0.nii.gz', 'clinical': [4.0, 1.0, 2.0, 0.8, 0.05, 0.25], 'label': 0}\n"
     ]
    },
    {
     "data": {
      "text/plain": [
       "(354, 302, 656)"
      ]
     },
     "execution_count": 6,
     "metadata": {},
     "output_type": "execute_result"
    }
   ],
   "source": [
    "syf1_adcdir = '/app/liucd/deeplearn_dec/DL_dec/data_adc/syf_stage1/Mixed'\n",
    "syf2_adcdir = '/app/liucd/deeplearn_dec/DL_dec/data_adc/syf_stage2/Mixed'\n",
    "zy_adcdir = '/app/liucd/deeplearn_dec/DL_dec/data_adc/zunyi/Mixed'\n",
    "\n",
    "syf1_dcedir = '/app/liucd/deeplearn_dec/DL_dec/data/syf_stage1/Mixed'\n",
    "syf2_dcedir = '/app/liucd/deeplearn_dec/DL_dec/data/syf_stage2/Mixed'\n",
    "zy_dcedir = '/app/liucd/deeplearn_dec/DL_dec/data/zunyi/Mixed'\n",
    "\n",
    "train_adcimages = sorted(glob.glob(os.path.join(syf1_adcdir,  '*.nii.gz'))) + \\\n",
    "                 sorted(glob.glob(os.path.join(syf2_adcdir,  '*.nii.gz'))) \n",
    "\n",
    "train_dceimages = sorted(glob.glob(os.path.join(syf1_dcedir,  '*.nii.gz'))) + \\\n",
    "                 sorted(glob.glob(os.path.join(syf2_dcedir,  '*.nii.gz'))) \n",
    "\n",
    "val_adcimages = sorted(glob.glob(os.path.join(zy_adcdir,  '*.nii.gz'))) \n",
    "val_dceimages =  sorted(glob.glob(os.path.join(zy_dcedir,  '*.nii.gz')))\n",
    "\n",
    "\n",
    "train_clinical = []\n",
    "for file_path in train_adcimages:\n",
    "    p_id = file_path.split('_')[-4]\n",
    "    clinical_data = df_cli[df_cli['patient_ID'] == int(p_id)].values.tolist()[0][1:]\n",
    "    train_clinical.append(clinical_data)\n",
    "\n",
    "val_clinical = []\n",
    "for file_path in val_adcimages:\n",
    "    p_id = file_path.split('_')[-4]\n",
    "    clinical_data = df_cli[df_cli['patient_ID'] == int(p_id)].values.tolist()[0][1:]\n",
    "    val_clinical.append(clinical_data)\n",
    "    \n",
    "\n",
    "train_dict = [{'image_adc': image_adc, 'image_dce': image_dce, 'clinical': clinical,  'label': int(image_adc.split('_')[-1].replace('.nii.gz', ''))} \n",
    "                  for image_adc, image_dce, clinical in zip(train_adcimages,  train_dceimages, train_clinical)]\n",
    "val_dict = [{'image_adc': image_adc, 'image_dce': image_dce, 'clinical': clinical,  'label': int(image_adc.split('_')[-1].replace('.nii.gz', ''))} \n",
    "                  for image_adc, image_dce, clinical in zip(val_adcimages, val_dceimages, val_clinical)]\n",
    "\n",
    "print(train_dict[-1])\n",
    "len(train_dict), len(val_dict), len(train_dict + val_dict)\n"
   ]
  },
  {
   "cell_type": "code",
   "execution_count": 26,
   "id": "780858c0-77aa-44b8-9256-362344eca33e",
   "metadata": {},
   "outputs": [
    {
     "name": "stderr",
     "output_type": "stream",
     "text": [
      "Loading dataset: 100%|███████████████████████████████████████████████████████| 354/354 [01:17<00:00,  4.56it/s]\n",
      "Loading dataset: 100%|███████████████████████████████████████████████████████| 302/302 [01:58<00:00,  2.56it/s]\n"
     ]
    }
   ],
   "source": [
    "\n",
    "val_transforms = Compose(\n",
    "        [\n",
    "            LoadImaged(keys=[\"image_adc\",'image_dce' ]),\n",
    "            EnsureChannelFirstd(keys=[\"image_adc\", 'image_dce']),\n",
    "            Orientationd(keys=[\"image_adc\",'image_dce'], axcodes=\"RAS\"),\n",
    "            Resized(keys=[\"image_adc\"], spatial_size=(64, 64, 16)),\n",
    "            Resized(keys=[\"image_dce\"], spatial_size=(96, 96, 32)),\n",
    "            \n",
    "            NormalizeIntensityd(keys=[\"image_adc\", 'image_dce'], nonzero=True, channel_wise=True),\n",
    "            ToTensord(keys=['image_adc', 'image_dce','clinical', 'label'])\n",
    "        ]\n",
    "    )\n",
    "\n",
    "\n",
    "train_ds = CacheDataset(data=train_dict, transform=val_transforms, cache_rate=1.0, num_workers=24)\n",
    "val_ds = CacheDataset(data=val_dict, transform=val_transforms, cache_rate=1.0, num_workers=24)"
   ]
  },
  {
   "cell_type": "code",
   "execution_count": 8,
   "id": "4c3ed053-e8e9-4ee5-b9cd-fe46cf58321d",
   "metadata": {},
   "outputs": [],
   "source": [
    "# create a training data loader\n",
    "train_loader = DataLoader(train_ds, batch_size=12, num_workers=16, pin_memory=True)\n",
    "\n",
    "# create a validation data loader\n",
    "val_loader = DataLoader(val_ds, batch_size=12, num_workers=16, pin_memory=True)"
   ]
  },
  {
   "cell_type": "code",
   "execution_count": 9,
   "id": "71183d70-0d42-4f5d-9ffc-54bbd521ccc2",
   "metadata": {},
   "outputs": [],
   "source": [
    "\n",
    "# device = torch.device(\"cuda:0\" if torch.cuda.is_available() else \"cpu\")\n",
    "\n",
    "class DoubleTower(nn.Module):\n",
    "    def __init__(self, \n",
    "                 pretrained_dce='', \n",
    "                 pretrained_adc='', \n",
    "                 device = torch.device(\"cuda\"),\n",
    "                 num_classes=2, \n",
    "                 fc_hidden_size = 128\n",
    "                ):\n",
    "        super().__init__()\n",
    "        self.pretrained_dce = pretrained_dce\n",
    "        self.pretrained_adc = pretrained_adc\n",
    "        self.fc_hidden_size = fc_hidden_size\n",
    "        self.num_classes = num_classes\n",
    "        self.device = device\n",
    "        \n",
    "        self.model_dce = monai.networks.nets.resnet34(spatial_dims=3, n_input_channels=1, num_classes=2, feed_forward=False).to(self.device)\n",
    "        self.model_adc = monai.networks.nets.resnet34(spatial_dims=3, n_input_channels=1, num_classes=2, feed_forward=False).to(self.device)\n",
    "        \n",
    "        if  pretrained_dce != '':\n",
    "            dce_dict = self.model_dce.state_dict()\n",
    "            dce_pretrain = torch.load(self.pretrained_dce, map_location=self.device)\n",
    "            dce_pretrain_dict = {k:v for k, v in dce_pretrain.items() if  k in  dce_dict.keys()}\n",
    "            dce_dict.update(dce_pretrain_dict)\n",
    "            self.model_dce.load_state_dict(dce_dict)\n",
    "\n",
    "        if  pretrained_adc !='':\n",
    "            adc_dict = self.model_adc.state_dict()\n",
    "            adc_pretrain = torch.load(self.pretrained_adc, map_location=self.device)\n",
    "            adc_pretrain_dict = {k:v for k, v in adc_pretrain.items() if  k in  adc_dict.keys()}\n",
    "            adc_dict.update(adc_pretrain_dict)\n",
    "            self.model_adc.load_state_dict(adc_dict)\n",
    "        \n",
    "        \n",
    "        # self.Linear1 = Linear(1024 + 6, self.num_classes, device=self.device) \n",
    "        self.Linear1 = Linear(1024, self.fc_hidden_size, device=self.device)  # 1024 是 所有下采样特征图globalpool之后拼接的结果        \n",
    "        self.Linear2 = Linear(self.fc_hidden_size + 6, self.num_classes, device=self.device)  \n",
    "        \n",
    "    \n",
    "    def forward(self, x1, x2, structured_data):  # x 是SegResNet的输入影像矩阵\n",
    "        \n",
    "        encode_output1 = self.model_dce(x1)\n",
    "        encode_output2 = self.model_dce(x2)\n",
    "        \n",
    "        concatenated = torch.concat([encode_output1, encode_output2], dim=-1)\n",
    "        \n",
    "        fc1 = F.relu(self.Linear1(concatenated)) \n",
    "        fc1 = nn.Dropout(0.2)(fc1)\n",
    "       \n",
    "        fc2 = self.Linear2( torch.concat([fc1, structured_data], dim=-1))\n",
    "        return F.log_softmax(fc2, dim=-1)\n",
    "\n"
   ]
  },
  {
   "cell_type": "code",
   "execution_count": 21,
   "id": "1e95957e-3140-4171-bedd-95838becfa12",
   "metadata": {},
   "outputs": [
    {
     "data": {
      "text/plain": [
       "<All keys matched successfully>"
      ]
     },
     "execution_count": 21,
     "metadata": {},
     "output_type": "execute_result"
    }
   ],
   "source": [
    "\n",
    "dce_pretrain_path = ''\n",
    "adc_pretrain_path = ''\n",
    "\n",
    "device = torch.device(\"cuda:1\" if torch.cuda.is_available() else \"cpu\")\n",
    "model = DoubleTower(dce_pretrain_path, adc_pretrain_path, device = device)\n",
    "pretrained_path = './DataEnhc/best_metric_model_classification3d_dict.pth'\n",
    "model.load_state_dict(torch.load(pretrained_path, map_location=device))\n"
   ]
  },
  {
   "cell_type": "code",
   "execution_count": 25,
   "id": "2bdfac5d-cacf-49e9-b7ac-09e68276a437",
   "metadata": {},
   "outputs": [
    {
     "name": "stdout",
     "output_type": "stream",
     "text": [
      "current epoch: 0 current accuracy: 0.6299 current AUC: 0.8564 best accuracy: 0.0000 at epoch 0\n",
      "tensor([[-6.8771e-02, -2.7112e+00],\n",
      "        [-1.0897e-02, -4.5247e+00],\n",
      "        [-2.2664e-01, -1.5956e+00],\n",
      "        [-1.5230e-01, -1.9571e+00],\n",
      "        [-1.1659e-02, -4.4575e+00],\n",
      "        [-1.8716e-05, -1.0887e+01]], device='cuda:1')\n"
     ]
    }
   ],
   "source": [
    "post_pred = Compose([Activations(softmax=True)])\n",
    "post_label = Compose([AsDiscrete(to_onehot=2)])\n",
    "loss_function = torch.nn.CrossEntropyLoss()\n",
    "val_loss = 0\n",
    "auc_metric = ROCAUCMetric()\n",
    "\n",
    "\n",
    "model.eval()\n",
    "with torch.no_grad():\n",
    "    y_pred = torch.tensor([], dtype=torch.float32, device=device)\n",
    "    y = torch.tensor([], dtype=torch.long, device=device)\n",
    "\n",
    "    step2 = 0\n",
    "    for val_data in train_loader:\n",
    "        step2 += 1\n",
    "        val_dce, val_adc, val_clinical, val_labels = val_data[\"image_dce\"].to(device),val_data[\"image_adc\"].to(device), val_data[\"clinical\"].to(device), val_data[\"label\"].to(device)\n",
    "        \n",
    "        val_output = model(val_dce, val_adc, val_clinical)\n",
    "        \n",
    "        y_pred = torch.cat([y_pred, val_output], dim=0)\n",
    "        y = torch.cat([y, val_labels], dim=0)\n",
    "        val_loss += loss_function(val_output, val_labels).item()\n",
    "\n",
    "    val_loss /= step2\n",
    "\n",
    "    acc_value = torch.eq(y_pred.argmax(dim=1), y)\n",
    "    acc_metric = acc_value.sum().item() / len(acc_value)\n",
    "    y_onehot = [post_label(i) for i in decollate_batch(y, detach=False)]\n",
    "    y_pred_act = [post_pred(i) for i in decollate_batch(y_pred)]\n",
    "    auc_metric(y_pred_act, y_onehot)\n",
    "    auc_result = auc_metric.aggregate()\n",
    "    auc_metric.reset()\n",
    "    del y_pred_act, y_onehot\n",
    "    \n",
    "    print(\n",
    "        \"current epoch: {} current accuracy: {:.4f} current AUC: {:.4f} best accuracy: {:.4f} at epoch {}\".format(\n",
    "            0, acc_metric, auc_result, 0, 0\n",
    "        )\n",
    "    )\n",
    "    print(val_output)\n"
   ]
  },
  {
   "cell_type": "code",
   "execution_count": null,
   "id": "e87c4911-dd5d-4f72-94d3-4c179e907e8e",
   "metadata": {},
   "outputs": [],
   "source": []
  }
 ],
 "metadata": {
  "kernelspec": {
   "display_name": "Python 3 (ipykernel)",
   "language": "python",
   "name": "python3"
  },
  "language_info": {
   "codemirror_mode": {
    "name": "ipython",
    "version": 3
   },
   "file_extension": ".py",
   "mimetype": "text/x-python",
   "name": "python",
   "nbconvert_exporter": "python",
   "pygments_lexer": "ipython3",
   "version": "3.9.13"
  }
 },
 "nbformat": 4,
 "nbformat_minor": 5
}
