{
 "cells": [
  {
   "cell_type": "code",
   "execution_count": 1,
   "id": "c0df1beb-5878-48df-9cf4-3423be0b64f8",
   "metadata": {},
   "outputs": [],
   "source": [
    "import os\n",
    "import SimpleITK as sitk\n",
    "import glob\n"
   ]
  },
  {
   "cell_type": "code",
   "execution_count": 7,
   "id": "0c585d9b-6db7-43ae-a9a8-cabd758a2026",
   "metadata": {},
   "outputs": [],
   "source": [
    "##### base_dir = '/app/liucd/CODE/zunyi/data/data_299+33/'  # 遵义都是自己生成的ADC，所以不需要修改\n",
    "base_dir = '/app/liucd/CODE/syf/data/data_dec/stage_2/'\n",
    "# base_dir = '/app/liucd/CODE/sd/data/data_dec/'\n",
    "# base_dir = '/app/liucd/CODE/xian/data/data_dec/'\n"
   ]
  },
  {
   "cell_type": "code",
   "execution_count": 21,
   "id": "0046db21-1c92-4a23-ba74-70bf4cec26d2",
   "metadata": {},
   "outputs": [],
   "source": [
    "def create_path(_path):\n",
    "    if not os.path.exists(_path):\n",
    "        os.mkdir(_path)\n"
   ]
  },
  {
   "cell_type": "code",
   "execution_count": 101,
   "id": "46643458-7ba6-4430-b029-d5bdc7b41fa5",
   "metadata": {},
   "outputs": [
    {
     "data": {
      "text/plain": [
       "'/app/liucd/deeplearn_dec/radimocs'"
      ]
     },
     "execution_count": 101,
     "metadata": {},
     "output_type": "execute_result"
    }
   ],
   "source": [
    "pwd\n"
   ]
  },
  {
   "cell_type": "code",
   "execution_count": 5,
   "id": "d3b179ef-3031-4753-9761-291d190af3ad",
   "metadata": {},
   "outputs": [
    {
     "data": {
      "text/plain": [
       "335"
      ]
     },
     "execution_count": 5,
     "metadata": {},
     "output_type": "execute_result"
    }
   ],
   "source": [
    "# 运行两次，一个是ADC，一次是ADC2 ，都要修改;DWI 不用修改，都是以DWI为参考\n",
    "DWI_paths = sorted(glob.glob(os.path.join(base_dir, 'DWI', '*.nii.gz')))\n",
    "ADC_paths = sorted(glob.glob(os.path.join(base_dir, 'ADC2', '*.nii.gz')))\n",
    "len(ADC_paths)"
   ]
  },
  {
   "cell_type": "code",
   "execution_count": 6,
   "id": "4c9a8e27-3a23-46dc-9eb0-7728b3ac6560",
   "metadata": {},
   "outputs": [],
   "source": [
    "for DWI_path, ADC_path in zip(DWI_paths, ADC_paths):\n",
    "    # print(DWI_path.split('/')[-1].split('_')[-3] == ADC_path.split('/')[-1].split('_')[-3])\n",
    "    # print(ADC_path.split('/')[-1])\n",
    "    DWI_image = sitk.ReadImage(DWI_path)\n",
    "    ADC_image = sitk.ReadImage(ADC_path)\n",
    "    if  ADC_image.GetSpacing() != (1.0, 1.0, 1.0):\n",
    "        continue\n",
    "    print('--------')\n",
    "    ADC_image.SetSpacing(DWI_image.GetSpacing())\n",
    "    ADC_image.SetOrigin(DWI_image.GetOrigin())\n",
    "    ADC_image.SetDirection(DWI_image.GetDirection())\n",
    "    \n",
    "    sitk.WriteImage(ADC_image, ADC_path)\n"
   ]
  },
  {
   "cell_type": "code",
   "execution_count": 143,
   "id": "9d8ced73-3211-4e54-bc31-26fb53252693",
   "metadata": {},
   "outputs": [
    {
     "name": "stdout",
     "output_type": "stream",
     "text": [
      "101_1716819_+C.nii.gz\n",
      "161_1661234_+C.nii.gz\n",
      "207_1594262_+C.nii.gz\n",
      "210_1589931_+C.nii.gz\n",
      "221_1526009_+C.nii.gz\n"
     ]
    }
   ],
   "source": [
    "\n",
    "# DWI_paths = sorted(glob.glob(os.path.join(base_dir, 'DCE', '*.nii.gz')))\n",
    "# ADC_paths = sorted(glob.glob(os.path.join(base_dir, 'DCE_label', '*.nii.gz')))\n",
    "\n",
    "# for DWI_path, ADC_path in zip(DWI_paths, ADC_paths):\n",
    "#     # print(DWI_path.split('/')[-1].split('_')[-3] == ADC_path.split('/')[-1].split('_')[-3])\n",
    "    \n",
    "#     DWI_image = sitk.ReadImage(DWI_path)\n",
    "#     ADC_image = sitk.ReadImage(ADC_path)\n",
    "    \n",
    "#     if  abs(ADC_image.GetSpacing()[-1] - DWI_image.GetSpacing()[-1]) < 0.05:\n",
    "#         continue\n",
    "#     print(ADC_path.split('/')[-1])\n",
    "#     ADC_image.SetSpacing(DWI_image.GetSpacing())\n",
    "#     ADC_image.SetOrigin(DWI_image.GetOrigin())\n",
    "#     ADC_image.SetDirection(DWI_image.GetDirection())\n",
    "    \n",
    "#     sitk.WriteImage(ADC_image, ADC_path)\n"
   ]
  },
  {
   "cell_type": "code",
   "execution_count": 37,
   "id": "6666dc21-44c9-4d5b-b7f3-04385008c4c2",
   "metadata": {},
   "outputs": [
    {
     "data": {
      "text/plain": [
       "'/app/liucd/CODE/syf/data/data_dec/stage_2/ADC/2013_11_08_2787587_ADC_0000.nii.gz'"
      ]
     },
     "execution_count": 37,
     "metadata": {},
     "output_type": "execute_result"
    }
   ],
   "source": [
    "ADC_path"
   ]
  },
  {
   "cell_type": "code",
   "execution_count": null,
   "id": "9b755a1c-3e0a-44fd-a3e8-49b1c3dd84e3",
   "metadata": {},
   "outputs": [
    {
     "data": {
      "text/plain": [
       "3"
      ]
     },
     "execution_count": 126,
     "metadata": {},
     "output_type": "execute_result"
    }
   ],
   "source": []
  }
 ],
 "metadata": {
  "kernelspec": {
   "display_name": "Python 3 (ipykernel)",
   "language": "python",
   "name": "python3"
  },
  "language_info": {
   "codemirror_mode": {
    "name": "ipython",
    "version": 3
   },
   "file_extension": ".py",
   "mimetype": "text/x-python",
   "name": "python",
   "nbconvert_exporter": "python",
   "pygments_lexer": "ipython3",
   "version": "3.9.13"
  }
 },
 "nbformat": 4,
 "nbformat_minor": 5
}
