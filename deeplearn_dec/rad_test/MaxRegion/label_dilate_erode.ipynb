{
 "cells": [
  {
   "cell_type": "code",
   "execution_count": 4,
   "id": "70955a94-3587-4de4-b174-dd87178b4638",
   "metadata": {},
   "outputs": [],
   "source": [
    "import SimpleITK as sitk\n",
    "import glob\n",
    "import os"
   ]
  },
  {
   "cell_type": "code",
   "execution_count": 25,
   "id": "ab08f448-a114-4aef-b21a-e2e52d9b2c7c",
   "metadata": {},
   "outputs": [],
   "source": [
    "radius = 3\n"
   ]
  },
  {
   "cell_type": "code",
   "execution_count": 37,
   "id": "d1722dfe-612f-4344-b67b-cd370cb3eb8a",
   "metadata": {},
   "outputs": [],
   "source": [
    "\n",
    "\n",
    "base_dir = '/app/liucd/CODE/zunyi/data/data_299+33/Label_Gen'\n",
    "# base_dir = '/app/liucd/CODE/syf/data/data_dec/stage_2/Label_Gen'\n",
    "\n",
    "images_paths = sorted(glob.glob(os.path.join(base_dir, 'MaxRegion', 'DWI_label', '*nii.gz')))\n",
    "\n",
    "# 读取输入图像\n",
    "for img_path in images_paths:\n",
    "\n",
    "    # print(img_path)\n",
    "    input_image = sitk.ReadImage(img_path)\n",
    "    \n",
    "    # # 形态学膨胀\n",
    "    dilated_image = sitk.BinaryDilate(input_image, (3, 3, 0))  \n",
    "    # dilated_image2 = sitk.DilateObjectMorphology(input_image, (3, 3, 0))  # 该方式与上面的输出结果一致\n",
    "    \n",
    "\n",
    "    # # 形态学腐蚀\n",
    "#     \n",
    "    eroded_image = sitk.ErodeObjectMorphology(input_image, (1, 1, 0))\n",
    "    eroded_image = sitk.BinaryErode(input_image, (1, 1, 0))\n",
    "    assert sitk.GetArrayFromImage(eroded_image).max() > 0\n",
    "    \n",
    "    # # 保存结果图像\n",
    "    # sitk.WriteImage(dilated_image, os.path.join(base_dir, 'Dilate', img_path.split('/')[-1]))\n",
    "    # sitk.WriteImage(dilated_image2, os.path.join(base_dir, 'Dilate2', img_path.split('/')[-1]))\n",
    "    # sitk.WriteImage(eroded_image,  os.path.join(base_dir,  'Erode', img_path.split('/')[-1]))\n",
    "    "
   ]
  },
  {
   "cell_type": "code",
   "execution_count": null,
   "id": "778d62bb-767a-4ada-ba4e-ae44fa3b1b3f",
   "metadata": {},
   "outputs": [],
   "source": []
  }
 ],
 "metadata": {
  "kernelspec": {
   "display_name": "Python 3 (ipykernel)",
   "language": "python",
   "name": "python3"
  },
  "language_info": {
   "codemirror_mode": {
    "name": "ipython",
    "version": 3
   },
   "file_extension": ".py",
   "mimetype": "text/x-python",
   "name": "python",
   "nbconvert_exporter": "python",
   "pygments_lexer": "ipython3",
   "version": "3.9.13"
  }
 },
 "nbformat": 4,
 "nbformat_minor": 5
}
