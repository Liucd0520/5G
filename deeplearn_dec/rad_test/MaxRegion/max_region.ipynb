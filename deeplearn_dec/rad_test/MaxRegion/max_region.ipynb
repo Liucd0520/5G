{
 "cells": [
  {
   "cell_type": "code",
   "execution_count": 1,
   "id": "b1cfa7d0-17d4-4434-80f0-f8a004794471",
   "metadata": {},
   "outputs": [],
   "source": [
    "import os\n",
    "import SimpleITK as sitk\n",
    "import numpy as np \n",
    "import skimage\n",
    "import matplotlib.pyplot as plt"
   ]
  },
  {
   "cell_type": "code",
   "execution_count": 2,
   "id": "d58afd71-bee7-4265-93f1-4937ba984e0c",
   "metadata": {},
   "outputs": [],
   "source": [
    "def conn_region(seg_path):\n",
    "    seg_image = sitk.ReadImage(seg_path)\n",
    "    seg_arr = sitk.GetArrayFromImage(seg_image)\n",
    "    labels = skimage.measure.label(seg_arr).astype(np.uint8)    #  !!!! 这里label默认是np.int64，会导致SimpleITK-snap打不开，所以要转换为np.unit8\n",
    "                                                               # 但是如果labels.dtype=np.unit8 是不可行的，会导致数组长度翻8倍，\n",
    "                                                              # 具体参考 https://blog.csdn.net/lz0499/article/details/81024731\n",
    "    \n",
    "    return seg_image, labels\n",
    "    "
   ]
  },
  {
   "cell_type": "code",
   "execution_count": 3,
   "id": "edac62ea-998f-4833-a094-0c6bed1a6beb",
   "metadata": {},
   "outputs": [],
   "source": [
    "def areas_filter(labels):\n",
    "    \"\"\"\n",
    "    labels ： 连通域生成的标签，一个连通域是一个值\n",
    "    return labels: 删除小于阈值的标签，可含多个连通域\n",
    "    \"\"\"\n",
    "    region_index, volumn_count  = np.unique(labels, return_counts=True)  # volumn_count : [56535334,    80007,     7763]) \n",
    "    volumn_ratio = volumn_count[1: ] / volumn_count[1: ].max() \n",
    "\n",
    "#     print(volumn_ratio, region_index)\n",
    "    select_ratio_index = np.where(volumn_ratio < threshold_ratio)[0]    # 小于最大连通域1%的不要\n",
    "    select_ereas_index = np.where(volumn_count[1: ] < threshold_ereas)[0]          # 小于1000的不要\n",
    "    select_index = list(set(select_ratio_index).intersection(set(select_ereas_index)))   # 同时满足这两个条件的交集\n",
    "    # print(select_ratio_index, select_ereas_index, select_index)\n",
    "    select_index = np.array(select_index)\n",
    "    for idx in select_index + 1:\n",
    "        labels[labels == idx] = 0\n",
    "    \n",
    "    return labels, select_ratio_index, select_ereas_index, select_index\n",
    "    "
   ]
  },
  {
   "cell_type": "code",
   "execution_count": 4,
   "id": "99edd0ed-bc38-4ccd-801d-e6597b1ee762",
   "metadata": {},
   "outputs": [],
   "source": [
    "base_dir = '/app/liucd/CODE/zunyi/data/data_299+33'\n",
    "# base_dir = '/app/liucd/CODE/syf/data/data_dec/stage_2'\n",
    "label_dir =  os.path.join(base_dir, 'DWI_label')\n",
    "\n",
    "for seg_name in os.listdir(label_dir):\n",
    "    seg_path = os.path.join(label_dir, seg_name)\n",
    "    \n",
    "    seg_image, raw_labels = conn_region(seg_path)\n",
    "    region_index, volumn_count  = np.unique(raw_labels, return_counts=True)\n",
    "    fore_count = volumn_count[1: ]  # 前景的统计\n",
    "    max_index = fore_count.tolist().index(max(fore_count)) + 1\n",
    "    raw_labels[raw_labels != max_index] = 0\n",
    "    raw_labels[raw_labels == max_index] = 1   \n",
    "\n",
    "    filter_img = sitk.GetImageFromArray(raw_labels)\n",
    "    filter_img.SetDirection(seg_image.GetDirection())\n",
    "    filter_img.SetSpacing(seg_image.GetSpacing())\n",
    "    filter_img.SetOrigin(seg_image.GetOrigin())\n",
    "\n",
    "    sitk.WriteImage(filter_img, os.path.join(base_dir, 'Label_Gen', 'MaxRegion', 'DWI_label', seg_name))\n",
    "    \n",
    "    \n",
    "    "
   ]
  },
  {
   "cell_type": "code",
   "execution_count": null,
   "id": "92b73728-0d57-4468-84e7-d7fcf10fd54b",
   "metadata": {},
   "outputs": [],
   "source": []
  }
 ],
 "metadata": {
  "kernelspec": {
   "display_name": "Python 3 (ipykernel)",
   "language": "python",
   "name": "python3"
  },
  "language_info": {
   "codemirror_mode": {
    "name": "ipython",
    "version": 3
   },
   "file_extension": ".py",
   "mimetype": "text/x-python",
   "name": "python",
   "nbconvert_exporter": "python",
   "pygments_lexer": "ipython3",
   "version": "3.9.13"
  }
 },
 "nbformat": 4,
 "nbformat_minor": 5
}
