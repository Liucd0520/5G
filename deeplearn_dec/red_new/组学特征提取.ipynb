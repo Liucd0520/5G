{
 "cells": [
  {
   "cell_type": "code",
   "execution_count": 1,
   "id": "0437f592",
   "metadata": {},
   "outputs": [],
   "source": [
    "import radiomics\n",
    "from radiomics import featureextractor\n",
    "import os \n",
    "import numpy as np \n",
    "import pandas as pd\n",
    "import SimpleITK as sitk\n",
    "import matplotlib.pyplot as plt\n",
    "import glob\n",
    "import six"
   ]
  },
  {
   "cell_type": "code",
   "execution_count": 13,
   "id": "4017a835",
   "metadata": {},
   "outputs": [],
   "source": [
    "\n",
    "def feature_extractor(image_dir, label_dir,  save_path):\n",
    "\n",
    "    image_path = sorted(glob.glob(os.path.join(image_dir, '*.nii.gz')))\n",
    "    label_path = sorted(glob.glob(os.path.join(label_dir, '*.nii.gz')))\n",
    "#     print(image_path[-1], label_path[-1])\n",
    "    \n",
    "    extractor = featureextractor.RadiomicsFeatureExtractor('./Params.yaml')\n",
    "\n",
    "    feature_name = []\n",
    "    feature_values = []\n",
    "    feature_values_tot_subjects = []\n",
    "    \n",
    "    prefixs = ('original', 'log', 'wavelet')  # 和 Param.yaml想匹配\n",
    "    # origin_list = ['2021_08_16_1732688_DWI.nii.gz']\n",
    "    for idx, (image_name, label_name) in enumerate(zip(image_path, label_path)):\n",
    "        if idx < 181:\n",
    "            continue\n",
    "        subject_name = label_name.split('/')[-1]\n",
    "        print(idx, subject_name)\n",
    "#         if subject_name in origin_list:\n",
    "#             continue\n",
    "            \n",
    "        patient_id = subject_name.split('_')[-3]\n",
    "   \n",
    "        features = extractor.execute(image_name, label_name)\n",
    "        # 对于第一个数据，把所有的特征名称保存到数组里\n",
    "        if idx == 0:  \n",
    "            feature_name = [key for key, value in six.iteritems(features) if key.startswith(prefixs)] \n",
    "            feature_name.insert(0, 'patient_id')\n",
    "        feature_values = [value for key, value in six.iteritems(features)  if key.startswith(prefixs)]    \n",
    "        feature_values.insert(0, patient_id)\n",
    "        # feature_values = renormalized_feature(feature_values)\n",
    "        feature_values_tot_subjects.append(feature_values)\n",
    "\n",
    "    # df = pd.DataFrame(feature_values_tot_subjects, columns=feature_name)\n",
    "    # print(df)\n",
    "    return feature_values_tot_subjects, feature_name\n",
    "    # df.to_csv(save_path, index=False)\n"
   ]
  },
  {
   "cell_type": "code",
   "execution_count": 14,
   "id": "942898fa",
   "metadata": {},
   "outputs": [
    {
     "name": "stdout",
     "output_type": "stream",
     "text": [
      "181 236_1412879_+C_Reg.nii.gz\n"
     ]
    }
   ],
   "source": [
    "base_dir = '/app/liucd/deeplearn_dec/data/xian/merge/'\n",
    "\n",
    "image2_dir = os.path.join(base_dir, 'DCE2')\n",
    "label2_dir = os.path.join(base_dir, 'DCE_labelReg')\n",
    "\n",
    "res, feat = feature_extractor(image2_dir, label2_dir,  'xian.csv')"
   ]
  },
  {
   "cell_type": "code",
   "execution_count": 12,
   "id": "6c4fb87c-bad9-478c-9e90-03a6cc427196",
   "metadata": {},
   "outputs": [
    {
     "data": {
      "text/plain": [
       "205"
      ]
     },
     "execution_count": 12,
     "metadata": {},
     "output_type": "execute_result"
    }
   ],
   "source": [
    "205 (154)  209（）"
   ]
  },
  {
   "cell_type": "code",
   "execution_count": 15,
   "id": "367836f0-c643-4f90-9b82-a29d7b849969",
   "metadata": {},
   "outputs": [
    {
     "data": {
      "text/plain": [
       "(1, 0)"
      ]
     },
     "execution_count": 15,
     "metadata": {},
     "output_type": "execute_result"
    }
   ],
   "source": [
    "len(res), len(feat)"
   ]
  },
  {
   "cell_type": "code",
   "execution_count": 16,
   "id": "96016de7-8a07-4714-9ae1-b17bd5fdf9bb",
   "metadata": {},
   "outputs": [
    {
     "data": {
      "text/plain": [
       "[]"
      ]
     },
     "execution_count": 16,
     "metadata": {},
     "output_type": "execute_result"
    }
   ],
   "source": [
    "feat"
   ]
  },
  {
   "cell_type": "code",
   "execution_count": null,
   "id": "dfd59ace-259b-4ff5-b535-9286cbe84973",
   "metadata": {},
   "outputs": [],
   "source": []
  }
 ],
 "metadata": {
  "kernelspec": {
   "display_name": "Python 3 (ipykernel)",
   "language": "python",
   "name": "python3"
  },
  "language_info": {
   "codemirror_mode": {
    "name": "ipython",
    "version": 3
   },
   "file_extension": ".py",
   "mimetype": "text/x-python",
   "name": "python",
   "nbconvert_exporter": "python",
   "pygments_lexer": "ipython3",
   "version": "3.9.13"
  }
 },
 "nbformat": 4,
 "nbformat_minor": 5
}
